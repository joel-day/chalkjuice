{
 "cells": [
  {
   "cell_type": "markdown",
   "metadata": {},
   "source": [
    "# Trends DataFrame"
   ]
  },
  {
   "cell_type": "code",
   "execution_count": 2,
   "metadata": {},
   "outputs": [],
   "source": [
    "import pandas as pd\n",
    "trends = pd.DataFrame(columns=['team', 'wins_2021', 'wins_2022', 'wins_2023', 'wins_2024', 'wins_diff', 'trending_up'])"
   ]
  },
  {
   "cell_type": "markdown",
   "metadata": {},
   "source": [
    "## connect to MySQL"
   ]
  },
  {
   "cell_type": "code",
   "execution_count": 3,
   "metadata": {},
   "outputs": [],
   "source": [
    "import numpy as np\n",
    "import math\n",
    "import pandas as pd\n",
    "#!pip install pymysql\n",
    "import pymysql as mysql\n",
    "import os\n",
    "import seaborn as sns\n",
    "import matplotlib.pyplot as plt\n",
    "\n",
    "#!pip install tbats\n",
    "from tbats import TBATS\n",
    "import pandas as pd\n",
    "import matplotlib.pyplot as plt"
   ]
  },
  {
   "cell_type": "code",
   "execution_count": 24,
   "metadata": {},
   "outputs": [],
   "source": [
    "cnx = mysql.connect(\n",
    "        host='localhost',\n",
    "        user='root',\n",
    "        passwd=os.getenv('MYSQL'),\n",
    "        database='nfl',\n",
    "        port=int(3306)\n",
    ")"
   ]
  },
  {
   "cell_type": "code",
   "execution_count": 25,
   "metadata": {},
   "outputs": [],
   "source": [
    "cur = cnx.cursor()"
   ]
  },
  {
   "cell_type": "code",
   "execution_count": 26,
   "metadata": {},
   "outputs": [],
   "source": [
    "def sql(query, params=None):\n",
    "    cur = cnx.cursor()\n",
    "    cur.execute(query)\n",
    "    for x in cur:\n",
    "        print(x)"
   ]
  },
  {
   "cell_type": "code",
   "execution_count": 27,
   "metadata": {},
   "outputs": [],
   "source": [
    "def todf(query):\n",
    "    df = pd.read_sql(query, cnx)\n",
    "    return df"
   ]
  },
  {
   "cell_type": "code",
   "execution_count": 28,
   "metadata": {},
   "outputs": [
    {
     "name": "stdout",
     "output_type": "stream",
     "text": [
      "('information_schema',)\n",
      "('mysql',)\n",
      "('nfl',)\n",
      "('performance_schema',)\n",
      "('sys',)\n"
     ]
    }
   ],
   "source": [
    "a = sql('SHOW DATABASES;')"
   ]
  },
  {
   "cell_type": "markdown",
   "metadata": {},
   "source": [
    "## create 3yrs moving average DataFrame"
   ]
  },
  {
   "cell_type": "code",
   "execution_count": 36,
   "metadata": {},
   "outputs": [
    {
     "name": "stderr",
     "output_type": "stream",
     "text": [
      "C:\\Users\\joel\\AppData\\Local\\Temp\\ipykernel_46932\\4042551395.py:2: UserWarning: pandas only supports SQLAlchemy connectable (engine/connection) or database string URI or sqlite3 DBAPI2 connection. Other DBAPI2 objects are not tested. Please consider using SQLAlchemy.\n",
      "  df = pd.read_sql(query, cnx)\n"
     ]
    }
   ],
   "source": [
    "query = \"\"\"\n",
    "SELECT\n",
    "    game_team,\n",
    "    game_year,\n",
    "    COUNT(CASE WHEN game_result = 'W' THEN 1 END) AS wins\n",
    "FROM\n",
    "    games\n",
    "GROUP BY\n",
    "    game_team, game_year\n",
    "ORDER BY\n",
    "    game_team, game_year;\n",
    "\"\"\"\n",
    "\n",
    "# pull data from MySQL database\n",
    "wins = todf(query)\n",
    "\n",
    "# pivot dataframe\n",
    "wins_time_series = wins.pivot(index='game_year', columns='game_team', values='wins')\n",
    "\n",
    "# wieghts for the 3-year moving average\n",
    "weights = np.array([.2, .3, .5]) \n",
    "\n",
    "# empty DataFrame to store the 3-year moving averages\n",
    "three_year_ma_df = pd.DataFrame()\n",
    "\n",
    "# loop through each column in the wins_time_series DataFrame\n",
    "for col in wins_time_series.columns:\n",
    "    new_col_name = f\"{col}_3_year_MA\"\n",
    "    three_year_ma_df[new_col_name] = wins_time_series[col].rolling(window=3).apply(lambda x: np.dot(x, weights), raw=True)\n",
    "\n",
    "# drop the first two rows\n",
    "three_year_ma_df = three_year_ma_df.iloc[2:].reset_index(drop=True)"
   ]
  },
  {
   "cell_type": "markdown",
   "metadata": {},
   "source": [
    "#### list all of the teams"
   ]
  },
  {
   "cell_type": "code",
   "execution_count": 40,
   "metadata": {},
   "outputs": [],
   "source": [
    "teams = wins['game_team'].unique().tolist()"
   ]
  },
  {
   "cell_type": "markdown",
   "metadata": {},
   "source": [
    "## train the TBATS Model"
   ]
  },
  {
   "cell_type": "code",
   "execution_count": 42,
   "metadata": {},
   "outputs": [
    {
     "name": "stdout",
     "output_type": "stream",
     "text": [
      "Success! For team ARI, the 2024 forecast is 5.583202718015681.\n"
     ]
    },
    {
     "name": "stderr",
     "output_type": "stream",
     "text": [
      "C:\\Users\\joel\\AppData\\Local\\Temp\\ipykernel_46932\\3962872568.py:58: FutureWarning: The behavior of DataFrame concatenation with empty or all-NA entries is deprecated. In a future version, this will no longer exclude empty or all-NA columns when determining the result dtypes. To retain the old behavior, exclude the relevant entries before the concat operation.\n",
      "  trends = pd.concat([trends, forecasts_df.iloc[[0]]], ignore_index=True)\n"
     ]
    },
    {
     "name": "stdout",
     "output_type": "stream",
     "text": [
      "Success! For team ATL, the 2024 forecast is 6.937943151796526.\n",
      "Success! For team BAL, the 2024 forecast is 10.859741106871988.\n",
      "Success! For team BUF, the 2024 forecast is 9.731975621934245.\n",
      "Success! For team CAR, the 2024 forecast is 4.459838984109707.\n",
      "Success! For team CHI, the 2024 forecast is 6.6210552474946.\n",
      "Success! For team CIN, the 2024 forecast is 9.972790436571461.\n",
      "Success! For team CLE, the 2024 forecast is 9.350137743354898.\n",
      "Success! For team DAL, the 2024 forecast is 12.019185560050015.\n",
      "Success! For team DEN, the 2024 forecast is 7.13281405665543.\n",
      "Success! For team DET, the 2024 forecast is 8.74446017685748.\n",
      "Success! For team GNB, the 2024 forecast is 9.567859100217627.\n",
      "Success! For team HOU, the 2024 forecast is 5.956877772599885.\n",
      "Success! For team IND, the 2024 forecast is 7.685009751327173.\n",
      "Success! For team JAX, the 2024 forecast is 8.024721157450298.\n",
      "Success! For team KAN, the 2024 forecast is 10.421752394972998.\n",
      "Success! For team LAC, the 2024 forecast is 7.294963829356516.\n",
      "Success! For team LAR, the 2024 forecast is 8.897519230121999.\n",
      "Success! For team LVR, the 2024 forecast is 7.378765663494909.\n",
      "Success! For team MIA, the 2024 forecast is 9.359771795788722.\n",
      "Success! For team MIN, the 2024 forecast is 9.899660947123113.\n",
      "Success! For team NOR, the 2024 forecast is 8.395452375310352.\n",
      "Success! For team NWE, the 2024 forecast is 6.595671927911582.\n",
      "Success! For team NYG, the 2024 forecast is 6.485229404828769.\n",
      "Success! For team NYJ, the 2024 forecast is 6.016862621672937.\n",
      "Success! For team PHI, the 2024 forecast is 11.588273014409111.\n",
      "Success! For team PIT, the 2024 forecast is 9.529172179719302.\n",
      "Success! For team SEA, the 2024 forecast is 8.540161124481756.\n",
      "Success! For team SFO, the 2024 forecast is 11.951564589321285.\n",
      "Success! For team TAM, the 2024 forecast is 9.303731775317486.\n",
      "Success! For team TEN, the 2024 forecast is 7.127250309548438.\n",
      "Success! For team WAS, the 2024 forecast is 6.187702218813931.\n"
     ]
    }
   ],
   "source": [
    "for team in teams:   \n",
    "    seasonal_periods = [24, 6]\n",
    "\n",
    "    # fit TBATS model\n",
    "    model = TBATS(seasonal_periods=seasonal_periods)\n",
    "\n",
    "    # create year +1 forecast\n",
    "    list = three_year_ma_df[f'{team}_3_year_MA'].fillna(0).tolist()\n",
    "    model_1 = model.fit(list)\n",
    "    ma_forecast = model_1.forecast(steps=1)\n",
    "\n",
    "    print(f'Success! For team {team}, the 2024 forecast is {ma_forecast[0]}.')\n",
    "    # create a DataFrame\n",
    "    forecasts_df = pd.DataFrame({\n",
    "        'team': team,\n",
    "        '2024': ma_forecast,\n",
    "    })\n",
    "\n",
    "    # get the previous wins\n",
    "    value_2021 = wins_time_series[f'{team}'].loc[2021]\n",
    "    value_2022 = wins_time_series[f'{team}'].loc[2022]\n",
    "    value_2023 = wins_time_series[f'{team}'].loc[2023]\n",
    "\n",
    "    # insert previous wins\n",
    "    forecasts_df.insert(1, 'wins_2021', value_2021)\n",
    "    forecasts_df.insert(2, 'wins_2022', value_2022)\n",
    "    forecasts_df.insert(3, 'wins_2023', value_2023)\n",
    "\n",
    "    # format the DataFrame\n",
    "    a = forecasts_df['wins_2021'][0].astype(int)\n",
    "    b = forecasts_df['wins_2022'][0].astype(int)\n",
    "    c = forecasts_df['wins_2023'][0].astype(int)\n",
    "\n",
    "    # calculate the forecasted moving average for 2024\n",
    "    cast = ma_forecast\n",
    "\n",
    "    # use moving average to calculate the forecasted wins for 2024\n",
    "    forecasts_df['wins_2024'] = (cast - (.2*a) - (.3*b))/ .5\n",
    "\n",
    "    # Create a new column that is the difference between wins_2024 and wins_2023\n",
    "    forecasts_df['wins_diff'] = forecasts_df['wins_2024'] - forecasts_df['wins_2023']\n",
    "\n",
    "    # create a new 'trending_up' binary column\n",
    "    forecasts_df['trending_up'] = forecasts_df.apply(\n",
    "        lambda row: 1 if row['wins_2024'] > row['wins_2023'] else 0, \n",
    "        axis=1\n",
    "    )\n",
    "\n",
    "    # drop the 2024 moving avergae column\n",
    "    forecasts_df = forecasts_df.drop(columns=['2024'])\n",
    "\n",
    "    # move the 'team' column to the first position\n",
    "    columns = ['team'] + [col for col in forecasts_df.columns if col != 'team']\n",
    "    forecasts_df = forecasts_df[columns]\n",
    "\n",
    "\n",
    "    # add to the 'trends' DataFrame\n",
    "    trends = pd.concat([trends, forecasts_df.iloc[[0]]], ignore_index=True)"
   ]
  },
  {
   "cell_type": "code",
   "execution_count": 7,
   "metadata": {},
   "outputs": [],
   "source": [
    "trends['forecast'] = trends.apply(lambda row: math.ceil(row['wins_2024']) if row['trending_up'] == 1 else math.floor(row['wins_2024']), axis=1)"
   ]
  },
  {
   "cell_type": "code",
   "execution_count": 10,
   "metadata": {},
   "outputs": [],
   "source": [
    "trends = trends.sort_values(by='forecast', ascending=False).reset_index(drop=True)"
   ]
  },
  {
   "cell_type": "code",
   "execution_count": 17,
   "metadata": {},
   "outputs": [],
   "source": [
    "trends.to_csv('forecasts.csv', index=False)"
   ]
  },
  {
   "cell_type": "markdown",
   "metadata": {},
   "source": [
    "## Visuals"
   ]
  },
  {
   "cell_type": "code",
   "execution_count": null,
   "metadata": {},
   "outputs": [],
   "source": [
    "# Plotting the data\n",
    "plt.figure(figsize=(12, 6))\n",
    "plt.plot(three_year_ma_df['Adjusted_Year'], three_year_ma_df['CHI_3_year_MA'], label='CHI_3_year_MA', marker='o')\n",
    "\n",
    "\n",
    "# Add a point at x = 2024\n",
    "forecast_value = chi_forecast \n",
    "plt.scatter(2024, forecast_value, color='red', label='Forecast (2024)')\n",
    "\n",
    "# Adding labels and title\n",
    "plt.xlabel('Adjusted Year')\n",
    "plt.ylabel('MIN 3-Year MA')\n",
    "plt.title('CHI 3-Year Moving Average')\n",
    "plt.legend()\n",
    "plt.grid(True)\n",
    "plt.show()"
   ]
  },
  {
   "cell_type": "markdown",
   "metadata": {},
   "source": [
    "## Polynomial"
   ]
  },
  {
   "cell_type": "code",
   "execution_count": null,
   "metadata": {},
   "outputs": [],
   "source": [
    "# Assuming 'game_year' is the index of the DataFrame\n",
    "years = three_year_ma_df.index  # Access the index 'game_year'\n",
    "values = three_year_ma_df['BUF_3_year_MA'].values\n",
    "\n",
    "# Function to calculate SSE for a given polynomial period\n",
    "def calculate_sse(period, x, y):\n",
    "    # Fit a polynomial of degree 'period' to the data\n",
    "    coeffs = np.polyfit(x, y, period)\n",
    "    \n",
    "    # Predict values using the polynomial\n",
    "    y_pred = np.polyval(coeffs, x)\n",
    "    \n",
    "    # Calculate SSE (Sum of Squared Errors)\n",
    "    sse = np.sum((y - y_pred) ** 2)\n",
    "    return sse, coeffs\n",
    "\n",
    "# Loop through different period values and track the one with the lowest SSE\n",
    "best_period = None\n",
    "lowest_sse = float('inf')\n",
    "best_coeffs = None\n",
    "\n",
    "# Example: testing periods (degrees) from 1 to 5\n",
    "for period in range(6, 22):\n",
    "    sse, coeffs = calculate_sse(period, years, values)\n",
    "    print(f\"Period: {period}, SSE: {sse}\")\n",
    "    \n",
    "    # Update the best period if the current one has a lower SSE\n",
    "    if sse < lowest_sse:\n",
    "        lowest_sse = sse\n",
    "        best_period = period\n",
    "        best_coeffs = coeffs\n",
    "\n",
    "# Output the best period and the corresponding coefficients\n",
    "print(f\"Best period (degree): {best_period}, Lowest SSE: {lowest_sse}\")\n",
    "print(f\"Best polynomial coefficients: {best_coeffs}\")\n",
    "\n",
    "# You can also visualize the fit\n",
    "import matplotlib.pyplot as plt\n",
    "\n",
    "# Plot original data\n",
    "plt.scatter(years, values, label='Original Data', color='blue')\n",
    "\n",
    "# Plot the best-fit polynomial\n",
    "best_fit_values = np.polyval(best_coeffs, years)\n",
    "plt.plot(years, best_fit_values, label=f'Best Fit (Degree {best_period})', color='red')\n",
    "\n",
    "plt.xlabel('Year')\n",
    "plt.ylabel('ARI_3_year_MA')\n",
    "plt.legend()\n",
    "plt.show()\n"
   ]
  }
 ],
 "metadata": {
  "kernelspec": {
   "display_name": "Python 3",
   "language": "python",
   "name": "python3"
  },
  "language_info": {
   "codemirror_mode": {
    "name": "ipython",
    "version": 3
   },
   "file_extension": ".py",
   "mimetype": "text/x-python",
   "name": "python",
   "nbconvert_exporter": "python",
   "pygments_lexer": "ipython3",
   "version": "3.12.4"
  }
 },
 "nbformat": 4,
 "nbformat_minor": 2
}
