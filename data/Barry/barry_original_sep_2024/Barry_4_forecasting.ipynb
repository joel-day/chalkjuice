{
 "cells": [
  {
   "cell_type": "markdown",
   "metadata": {},
   "source": [
    "# A Machine Learning model that uses MySQL as a DataWarehouse to predict upcoming NFL games"
   ]
  },
  {
   "cell_type": "code",
   "execution_count": 3,
   "metadata": {},
   "outputs": [],
   "source": [
    "#!jupyter nbconvert --to markdown NFL_Game_Forecasting.ipynb"
   ]
  },
  {
   "cell_type": "markdown",
   "metadata": {},
   "source": [
    "## The database contains the results and statistics from NFL games dating back to 1967 where each game is represented by two rows - one for each offense/defense matchup. \n",
    "## The data was entered into MySQL using the SQL_NFL_set_MySQL.ipynb script also provided"
   ]
  },
  {
   "cell_type": "code",
   "execution_count": 55,
   "metadata": {},
   "outputs": [],
   "source": [
    "import pandas as pd\n",
    "import numpy as np\n",
    "import pymysql as mysql\n",
    "import joblib\n",
    "import datetime\n",
    "import os\n",
    "import warnings\n",
    "warnings.filterwarnings(\"ignore\")\n"
   ]
  },
  {
   "cell_type": "markdown",
   "metadata": {},
   "source": [
    "## Connect to local MySQL Database"
   ]
  },
  {
   "cell_type": "code",
   "execution_count": 56,
   "metadata": {},
   "outputs": [],
   "source": [
    "cnx = mysql.connect(\n",
    "        host='localhost',\n",
    "        user='root',\n",
    "        passwd=os.getenv('MYSQL'),\n",
    "        database='nfl',\n",
    "        port=int(3306)\n",
    ")"
   ]
  },
  {
   "cell_type": "markdown",
   "metadata": {},
   "source": [
    "## Python definitions to execute SQL scripts"
   ]
  },
  {
   "cell_type": "code",
   "execution_count": 57,
   "metadata": {},
   "outputs": [],
   "source": [
    "cur = cnx.cursor()\n",
    "\n",
    "def sql(query, params=None):\n",
    "    cur = cnx.cursor()\n",
    "    cur.execute(query)\n",
    "    for x in cur:\n",
    "        print(x)\n",
    "\n",
    "def todf(query):\n",
    "    df = pd.read_sql(query, cnx)\n",
    "    return df"
   ]
  },
  {
   "cell_type": "markdown",
   "metadata": {},
   "source": [
    "## The model can be used with user input, so if the provided date is older then there is game data available, the program uses the results of this query to verify that the required data is present, and if it isn’t, the program can change the user input to the value of the ‘oldest_date’.\n",
    "## Due to MySQL limitations, I couldn’t nest the first query within the second query, so there are two parts.\n"
   ]
  },
  {
   "cell_type": "code",
   "execution_count": 58,
   "metadata": {},
   "outputs": [],
   "source": [
    "def oldest_game_date(team, cutoff_date, games_back):\n",
    "\n",
    "    # PART 1: Get the number of games available for modeling for the specified team\n",
    "    # I first calculate the count of games for the team present in the database since the cutoff date. Then I subtract the 'games back' variable (amount of prior games required to generate predictions), which leaves only the dates that are suitable for forecasting.\n",
    "   \n",
    "    query_count = f\"\"\"\n",
    "        SELECT count(*) AS matches_available\n",
    "        FROM games\n",
    "        WHERE game_team = '{team}' \n",
    "            AND STR_TO_DATE(game_date, '%Y-%m-%d') >= '{cutoff_date}'\n",
    "        \"\"\"\n",
    "\n",
    "    matches_counts_df = todf(query_count)\n",
    "    counts = matches_counts_df['matches_available'][0]\n",
    "\n",
    "    dates_available_for_modeling = (counts - games_back)\n",
    "\n",
    "    # PART 2: Get the date of the oldest game date available for modeling\n",
    "    # Uses the 'dates_available_for_modeling' variable to pull the specific value of the ‘oldest_date’ (i.e.  the farthest back I’m able to forecast).\n",
    "    query_oldestdate = f\"\"\"\n",
    "\n",
    "        SELECT MIN(game_date) AS game_date\n",
    "        FROM (\n",
    "            SELECT game_date\n",
    "            FROM games\n",
    "            WHERE game_team = '{team}' \n",
    "                AND STR_TO_DATE(game_date, '%Y-%m-%d') >= '{cutoff_date}'\n",
    "            ORDER BY game_date DESC\n",
    "            LIMIT {dates_available_for_modeling}\n",
    "        ) AS limited_games\n",
    "\n",
    "        \"\"\"\n",
    "\n",
    "    oldest_dates_df = todf(query_oldestdate)\n",
    "\n",
    "    # Isolate the date in the last column (oldest)\n",
    "    oldest_game_date = pd.to_datetime(oldest_dates_df['game_date'][0]).strftime('%Y-%m-%d')\n",
    "\n",
    "    return oldest_game_date"
   ]
  },
  {
   "cell_type": "code",
   "execution_count": 59,
   "metadata": {},
   "outputs": [],
   "source": [
    "# for calculations within the pts_model_data_list_function\n",
    "def weighted_avg(df, col, gb1, gb2, gb3, gb4, weight1, weight2, weight3, weight4, inte = None):\n",
    "\n",
    "    gb2 = gb1 + gb2\n",
    "    gb3 = gb2 + gb3\n",
    "    gb4 = gb3 + gb4\n",
    "\n",
    "    average_gb1 = df[col].iloc[:gb1].mean()\n",
    "    weighted_gb1 = average_gb1 * weight1\n",
    "\n",
    "    average_gb2 = df[col].iloc[gb1:gb2].mean()\n",
    "    weighted_gb2 = average_gb2 * weight2\n",
    "\n",
    "\n",
    "    average_gb3 = df[col].iloc[gb2:gb3].mean()\n",
    "    weighted_gb3 = average_gb3 * weight3\n",
    "\n",
    "    average_gb4 = df[col].iloc[gb3:gb4].mean()\n",
    "    weighted_gb4 = average_gb4 * weight4\n",
    "\n",
    "\n",
    "    weighted_avg = round(((weighted_gb1 + weighted_gb2 + weighted_gb3 + weighted_gb4) / sum([weight1, weight2, weight3, weight4])), 3)\n",
    "\n",
    "    \n",
    "    if inte == 1:\n",
    "        weighted_avg = int(weighted_avg)\n",
    "\n",
    "    return weighted_avg\n",
    "\n",
    "def pts_model_data_list_function(offense_df, defense_df, gb1, gb2, gb3, gb4, weight1, weight2, weight3, weight4):  \n",
    "    \n",
    "    # Offense\n",
    "\n",
    "    # field goal percentage last 10 games\n",
    "    field_goal_percentage = int(round((offense_df['speams_FGM'].iloc[:10].sum() / offense_df['speams_FGA'].iloc[:10].sum()), 3)*100)\n",
    "    clutch_conversion_percentage = int(round((offense_df['downs_3D_con'].iloc[:20].sum() + offense_df['downs_4D_con'].iloc[:20].sum() + offense_df['speams_2PM'].iloc[:20].sum()) / (offense_df['downs_3D_att'].iloc[:20].sum() + offense_df['downs_4D_att'].iloc[:20].sum() + offense_df['speams_2PA'].iloc[:20].sum()), 3)*100)\n",
    "\n",
    "    # drives, passing and rushing td/total yards, passing play percentage\n",
    "    offense_df['drives'] = (offense_df['passing_tds'] + offense_df['rushing_tds'] + offense_df['speams_FGA'] + offense_df['speams_punts_total']).astype(int)\n",
    "    offense_df['passing_tds_total_yards'] = round((offense_df['passing_tds'] / (offense_df['passing_yds'] + offense_df['rushing_yds']))*10000, 1).astype(int)\n",
    "    offense_df['rushing_tds_total_yards'] = round((offense_df['rushing_tds'] / (offense_df['passing_yds'] + offense_df['rushing_yds']))*10000, 0).astype(int)\n",
    "    offense_df['pass_play_percentage'] = round((offense_df['passing_att'] / (offense_df['passing_att'] + offense_df['rushing_att']))*100, 0).astype(int)\n",
    "\n",
    "    # weighted averages\n",
    "    rushing_tds_total_yards = weighted_avg(offense_df, 'rushing_tds_total_yards', gb1, gb2, gb3, gb4, weight1, weight2, weight3, weight4, 1)\n",
    "    passing_tds_total_yards = weighted_avg(offense_df, 'passing_tds_total_yards', gb1, gb2, gb3, gb4, weight1, weight2, weight3, weight4, 1)\n",
    "    pass_play_percentage = weighted_avg(offense_df, 'pass_play_percentage', gb1, gb2, gb3, gb4, weight1, weight2, weight3, weight4, 1)\n",
    "    drives = int(weighted_avg(offense_df, 'drives', gb1, gb2, gb3, gb4, weight1, weight2, weight3, weight4)*10)\n",
    "    game_time_off = int(weighted_avg(offense_df, 'game_time_off', gb1, gb2, gb3, gb4, weight1, weight2, weight3, weight4)*10)\n",
    "    penalties = weighted_avg(offense_df, 'game_pen_yds', gb1, gb2, gb3, gb4, weight1, weight2, weight3, weight4, 1)\n",
    "    passing_yds = weighted_avg(offense_df, 'passing_yds', gb1, gb2, gb3, gb4, weight1, weight2, weight3, weight4, 1)\n",
    "    rushing_yds = weighted_avg(offense_df, 'rushing_yds', gb1, gb2, gb3, gb4, weight1, weight2, weight3, weight4, 1)\n",
    "    passing_sacks_total = int(weighted_avg(offense_df, 'passing_sacks_total', gb1, gb2, gb3, gb4, weight1, weight2, weight3, weight4)*10)\n",
    "    passing_int = int(weighted_avg(offense_df, 'passing_int', gb1, gb2, gb3, gb4, weight1, weight2, weight3, weight4)*100)\n",
    "    rushing_fmb = int(weighted_avg(offense_df, 'rushing_fmb', gb1, gb2, gb3, gb4, weight1, weight2, weight3, weight4)*100)\n",
    "\n",
    "    # Defense\n",
    "\n",
    "    # drives, passing and rushing td/total yards, passing play percentage\n",
    "    defense_df['drives'] = (defense_df['passing_tds'] + defense_df['rushing_tds'] + defense_df['speams_FGA'] + defense_df['speams_punts_total']).astype(int)\n",
    "    defense_df['passing_tds_total_yards'] = round((defense_df['passing_tds'] / (defense_df['passing_yds'] + defense_df['rushing_yds']))*10000, 1).astype(int)\n",
    "    defense_df['rushing_tds_total_yards'] = round((defense_df['rushing_tds'] / (defense_df['passing_yds'] + defense_df['rushing_yds']))*10000, 0).astype(int)\n",
    "    defense_df['pass_play_percentage'] = round((defense_df['passing_att'] / (defense_df['passing_att'] + defense_df['rushing_att']))*100, 0).astype(int)\n",
    "\n",
    "    # weighted averages\n",
    "    def_rushing_tds_total_yards = weighted_avg(defense_df, 'rushing_tds_total_yards', gb1, gb2, gb3, gb4, weight1, weight2, weight3, weight4, 1)\n",
    "    def_passing_tds_total_yards = weighted_avg(defense_df, 'passing_tds_total_yards', gb1, gb2, gb3, gb4, weight1, weight2, weight3, weight4, 1)\n",
    "    def_drives = int(weighted_avg(defense_df, 'drives', gb1, gb2, gb3, gb4, weight1, weight2, weight3, weight4)*10)\n",
    "    def_game_time_off = int(weighted_avg(defense_df, 'game_time_off', gb1, gb2, gb3, gb4, weight1, weight2, weight3, weight4)*10)\n",
    "    def_passing_yds = weighted_avg(defense_df, 'passing_yds', gb1, gb2, gb3, gb4, weight1, weight2, weight3, weight4, 1)\n",
    "    def_rushing_yds = weighted_avg(defense_df, 'rushing_yds', gb1, gb2, gb3, gb4, weight1, weight2, weight3, weight4, 1)\n",
    "    def_passing_sacks_total = int(weighted_avg(defense_df, 'passing_sacks_total', gb1, gb2, gb3, gb4, weight1, weight2, weight3, weight4)*10)\n",
    "    def_passing_int = int(weighted_avg(defense_df, 'passing_int', gb1, gb2, gb3, gb4, weight1, weight2, weight3, weight4)*100)\n",
    "    def_rushing_fmb = int(weighted_avg(defense_df, 'rushing_fmb', gb1, gb2, gb3, gb4, weight1, weight2, weight3, weight4)*100)\n",
    "    def_clutch_conversion_percentage = int(round((defense_df['downs_3D_con'].iloc[:20].sum() + defense_df['downs_4D_con'].iloc[:20].sum() + defense_df['speams_2PM'].iloc[:20].sum()) /\n",
    "                                            (defense_df['downs_3D_att'].iloc[:20].sum() + defense_df['downs_4D_att'].iloc[:20].sum() + defense_df['speams_2PA'].iloc[:20].sum()), 3)*100)\n",
    "\n",
    "\n",
    "    pts_model_data_list = [drives, game_time_off, penalties, passing_yds, rushing_yds, \n",
    "                       passing_tds_total_yards, rushing_tds_total_yards, pass_play_percentage, field_goal_percentage, \n",
    "        clutch_conversion_percentage, passing_sacks_total, passing_int, rushing_fmb, def_passing_yds, def_rushing_yds, \n",
    "        def_passing_tds_total_yards, def_rushing_tds_total_yards, def_game_time_off, def_drives,\n",
    "        def_clutch_conversion_percentage, def_passing_sacks_total, def_passing_int, def_rushing_fmb]\n",
    "    \n",
    "    return pts_model_data_list"
   ]
  },
  {
   "cell_type": "markdown",
   "metadata": {},
   "source": [
    "## When generating forecasts, the program pulls recent game data for each team. This query ensures the program only pulls data relevant to the game at hand. Otherwise, the program will default to loading thousands of useless game details every time it makes a forecast. "
   ]
  },
  {
   "cell_type": "markdown",
   "metadata": {},
   "source": [
    "### This query is specialized to focus on one of the two offense/defense matchups within each game (differentiated in the WHERE clause with game_team and game_opp respectively.\n",
    "### Scripting the {off_date} and {def_date} dates as variables allows the model to be flexible enough to forecast fictional matchups between teams from different years (ie the model can forecast the Minnesota Vikings Offense in 1999 vs the Los Angeles Chargers Defense in 2022).\n"
   ]
  },
  {
   "cell_type": "code",
   "execution_count": 60,
   "metadata": {},
   "outputs": [],
   "source": [
    "# avoids nesting the count function in the oldest date function\n",
    "def match_data_raw(offense, defense, cutoff_date, gb1, gb2, gb3, gb4, weight1, weight2, weight3, weight4, off_date = None, def_date = None):\n",
    "\n",
    "    games_back = gb1 + gb2 + gb3 + gb4 + 1\n",
    "\n",
    "    if off_date is None:\n",
    "        off_date = datetime.now().strftime('%Y-%m-%d')  # Default to current date\n",
    "    if def_date is None:\n",
    "        def_date = datetime.now().strftime('%Y-%m-%d')  # Default to current date\n",
    "\n",
    "    # OFF - Date Formatting\n",
    "    \n",
    "    oldest_game_off = oldest_game_date(offense, cutoff_date, games_back)\n",
    "\n",
    "    if off_date < oldest_game_off:\n",
    "        off_date = oldest_game_off\n",
    "        print(f\"{offense} offense date is too old. Using the oldest available date: {off_date}\")\n",
    "    else:\n",
    "        pass\n",
    "\n",
    "    off_query = f\"\"\"\n",
    "        SELECT *\n",
    "        FROM games\n",
    "        WHERE game_team = '{offense}'\n",
    "                AND STR_TO_DATE(game_date, '%Y-%m-%d') <= '{off_date}'\n",
    "                AND game_result IN ('W', 'L', 'T')\n",
    "        ORDER BY game_date DESC\n",
    "        LIMIT {games_back}\n",
    "        \"\"\"\n",
    "    #generate dataframe for offense\n",
    "    offense_df = todf(off_query)\n",
    "\n",
    "\n",
    "\n",
    "    # DEF - Date Formatting\n",
    "    oldest_game_def = oldest_game_date(defense, cutoff_date, games_back)\n",
    "\n",
    "    if def_date < oldest_game_def:\n",
    "        def_date = oldest_game_def\n",
    "        print(f\"{defense} defense date is too old. Using the oldest available date: {def_date}\")\n",
    "    else:\n",
    "        pass\n",
    "\n",
    "    def_query = f\"\"\"\n",
    "            SELECT *\n",
    "            FROM games\n",
    "            WHERE game_opp = '{defense}'\n",
    "                    AND STR_TO_DATE(game_date, '%Y-%m-%d') <= '{def_date}'\n",
    "                    AND game_result IN ('W', 'L', 'T')\n",
    "            ORDER BY game_date DESC\n",
    "            LIMIT {games_back}\n",
    "            \"\"\"\n",
    "    #generate dataframe defense\n",
    "    defense_df = todf(def_query)\n",
    "\n",
    "\n",
    "    offense_df = offense_df.drop(offense_df.index[0])\n",
    "    defense_df = defense_df.drop(defense_df.index[0])\n",
    "\n",
    "\n",
    "    return pts_model_data_list_function(offense_df, defense_df, gb1, gb2, gb3, gb4, weight1, weight2, weight3, weight4)"
   ]
  },
  {
   "cell_type": "code",
   "execution_count": 61,
   "metadata": {},
   "outputs": [],
   "source": [
    "def forecast(team1, team2, team1_date, team2_date, cutoff_date, lr_model, scaler, limit, sd, *weights):\n",
    "\n",
    "    # create empty dataframe which will be used to train both models\n",
    "    chalk_22_model_df = pd.DataFrame(columns=[ \n",
    "        # Offense\n",
    "        'drives', 'game_time_off', 'penalties',\n",
    "        'passing_yds', 'rushing_yds', 'passing_tds_total_yards', 'rushing_tds_total_yards',\n",
    "        'pass_play_percentage', 'field_goal_percentage', 'clutch_conversion_percentage',\n",
    "        'passing_sacks_total', 'passing_int', 'rushing_fmb',\n",
    "        \n",
    "        # Defense\n",
    "        'def_passing_yds', 'def_rushing_yds', 'def_passing_tds_total_yards', 'def_rushing_tds_total_yards',\n",
    "        'def_game_time_off', 'def_drives', \n",
    "        'def_clutch_conversion_percentage',\n",
    "        'def_passing_sacks_total', 'def_passing_int', 'def_rushing_fmb'\n",
    "        ])\n",
    "\n",
    "    team1_off_list = match_data_raw(team1, team2, cutoff_date, *weights, team1_date, team2_date)\n",
    "    team1_off_list_df = pd.DataFrame([team1_off_list], columns=chalk_22_model_df.columns)\n",
    "    team2_off_list = match_data_raw(team2, team1, cutoff_date, *weights, team2_date, team1_date)\n",
    "    team2_off_list_df = pd.DataFrame([team2_off_list], columns=chalk_22_model_df.columns)\n",
    "    chalk_22_model_df = pd.concat([chalk_22_model_df, team1_off_list_df, team2_off_list_df], ignore_index=True)\n",
    "    chalk_22_model_df_scaled   = pd.DataFrame(scaler.transform(chalk_22_model_df), columns=chalk_22_model_df.columns, index=chalk_22_model_df.index)\n",
    "    predictions = lr_model.predict(chalk_22_model_df_scaled)\n",
    "    team1_mean = predictions[0]\n",
    "    team2_mean = predictions[1]\n",
    "\n",
    "    team1_wins = 0\n",
    "    team2_wins = 0\n",
    "    n = 0\n",
    "\n",
    "    while n < limit:\n",
    "        team1_score = np.random.normal(loc=team1_mean, scale=sd)\n",
    "        team2_score = np.random.normal(loc=team2_mean, scale=sd)\n",
    "\n",
    "        if team1_score > team2_score:\n",
    "            team1_wins = team1_wins + 1\n",
    "        else:\n",
    "            team2_wins = team2_wins + 1\n",
    "\n",
    "        n = n + 1\n",
    "\n",
    "    team1_win_pct = team1_wins / n\n",
    "\n",
    "    return team1_mean, team2_mean, team1_win_pct"
   ]
  },
  {
   "cell_type": "markdown",
   "metadata": {},
   "source": [
    "## Input data and run function (The model and scaler functions are loaded as .pkl files from the local directory)"
   ]
  },
  {
   "cell_type": "code",
   "execution_count": 62,
   "metadata": {},
   "outputs": [],
   "source": [
    "# unique to each game\n",
    "team1 = 'LAR'\n",
    "team2 = 'SFO'\n",
    "team1_date = '2024-9-22'\n",
    "team2_date = '2024-9-22'\n"
   ]
  },
  {
   "cell_type": "code",
   "execution_count": 63,
   "metadata": {},
   "outputs": [],
   "source": [
    "# custom parameters\n",
    "weights = [5, 3, 3, 6, .3, .25, .25, .2]\n",
    "cutoff_date = '1991-06-01'\n",
    "lr_model = joblib.load('lr_model2.pkl')\n",
    "scaler = joblib.load('chalk_22_scaler.pkl')\n",
    "limit = 100000\n",
    "sd = 8"
   ]
  },
  {
   "cell_type": "code",
   "execution_count": 64,
   "metadata": {},
   "outputs": [
    {
     "data": {
      "text/plain": [
       "(20.039397915740075, 26.159247116095834, 0.29325)"
      ]
     },
     "execution_count": 64,
     "metadata": {},
     "output_type": "execute_result"
    }
   ],
   "source": [
    "team1_mean, team2_mean, team1_win_pct = forecast(team1, team2, team1_date, team2_date, cutoff_date, lr_model, scaler, limit, sd, *weights)\n",
    "team1_mean, team2_mean, team1_win_pct"
   ]
  },
  {
   "cell_type": "markdown",
   "metadata": {},
   "source": [
    "## The model gives the Los Angeles Rams a 29.4% chance to beat the San Franscisco 49ers on 9/22/2024"
   ]
  }
 ],
 "metadata": {
  "kernelspec": {
   "display_name": "Python 3",
   "language": "python",
   "name": "python3"
  },
  "language_info": {
   "codemirror_mode": {
    "name": "ipython",
    "version": 3
   },
   "file_extension": ".py",
   "mimetype": "text/x-python",
   "name": "python",
   "nbconvert_exporter": "python",
   "pygments_lexer": "ipython3",
   "version": "3.12.4"
  }
 },
 "nbformat": 4,
 "nbformat_minor": 2
}
