{
 "cells": [
  {
   "cell_type": "markdown",
   "id": "a7b841a3",
   "metadata": {},
   "source": [
    "# Python file to Docker, to ECR, to Lambda "
   ]
  },
  {
   "cell_type": "markdown",
   "id": "aed0eb5b",
   "metadata": {},
   "source": [
    "## Manually Setup Docker Directory"
   ]
  },
  {
   "cell_type": "markdown",
   "id": "a48846c9",
   "metadata": {},
   "source": [
    "lamdba_fxn_name/\n",
    "├── Dockerfile\n",
    "├── app/\n",
    "│   ├── main.py          # Your main Lambda handler\n",
    "│   ├── helper.py        # Your helper functions\n",
    "│   └── requirements.txt # Python dependencies"
   ]
  },
  {
   "cell_type": "markdown",
   "id": "b7f44e59",
   "metadata": {},
   "source": [
    "## Custom Variables"
   ]
  },
  {
   "cell_type": "code",
   "execution_count": 60,
   "id": "b76a6004",
   "metadata": {},
   "outputs": [],
   "source": [
    "lamdba_fxn_name = \"api1_disconnect\""
   ]
  },
  {
   "cell_type": "code",
   "execution_count": 61,
   "id": "52751d5c",
   "metadata": {},
   "outputs": [],
   "source": [
    "# List of AWS managed policy ARNs\n",
    "managed_policies = [\n",
    "    \"arn:aws:iam::aws:policy/AmazonAPIGatewayAdministrator\",\n",
    "    \"arn:aws:iam::aws:policy/AmazonAPIGatewayInvokeFullAccess\",\n",
    "    \"arn:aws:iam::aws:policy/service-role/AmazonAPIGatewayPushToCloudWatchLogs\",\n",
    "    \"arn:aws:iam::aws:policy/AmazonAthenaFullAccess\",\n",
    "    \"arn:aws:iam::aws:policy/AmazonDynamoDBFullAccess\",\n",
    "    \"arn:aws:iam::aws:policy/AmazonEC2ContainerRegistryFullAccess\",\n",
    "    \"arn:aws:iam::aws:policy/AmazonS3FullAccess\",\n",
    "    \"arn:aws:iam::aws:policy/AWSLambda_FullAccess\",\n",
    "]"
   ]
  },
  {
   "cell_type": "markdown",
   "id": "8bd69d49",
   "metadata": {},
   "source": [
    "## Dependencies"
   ]
  },
  {
   "cell_type": "code",
   "execution_count": 62,
   "id": "d471dc72",
   "metadata": {},
   "outputs": [],
   "source": [
    "from packages.helpers.helpers import joel_boto"
   ]
  },
  {
   "cell_type": "markdown",
   "id": "1aa0cf0d",
   "metadata": {},
   "source": [
    "## Functions"
   ]
  },
  {
   "cell_type": "code",
   "execution_count": 63,
   "id": "07cdd9be",
   "metadata": {},
   "outputs": [],
   "source": [
    "def get_dependent_variables(lamdba_fxn_name):\n",
    "    # Naviagte to the directory i want to build in (same name as lambda)\n",
    "    path_docker = f\"../docker/{lamdba_fxn_name}\"\n",
    "\n",
    "    # Get full IAM role ARN from the name\n",
    "    role = jb.iam.get_role(RoleName=lamdba_fxn_name)\n",
    "    role_arn = role[\"Role\"][\"Arn\"]\n",
    "\n",
    "    # Used to connect lamba to the correct ECR repo\n",
    "    repo_uri = jb.get_ecr_repo_uri(lamdba_fxn_name)\n",
    "    repo_image_uri = repo_uri + ':latest'\n",
    "\n",
    "\n",
    "    return path_docker, role_arn, repo_uri, repo_image_uri"
   ]
  },
  {
   "cell_type": "markdown",
   "id": "565bc7f5",
   "metadata": {},
   "source": [
    "## Dependent Variables"
   ]
  },
  {
   "cell_type": "code",
   "execution_count": 64,
   "id": "09c04dde",
   "metadata": {},
   "outputs": [
    {
     "name": "stdout",
     "output_type": "stream",
     "text": [
      "running local credentials\n",
      "✅ Logged in to ECR successfully.\n",
      "✅ Connected to all clients successfully.\n"
     ]
    }
   ],
   "source": [
    "# Connect to custom AWS class\n",
    "jb = joel_boto()"
   ]
  },
  {
   "cell_type": "code",
   "execution_count": 65,
   "id": "c5f27397",
   "metadata": {},
   "outputs": [
    {
     "name": "stdout",
     "output_type": "stream",
     "text": [
      "✅ Created IAM Role: arn:aws:iam::026090519913:role/api1_disconnect\n",
      "🔗 Attached policy: arn:aws:iam::aws:policy/AmazonAPIGatewayAdministrator\n",
      "🔗 Attached policy: arn:aws:iam::aws:policy/AmazonAPIGatewayInvokeFullAccess\n",
      "🔗 Attached policy: arn:aws:iam::aws:policy/service-role/AmazonAPIGatewayPushToCloudWatchLogs\n",
      "🔗 Attached policy: arn:aws:iam::aws:policy/AmazonAthenaFullAccess\n",
      "🔗 Attached policy: arn:aws:iam::aws:policy/AmazonDynamoDBFullAccess\n",
      "🔗 Attached policy: arn:aws:iam::aws:policy/AmazonEC2ContainerRegistryFullAccess\n",
      "🔗 Attached policy: arn:aws:iam::aws:policy/AmazonS3FullAccess\n",
      "🔗 Attached policy: arn:aws:iam::aws:policy/AWSLambda_FullAccess\n"
     ]
    }
   ],
   "source": [
    "jb.create_lambda_iam_role(lamdba_fxn_name, managed_policies)"
   ]
  },
  {
   "cell_type": "code",
   "execution_count": 66,
   "id": "f1ee0685",
   "metadata": {},
   "outputs": [
    {
     "name": "stdout",
     "output_type": "stream",
     "text": [
      "Repository created successfully:\n",
      "026090519913.dkr.ecr.us-east-2.amazonaws.com/api1_disconnect\n"
     ]
    }
   ],
   "source": [
    "# Create ECR Repository (one for each lambda fxn)\n",
    "jb.create_ecr_repository(lamdba_fxn_name)"
   ]
  },
  {
   "cell_type": "code",
   "execution_count": 67,
   "id": "b1dbb446",
   "metadata": {},
   "outputs": [],
   "source": [
    "# Grab Dependent variables\n",
    "path_docker, role_arn, repo_uri, repo_image_uri = get_dependent_variables(lamdba_fxn_name)"
   ]
  },
  {
   "cell_type": "code",
   "execution_count": 68,
   "id": "c050ae74",
   "metadata": {},
   "outputs": [
    {
     "data": {
      "text/plain": [
       "'026090519913.dkr.ecr.us-east-2.amazonaws.com/api1_disconnect'"
      ]
     },
     "execution_count": 68,
     "metadata": {},
     "output_type": "execute_result"
    }
   ],
   "source": [
    "repo_uri"
   ]
  },
  {
   "cell_type": "markdown",
   "id": "66eaeaeb",
   "metadata": {},
   "source": [
    "## Build, Push, and Create Lambda"
   ]
  },
  {
   "cell_type": "code",
   "execution_count": 69,
   "id": "fa5898be",
   "metadata": {},
   "outputs": [
    {
     "name": "stdout",
     "output_type": "stream",
     "text": [
      "✅ Lambda Created: 2025-06-10T07:29:15.848+0000\n"
     ]
    }
   ],
   "source": [
    "# Build Docker image and push to ECR\n",
    "jb.build_and_push_to_ECR(path_docker, repo_uri)\n",
    "\n",
    "# Create a Lambda fxn using Image in ECR\n",
    "jb.create_lambda_function(lamdba_fxn_name, role_arn, repo_image_uri)"
   ]
  },
  {
   "cell_type": "markdown",
   "id": "ea762d98",
   "metadata": {},
   "source": [
    "## Update Lambda if exists to the latest image in ECR"
   ]
  },
  {
   "cell_type": "code",
   "execution_count": 70,
   "id": "91eb869b",
   "metadata": {},
   "outputs": [
    {
     "ename": "ResourceConflictException",
     "evalue": "An error occurred (ResourceConflictException) when calling the UpdateFunctionCode operation: The operation cannot be performed at this time. The resource arn:aws:lambda:us-east-2:026090519913:function:api1_disconnect is currently in the following state: 'Pending'. StateReasonCode: 'Creating'",
     "output_type": "error",
     "traceback": [
      "\u001b[31m---------------------------------------------------------------------------\u001b[39m",
      "\u001b[31mResourceConflictException\u001b[39m                 Traceback (most recent call last)",
      "\u001b[36mCell\u001b[39m\u001b[36m \u001b[39m\u001b[32mIn[70]\u001b[39m\u001b[32m, line 2\u001b[39m\n\u001b[32m      1\u001b[39m \u001b[38;5;66;03m# Update if already Exists\u001b[39;00m\n\u001b[32m----> \u001b[39m\u001b[32m2\u001b[39m \u001b[43mjb\u001b[49m\u001b[43m.\u001b[49m\u001b[43mupdate_lambda_function\u001b[49m\u001b[43m(\u001b[49m\u001b[43mlamdba_fxn_name\u001b[49m\u001b[43m,\u001b[49m\u001b[43m \u001b[49m\u001b[43mrepo_image_uri\u001b[49m\u001b[43m)\u001b[49m\n",
      "\u001b[36mFile \u001b[39m\u001b[32m~\\Documents\\repos\\chalkjuice\\packages\\helpers\\helpers.py:132\u001b[39m, in \u001b[36mjoel_boto.update_lambda_function\u001b[39m\u001b[34m(self, lamdba_fxn_name, repo_image_uri)\u001b[39m\n\u001b[32m    131\u001b[39m \u001b[38;5;28;01mdef\u001b[39;00m\u001b[38;5;250m \u001b[39m\u001b[34mupdate_lambda_function\u001b[39m(\u001b[38;5;28mself\u001b[39m, lamdba_fxn_name, repo_image_uri):    \n\u001b[32m--> \u001b[39m\u001b[32m132\u001b[39m     response = \u001b[38;5;28;43mself\u001b[39;49m\u001b[43m.\u001b[49m\u001b[43mlambda_client\u001b[49m\u001b[43m.\u001b[49m\u001b[43mupdate_function_code\u001b[49m\u001b[43m(\u001b[49m\n\u001b[32m    133\u001b[39m \u001b[43m        \u001b[49m\u001b[43mFunctionName\u001b[49m\u001b[43m=\u001b[49m\u001b[43mlamdba_fxn_name\u001b[49m\u001b[43m,\u001b[49m\n\u001b[32m    134\u001b[39m \u001b[43m        \u001b[49m\u001b[43mImageUri\u001b[49m\u001b[43m=\u001b[49m\u001b[43mrepo_image_uri\u001b[49m\u001b[43m,\u001b[49m\u001b[43m  \u001b[49m\u001b[38;5;66;43;03m# or a specific tag/sha\u001b[39;49;00m\n\u001b[32m    135\u001b[39m \u001b[43m        \u001b[49m\u001b[43mPublish\u001b[49m\u001b[43m=\u001b[49m\u001b[38;5;28;43;01mTrue\u001b[39;49;00m\u001b[43m  \u001b[49m\u001b[38;5;66;43;03m# Optional: set to True to create a new version\u001b[39;49;00m\n\u001b[32m    136\u001b[39m \u001b[43m    \u001b[49m\u001b[43m)\u001b[49m\n\u001b[32m    138\u001b[39m     \u001b[38;5;28mprint\u001b[39m(\u001b[33m\"\u001b[39m\u001b[33m✅ Lambda updated:\u001b[39m\u001b[33m\"\u001b[39m, response[\u001b[33m\"\u001b[39m\u001b[33mLastModified\u001b[39m\u001b[33m\"\u001b[39m])\n",
      "\u001b[36mFile \u001b[39m\u001b[32mc:\\Users\\joel\\Documents\\repos\\chalkjuice\\.venv\\Lib\\site-packages\\botocore\\client.py:565\u001b[39m, in \u001b[36mClientCreator._create_api_method.<locals>._api_call\u001b[39m\u001b[34m(self, *args, **kwargs)\u001b[39m\n\u001b[32m    561\u001b[39m     \u001b[38;5;28;01mraise\u001b[39;00m \u001b[38;5;167;01mTypeError\u001b[39;00m(\n\u001b[32m    562\u001b[39m         \u001b[33mf\u001b[39m\u001b[33m\"\u001b[39m\u001b[38;5;132;01m{\u001b[39;00mpy_operation_name\u001b[38;5;132;01m}\u001b[39;00m\u001b[33m() only accepts keyword arguments.\u001b[39m\u001b[33m\"\u001b[39m\n\u001b[32m    563\u001b[39m     )\n\u001b[32m    564\u001b[39m \u001b[38;5;66;03m# The \"self\" in this scope is referring to the BaseClient.\u001b[39;00m\n\u001b[32m--> \u001b[39m\u001b[32m565\u001b[39m \u001b[38;5;28;01mreturn\u001b[39;00m \u001b[38;5;28;43mself\u001b[39;49m\u001b[43m.\u001b[49m\u001b[43m_make_api_call\u001b[49m\u001b[43m(\u001b[49m\u001b[43moperation_name\u001b[49m\u001b[43m,\u001b[49m\u001b[43m \u001b[49m\u001b[43mkwargs\u001b[49m\u001b[43m)\u001b[49m\n",
      "\u001b[36mFile \u001b[39m\u001b[32mc:\\Users\\joel\\Documents\\repos\\chalkjuice\\.venv\\Lib\\site-packages\\botocore\\client.py:1021\u001b[39m, in \u001b[36mBaseClient._make_api_call\u001b[39m\u001b[34m(self, operation_name, api_params)\u001b[39m\n\u001b[32m   1017\u001b[39m     error_code = error_info.get(\u001b[33m\"\u001b[39m\u001b[33mQueryErrorCode\u001b[39m\u001b[33m\"\u001b[39m) \u001b[38;5;129;01mor\u001b[39;00m error_info.get(\n\u001b[32m   1018\u001b[39m         \u001b[33m\"\u001b[39m\u001b[33mCode\u001b[39m\u001b[33m\"\u001b[39m\n\u001b[32m   1019\u001b[39m     )\n\u001b[32m   1020\u001b[39m     error_class = \u001b[38;5;28mself\u001b[39m.exceptions.from_code(error_code)\n\u001b[32m-> \u001b[39m\u001b[32m1021\u001b[39m     \u001b[38;5;28;01mraise\u001b[39;00m error_class(parsed_response, operation_name)\n\u001b[32m   1022\u001b[39m \u001b[38;5;28;01melse\u001b[39;00m:\n\u001b[32m   1023\u001b[39m     \u001b[38;5;28;01mreturn\u001b[39;00m parsed_response\n",
      "\u001b[31mResourceConflictException\u001b[39m: An error occurred (ResourceConflictException) when calling the UpdateFunctionCode operation: The operation cannot be performed at this time. The resource arn:aws:lambda:us-east-2:026090519913:function:api1_disconnect is currently in the following state: 'Pending'. StateReasonCode: 'Creating'"
     ]
    }
   ],
   "source": [
    "# Update if already Exists\n",
    "jb.update_lambda_function(lamdba_fxn_name, repo_image_uri)"
   ]
  },
  {
   "cell_type": "code",
   "execution_count": null,
   "id": "adc49131",
   "metadata": {},
   "outputs": [],
   "source": []
  }
 ],
 "metadata": {
  "kernelspec": {
   "display_name": ".venv",
   "language": "python",
   "name": "python3"
  },
  "language_info": {
   "codemirror_mode": {
    "name": "ipython",
    "version": 3
   },
   "file_extension": ".py",
   "mimetype": "text/x-python",
   "name": "python",
   "nbconvert_exporter": "python",
   "pygments_lexer": "ipython3",
   "version": "3.12.9"
  }
 },
 "nbformat": 4,
 "nbformat_minor": 5
}
