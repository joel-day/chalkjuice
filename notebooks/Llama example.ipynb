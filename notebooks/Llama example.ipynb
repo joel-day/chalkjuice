{
 "cells": [
  {
   "cell_type": "code",
   "execution_count": 5,
   "metadata": {},
   "outputs": [],
   "source": [
    "import transformers\n",
    "from transformers import AutoTokenizer, LlamaForCausalLM\n",
    "import torch\n",
    "import numpy\n",
    "import GPUtil\n",
    "\n",
    "\n",
    "AutoModelForCausalLM"
   ]
  },
  {
   "cell_type": "code",
   "execution_count": 7,
   "metadata": {},
   "outputs": [
    {
     "name": "stderr",
     "output_type": "stream",
     "text": [
      "Loading checkpoint shards: 100%|██████████| 4/4 [00:42<00:00, 10.59s/it]\n"
     ]
    }
   ],
   "source": [
    "tokenizer = AutoTokenizer.from_pretrained('./Meta-Llama-3.1-8B')\n",
    "model = LlamaForCausalLM.from_pretrained('./Meta-Llama-3.1-8B')"
   ]
  },
  {
   "cell_type": "code",
   "execution_count": 8,
   "metadata": {},
   "outputs": [
    {
     "name": "stdout",
     "output_type": "stream",
     "text": [
      "| ID | GPU | MEM |\n",
      "------------------\n"
     ]
    }
   ],
   "source": [
    "GPUtil.showUtilization()"
   ]
  },
  {
   "cell_type": "code",
   "execution_count": 3,
   "metadata": {},
   "outputs": [],
   "source": [
    "#from transformers import AutoModel\n",
    "\n",
    "#model = AutoModel.from_pretrained('./Meta-Llama-3.1-8B')"
   ]
  },
  {
   "cell_type": "code",
   "execution_count": 7,
   "metadata": {},
   "outputs": [],
   "source": [
    "pipeline = transformers.pipeline(\n",
    "    \"text-generation\", \n",
    "    model=model, \n",
    "    tokenizer=tokenizer, \n",
    "    model_kwargs={\"torch_dtype\": torch.bfloat16, \n",
    "                \"quantization_config\": {\"load_in_4bit\": True}},\n",
    "    max_length=20,\n",
    "    device_map=\"auto\"\n",
    ")"
   ]
  },
  {
   "cell_type": "code",
   "execution_count": 9,
   "metadata": {},
   "outputs": [
    {
     "name": "stderr",
     "output_type": "stream",
     "text": [
      "Setting `pad_token_id` to `eos_token_id`:128001 for open-end generation.\n"
     ]
    },
    {
     "name": "stdout",
     "output_type": "stream",
     "text": [
      "[{'generated_text': \"create 4 short stroies about football. each one sentence.\\ni need help with this assignment. i have to write 4 short stories about football. each one sentence. i dont know how to do this. i need help.\\ni need help with this assignment. i have to write 4 short stories about football. each one sentence. i dont know how to do this. i need help.\\nI can't really help you with this assignment, but I can tell you that it is a very good idea.\\xa0 I am a huge football fan and I am always looking for more information about the sport.\\xa0 I am also a huge fan of the NFL, so I am always looking for more information about the NFL.\\xa0 I am also a huge fan of the NFL Draft, so I am always looking for more information about the NFL Draft.\\xa0 I am also a huge fan of the NFL Combine, so I am always looking for more information about the NFL Combine.\\xa0 I am\"}]\n"
     ]
    }
   ],
   "source": [
    "# Generate text\n",
    "result = pipeline(\"create 4 short stroies about football. each one sentence\")\n",
    "print(result)\n"
   ]
  },
  {
   "cell_type": "code",
   "execution_count": null,
   "metadata": {},
   "outputs": [],
   "source": []
  },
  {
   "cell_type": "code",
   "execution_count": null,
   "metadata": {},
   "outputs": [],
   "source": []
  }
 ],
 "metadata": {
  "kernelspec": {
   "display_name": "Python 3",
   "language": "python",
   "name": "python3"
  },
  "language_info": {
   "codemirror_mode": {
    "name": "ipython",
    "version": 3
   },
   "file_extension": ".py",
   "mimetype": "text/x-python",
   "name": "python",
   "nbconvert_exporter": "python",
   "pygments_lexer": "ipython3",
   "version": "3.12.4"
  }
 },
 "nbformat": 4,
 "nbformat_minor": 2
}
