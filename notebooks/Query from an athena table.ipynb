{
 "cells": [
  {
   "cell_type": "code",
   "execution_count": 1,
   "metadata": {},
   "outputs": [],
   "source": [
    "import boto3\n",
    "import time\n",
    "import pandas as pd"
   ]
  },
  {
   "cell_type": "code",
   "execution_count": 2,
   "metadata": {},
   "outputs": [],
   "source": [
    "def create_df_from_athena_query(query, AWS_REGION, DATABASE, S3_OUTPUT):\n",
    "    athena_client = boto3.client(\"athena\", region_name=AWS_REGION)\n",
    "\n",
    "    # Start Query Execution\n",
    "    response = athena_client.start_query_execution(\n",
    "        QueryString=query,\n",
    "        QueryExecutionContext={\"Database\": DATABASE},\n",
    "        ResultConfiguration={\"OutputLocation\": S3_OUTPUT},\n",
    "    )\n",
    "\n",
    "    # Get Query Execution ID\n",
    "    query_execution_id = response[\"QueryExecutionId\"]\n",
    "\n",
    "    # Wait for Query to Complete\n",
    "    while True:\n",
    "        status = athena_client.get_query_execution(QueryExecutionId=query_execution_id)\n",
    "        state = status[\"QueryExecution\"][\"Status\"][\"State\"]\n",
    "        print(state)\n",
    "        \n",
    "        if state in [\"SUCCEEDED\", \"FAILED\", \"CANCELLED\"]:\n",
    "            break\n",
    "        \n",
    "        time.sleep(.1)  # Check every .1 seconds\n",
    "\n",
    "    if state != \"SUCCEEDED\":\n",
    "        raise Exception(f\"Athena query failed with state: {state}\")\n",
    "\n",
    "    # Get Query Results\n",
    "    results = athena_client.get_query_results(QueryExecutionId=query_execution_id)\n",
    "\n",
    "    columns = [col[\"Label\"] for col in results[\"ResultSet\"][\"ResultSetMetadata\"][\"ColumnInfo\"]]\n",
    "\n",
    "    # Extract Rows\n",
    "    rows = []\n",
    "    for row in results[\"ResultSet\"][\"Rows\"][1:]:  # Skip header row\n",
    "        extracted_row = [col.get(\"VarCharValue\", None) for col in row[\"Data\"]]  # Extract actual values\n",
    "        rows.append(extracted_row)\n",
    "\n",
    "    # Convert to Pandas DataFrame\n",
    "    df = pd.DataFrame(rows, columns=columns)\n",
    "    df = df.fillna(\"NA\")\n",
    "    df.columns = df.columns.str.replace('_', ' ').str.title()\n",
    "\n",
    "    return df"
   ]
  },
  {
   "cell_type": "markdown",
   "metadata": {},
   "source": [
    "## Query"
   ]
  },
  {
   "cell_type": "code",
   "execution_count": 3,
   "metadata": {},
   "outputs": [],
   "source": [
    "# AWS Credentials & Region\n",
    "AWS_REGION = \"us-east-2\"  # Change to your region\n",
    "DATABASE = \"chalk\"\n",
    "S3_OUTPUT = \"s3://chalkjuice/golden_athena/\"  # Replace with your actual S3 bucket\n",
    "\n",
    "# Construct Query\n",
    "TABLE = \"chalkjuice_data\"\n",
    "team_name = \"MIN\"\n",
    "year1, year2, year3 = 2021, 2022, 2023  # Adjust years as needed\n",
    "\n",
    "query = f'''\n",
    "    SELECT * FROM \"{DATABASE}\".\"{TABLE}\" \n",
    "    WHERE season IN ({year1}, {year2}, {year3});\n",
    "'''"
   ]
  },
  {
   "cell_type": "code",
   "execution_count": null,
   "metadata": {},
   "outputs": [
    {
     "name": "stdout",
     "output_type": "stream",
     "text": [
      "QUEUED\n",
      "QUEUED\n",
      "RUNNING\n",
      "RUNNING\n",
      "RUNNING\n",
      "SUCCEEDED\n"
     ]
    },
    {
     "ename": "ValueError",
     "evalue": "Length of ascending (3) != length of by (2)",
     "output_type": "error",
     "traceback": [
      "\u001b[31m---------------------------------------------------------------------------\u001b[39m",
      "\u001b[31mValueError\u001b[39m                                Traceback (most recent call last)",
      "\u001b[32m~\\AppData\\Local\\Temp\\ipykernel_9424\\827121804.py\u001b[39m in \u001b[36m?\u001b[39m\u001b[34m()\u001b[39m\n\u001b[32m      1\u001b[39m df = create_df_from_athena_query(query, AWS_REGION, DATABASE, S3_OUTPUT)\n\u001b[32m      2\u001b[39m df[\u001b[33m'Date'\u001b[39m] = pd.to_datetime(df[\u001b[33m'Date'\u001b[39m])                                     \u001b[38;5;66;03m# OPTIONAL: Convert date column to datetime\u001b[39;00m\n\u001b[32m----> \u001b[39m\u001b[32m3\u001b[39m df = df.sort_values(by=[\u001b[33m'Season'\u001b[39m, \u001b[33m'Date'\u001b[39m], ascending=[\u001b[38;5;28;01mFalse\u001b[39;00m, \u001b[38;5;28;01mTrue\u001b[39;00m, \u001b[38;5;28;01mTrue\u001b[39;00m])   \u001b[38;5;66;03m# OPTIONAL: Sort by Season then Date\u001b[39;00m\n\u001b[32m      4\u001b[39m df.head(\u001b[32m10\u001b[39m)\n",
      "\u001b[32mc:\\Users\\joel\\AppData\\Local\\Programs\\Python\\Python312\\Lib\\site-packages\\pandas\\core\\frame.py\u001b[39m in \u001b[36m?\u001b[39m\u001b[34m(self, by, axis, ascending, inplace, kind, na_position, ignore_index, key)\u001b[39m\n\u001b[32m   7163\u001b[39m             len(by) != len(ascending)  \u001b[38;5;66;03m# type: ignore[arg-type]\u001b[39;00m\n\u001b[32m   7164\u001b[39m         ):\n\u001b[32m   7165\u001b[39m             \u001b[38;5;66;03m# error: Argument 1 to \"len\" has incompatible type \"Union[bool,\u001b[39;00m\n\u001b[32m   7166\u001b[39m             \u001b[38;5;66;03m# List[bool]]\"; expected \"Sized\"\u001b[39;00m\n\u001b[32m-> \u001b[39m\u001b[32m7167\u001b[39m             raise ValueError(\n\u001b[32m   7168\u001b[39m                 f\"Length of ascending ({len(ascending)})\"  \u001b[38;5;66;03m# type: ignore[arg-type]\u001b[39;00m\n\u001b[32m   7169\u001b[39m                 f\" != length of by ({len(by)})\"\n\u001b[32m   7170\u001b[39m             )\n",
      "\u001b[31mValueError\u001b[39m: Length of ascending (3) != length of by (2)"
     ]
    }
   ],
   "source": [
    "df = create_df_from_athena_query(query, AWS_REGION, DATABASE, S3_OUTPUT)\n",
    "df['Date'] = pd.to_datetime(df['Date'])                                     # OPTIONAL: Convert date column to datetime\n",
    "df = df.sort_values(by=['Season', 'Date'], ascending=[False, True])   # OPTIONAL: Sort by Season then Date\n",
    "df.head(10)"
   ]
  },
  {
   "cell_type": "code",
   "execution_count": null,
   "metadata": {},
   "outputs": [],
   "source": []
  }
 ],
 "metadata": {
  "kernelspec": {
   "display_name": "Python 3",
   "language": "python",
   "name": "python3"
  },
  "language_info": {
   "codemirror_mode": {
    "name": "ipython",
    "version": 3
   },
   "file_extension": ".py",
   "mimetype": "text/x-python",
   "name": "python",
   "nbconvert_exporter": "python",
   "pygments_lexer": "ipython3",
   "version": "3.12.9"
  }
 },
 "nbformat": 4,
 "nbformat_minor": 2
}
