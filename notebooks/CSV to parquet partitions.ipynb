{
 "cells": [
  {
   "cell_type": "markdown",
   "metadata": {},
   "source": [
    "# CSV to Athena"
   ]
  },
  {
   "cell_type": "markdown",
   "metadata": {},
   "source": [
    "## Setup"
   ]
  },
  {
   "cell_type": "code",
   "execution_count": 21,
   "metadata": {},
   "outputs": [],
   "source": [
    "import boto3\n",
    "import pandas as pd\n",
    "import io\n",
    "from dotenv import load_dotenv\n",
    "import os"
   ]
  },
  {
   "cell_type": "code",
   "execution_count": 22,
   "metadata": {},
   "outputs": [],
   "source": [
    "def create_boto3_session():\n",
    "    # Load .env file variables into the environment\n",
    "    load_dotenv()\n",
    "    aws_access_key = os.getenv(\"AWS_ACCESS_KEY_ID\")\n",
    "    aws_secret_key = os.getenv(\"AWS_SECRET_ACCESS_KEY\")\n",
    "    aws_region = os.getenv(\"AWS_DEFAULT_REGION\")\n",
    "\n",
    "    # Safety check\n",
    "    if not aws_access_key or not aws_secret_key:\n",
    "        raise ValueError(\"Missing AWS credentials in .env file.\")\n",
    "\n",
    "    # Create boto3 session\n",
    "    boto3_session = boto3.Session(\n",
    "        aws_access_key_id=aws_access_key,\n",
    "        aws_secret_access_key=aws_secret_key,\n",
    "        region_name=aws_region\n",
    "    )\n",
    "\n",
    "    return boto3_session"
   ]
  },
  {
   "cell_type": "code",
   "execution_count": 23,
   "metadata": {},
   "outputs": [],
   "source": [
    "# Pulls the specified file from s3 and loads into pandas df\n",
    "def connect_to_s3(boto3_session): \n",
    "    # Create an S3 client\n",
    "    s3_client = boto3_session.client(\"s3\")\n",
    "\n",
    "    # Create S3 resource\n",
    "    s3_resource = boto3_session.resource(\"s3\")\n",
    "\n",
    "    return s3_client, s3_resource"
   ]
  },
  {
   "cell_type": "code",
   "execution_count": 10,
   "metadata": {},
   "outputs": [],
   "source": [
    "# Pulls the specified file from s3 and loads into pandas df\n",
    "def s3_csv_to_df(s3_client, s3_bucket, csv_key): \n",
    "    # Read CSV from S3 int pandas\n",
    "    obj = s3_client.get_object(Bucket=s3_bucket, Key=csv_key)\n",
    "    df = pd.read_csv(obj[\"Body\"])\n",
    "\n",
    "    return df"
   ]
  },
  {
   "cell_type": "code",
   "execution_count": 11,
   "metadata": {},
   "outputs": [],
   "source": [
    "# Handle data types for athena\n",
    "def df_data_types(df):\n",
    "\n",
    "    return df"
   ]
  },
  {
   "cell_type": "code",
   "execution_count": 12,
   "metadata": {},
   "outputs": [],
   "source": [
    "# Creates parguet files from a df with specific partitioning and destination location\n",
    "def df_to_s3_parquet(s3_resource, df, s3_bucket, partition_by, partitioned_folder):\n",
    "    # Loop through each unique year\n",
    "    for year in df[partition_by].unique():\n",
    "        # Filter data for that year\n",
    "        df_year = df[df[partition_by] == year]\n",
    "\n",
    "        df_year = df_year.drop(columns=[partition_by])\n",
    "\n",
    "        # Convert to Parquet using BytesIO (correct for binary files)\n",
    "        # Dont use StringIO(), which is meant for handling text data (like CSV)\n",
    "        buffer = io.BytesIO()\n",
    "        df_year.to_parquet(buffer, index=False, engine=\"pyarrow\")\n",
    "\n",
    "        # Move buffer position to the beginning\n",
    "        buffer.seek(0)\n",
    "\n",
    "        # Define S3 key (file path)\n",
    "        parquet_key = f\"{partitioned_folder}season={year}/data.parquet\"\n",
    "\n",
    "        # Upload to S3\n",
    "        s3_resource.Object(s3_bucket, parquet_key).put(Body=buffer)\n",
    "\n",
    "        print(f\"Uploaded {parquet_key} to S3 ✅\")"
   ]
  },
  {
   "cell_type": "markdown",
   "metadata": {},
   "source": [
    "## CSV to parquet partitions"
   ]
  },
  {
   "cell_type": "markdown",
   "metadata": {},
   "source": [
    "### Custom variables"
   ]
  },
  {
   "cell_type": "code",
   "execution_count": 13,
   "metadata": {},
   "outputs": [],
   "source": [
    "s3_bucket = \"chalkjuice\"                    # csv bucket\n",
    "csv_key = \"golden.csv\"                      # csv file name\n",
    "\n",
    "partition_by = \"season\"                     # Define column to partition by \n",
    "partitioned_folder = \"golden_partitions/\"   # Define new S3 folder for new partitions"
   ]
  },
  {
   "cell_type": "markdown",
   "metadata": {},
   "source": [
    "### Connect to S3 with boto3"
   ]
  },
  {
   "cell_type": "code",
   "execution_count": 25,
   "metadata": {},
   "outputs": [],
   "source": [
    "boto3_session = create_boto3_session()\n",
    "s3_client, s3_resource = connect_to_s3(boto3_session)"
   ]
  },
  {
   "cell_type": "markdown",
   "metadata": {},
   "source": [
    "### Return the s3 csv as a pandas df"
   ]
  },
  {
   "cell_type": "code",
   "execution_count": 15,
   "metadata": {},
   "outputs": [],
   "source": [
    "df = s3_csv_to_df(s3_client, s3_bucket, csv_key)"
   ]
  },
  {
   "cell_type": "code",
   "execution_count": 16,
   "metadata": {},
   "outputs": [
    {
     "data": {
      "application/vnd.microsoft.datawrangler.viewer.v0+json": {
       "columns": [
        {
         "name": "index",
         "rawType": "int64",
         "type": "integer"
        },
        {
         "name": "date",
         "rawType": "object",
         "type": "string"
        },
        {
         "name": "week",
         "rawType": "int64",
         "type": "integer"
        },
        {
         "name": "team",
         "rawType": "object",
         "type": "string"
        },
        {
         "name": "opponent",
         "rawType": "object",
         "type": "string"
        },
        {
         "name": "result",
         "rawType": "object",
         "type": "string"
        },
        {
         "name": "Points",
         "rawType": "int64",
         "type": "integer"
        },
        {
         "name": "points_allowed",
         "rawType": "int64",
         "type": "integer"
        },
        {
         "name": "overtime",
         "rawType": "int64",
         "type": "integer"
        },
        {
         "name": "home_game",
         "rawType": "int64",
         "type": "integer"
        },
        {
         "name": "passing_com",
         "rawType": "int64",
         "type": "integer"
        },
        {
         "name": "passing_att",
         "rawType": "int64",
         "type": "integer"
        },
        {
         "name": "passing_yds",
         "rawType": "int64",
         "type": "integer"
        },
        {
         "name": "passing_tds",
         "rawType": "int64",
         "type": "integer"
        },
        {
         "name": "passing_int",
         "rawType": "int64",
         "type": "integer"
        },
        {
         "name": "passing_times_sacked",
         "rawType": "int64",
         "type": "integer"
        },
        {
         "name": "passing_sack_yards",
         "rawType": "int64",
         "type": "integer"
        },
        {
         "name": "rushing_att",
         "rawType": "int64",
         "type": "integer"
        },
        {
         "name": "rushing_yds",
         "rawType": "int64",
         "type": "integer"
        },
        {
         "name": "rush_tds",
         "rawType": "int64",
         "type": "integer"
        },
        {
         "name": "fmb",
         "rawType": "int64",
         "type": "integer"
        },
        {
         "name": "3D_att",
         "rawType": "float64",
         "type": "float"
        },
        {
         "name": "3D_conversions",
         "rawType": "float64",
         "type": "float"
        },
        {
         "name": "4D_att",
         "rawType": "float64",
         "type": "float"
        },
        {
         "name": "4D_conversions",
         "rawType": "float64",
         "type": "float"
        },
        {
         "name": "Time_of_possession",
         "rawType": "float64",
         "type": "float"
        },
        {
         "name": "XPM",
         "rawType": "int64",
         "type": "integer"
        },
        {
         "name": "XPA",
         "rawType": "int64",
         "type": "integer"
        },
        {
         "name": "FGM",
         "rawType": "int64",
         "type": "integer"
        },
        {
         "name": "FGA",
         "rawType": "int64",
         "type": "integer"
        },
        {
         "name": "total_penalties",
         "rawType": "int64",
         "type": "integer"
        },
        {
         "name": "penalty_yds",
         "rawType": "int64",
         "type": "integer"
        },
        {
         "name": "punts_total",
         "rawType": "int64",
         "type": "integer"
        },
        {
         "name": "punts_yds",
         "rawType": "int64",
         "type": "integer"
        },
        {
         "name": "punts_blocks",
         "rawType": "int64",
         "type": "integer"
        },
        {
         "name": "2PM",
         "rawType": "int64",
         "type": "integer"
        },
        {
         "name": "2PA",
         "rawType": "int64",
         "type": "integer"
        },
        {
         "name": "safety",
         "rawType": "int64",
         "type": "integer"
        },
        {
         "name": "XPR",
         "rawType": "int64",
         "type": "integer"
        },
        {
         "name": "Pick_6",
         "rawType": "int64",
         "type": "integer"
        },
        {
         "name": "tds_fmb",
         "rawType": "int64",
         "type": "integer"
        },
        {
         "name": "tds_KR",
         "rawType": "int64",
         "type": "integer"
        },
        {
         "name": "tds_PR",
         "rawType": "int64",
         "type": "integer"
        },
        {
         "name": "tds_blocked_fg",
         "rawType": "int64",
         "type": "integer"
        },
        {
         "name": "tds_blocked_punt",
         "rawType": "int64",
         "type": "integer"
        },
        {
         "name": "tds_walkoff",
         "rawType": "int64",
         "type": "integer"
        },
        {
         "name": "tds_other",
         "rawType": "int64",
         "type": "integer"
        },
        {
         "name": "1D_passes",
         "rawType": "float64",
         "type": "float"
        },
        {
         "name": "1D_runs",
         "rawType": "float64",
         "type": "float"
        },
        {
         "name": "weekday",
         "rawType": "object",
         "type": "string"
        },
        {
         "name": "season",
         "rawType": "int64",
         "type": "integer"
        },
        {
         "name": "game_duration_minutes",
         "rawType": "float64",
         "type": "float"
        }
       ],
       "ref": "37e0ab3d-dd71-4603-96f2-817c0918dfe1",
       "rows": [
        [
         "0",
         "9/3/1967",
         "1",
         "DEN",
         "NWE",
         "W",
         "26",
         "21",
         "0",
         "0",
         "8",
         "19",
         "117",
         "2",
         "0",
         "3",
         "28",
         "40",
         "92",
         "0",
         "1",
         null,
         null,
         null,
         null,
         null,
         "2",
         "3",
         "2",
         "2",
         "3",
         "30",
         "7",
         "357",
         "0",
         "0",
         "0",
         "0",
         "0",
         "1",
         "0",
         "0",
         "0",
         "0",
         "0",
         "0",
         "0",
         null,
         null,
         "Sunday",
         "1967",
         null
        ],
        [
         "1",
         "9/3/1967",
         "1",
         "NWE",
         "DEN",
         "L",
         "21",
         "26",
         "0",
         "1",
         "16",
         "30",
         "212",
         "3",
         "6",
         "2",
         "22",
         "21",
         "90",
         "0",
         "1",
         null,
         null,
         null,
         null,
         null,
         "3",
         "3",
         "0",
         "0",
         "5",
         "58",
         "5",
         "210",
         "0",
         "0",
         "0",
         "0",
         "0",
         "0",
         "0",
         "0",
         "0",
         "0",
         "0",
         "0",
         "0",
         null,
         null,
         "Sunday",
         "1967",
         null
        ],
        [
         "2",
         "9/9/1967",
         "2",
         "KAN",
         "TEN",
         "W",
         "25",
         "20",
         "0",
         "1",
         "17",
         "19",
         "171",
         "1",
         "1",
         "4",
         "22",
         "35",
         "141",
         "1",
         "0",
         null,
         null,
         null,
         null,
         null,
         "2",
         "2",
         "1",
         "2",
         "10",
         "117",
         "4",
         "150",
         "0",
         "1",
         "1",
         "0",
         "0",
         "1",
         "0",
         "0",
         "0",
         "0",
         "0",
         "0",
         "0",
         null,
         null,
         "Saturday",
         "1967",
         null
        ],
        [
         "3",
         "9/9/1967",
         "2",
         "LAC",
         "NWE",
         "W",
         "28",
         "14",
         "0",
         "0",
         "16",
         "30",
         "268",
         "2",
         "1",
         "0",
         "0",
         "28",
         "62",
         "1",
         "1",
         null,
         null,
         null,
         null,
         null,
         "4",
         "4",
         "0",
         "3",
         "3",
         "45",
         "5",
         "153",
         "0",
         "0",
         "0",
         "0",
         "0",
         "1",
         "0",
         "0",
         "0",
         "0",
         "0",
         "0",
         "0",
         null,
         null,
         "Saturday",
         "1967",
         null
        ],
        [
         "4",
         "9/9/1967",
         "2",
         "NWE",
         "LAC",
         "L",
         "14",
         "28",
         "0",
         "1",
         "19",
         "35",
         "194",
         "2",
         "2",
         "2",
         "14",
         "36",
         "128",
         "0",
         "2",
         null,
         null,
         null,
         null,
         null,
         "2",
         "2",
         "0",
         "1",
         "3",
         "35",
         "6",
         "231",
         "0",
         "0",
         "0",
         "0",
         "0",
         "0",
         "0",
         "0",
         "0",
         "0",
         "0",
         "0",
         "0",
         null,
         null,
         "Saturday",
         "1967",
         null
        ],
        [
         "5",
         "9/9/1967",
         "2",
         "TEN",
         "KAN",
         "L",
         "20",
         "25",
         "0",
         "0",
         "16",
         "25",
         "158",
         "1",
         "2",
         "0",
         "0",
         "33",
         "178",
         "2",
         "0",
         null,
         null,
         null,
         null,
         null,
         "2",
         "3",
         "0",
         "0",
         "7",
         "128",
         "2",
         "80",
         "0",
         "0",
         "0",
         "0",
         "0",
         "0",
         "0",
         "0",
         "0",
         "0",
         "0",
         "0",
         "0",
         null,
         null,
         "Saturday",
         "1967",
         null
        ],
        [
         "6",
         "9/10/1967",
         "2",
         "BUF",
         "NYJ",
         "W",
         "20",
         "17",
         "0",
         "0",
         "57",
         "34",
         "159",
         "2",
         "2",
         "4",
         "48",
         "22",
         "89",
         "0",
         "0",
         null,
         null,
         null,
         null,
         null,
         "2",
         "2",
         "2",
         "3",
         "7",
         "67",
         "5",
         "242",
         "0",
         "0",
         "0",
         "0",
         "0",
         "0",
         "0",
         "0",
         "0",
         "0",
         "0",
         "0",
         "0",
         null,
         null,
         "Sunday",
         "1967",
         null
        ],
        [
         "7",
         "9/10/1967",
         "2",
         "DEN",
         "LVR",
         "L",
         "0",
         "51",
         "0",
         "0",
         "2",
         "16",
         "17",
         "0",
         "1",
         "7",
         "70",
         "24",
         "48",
         "0",
         "1",
         null,
         null,
         null,
         null,
         null,
         "0",
         "0",
         "0",
         "0",
         "2",
         "11",
         "12",
         "565",
         "0",
         "0",
         "0",
         "0",
         "0",
         "0",
         "0",
         "0",
         "0",
         "0",
         "0",
         "0",
         "0",
         null,
         null,
         "Sunday",
         "1967",
         null
        ],
        [
         "8",
         "9/10/1967",
         "2",
         "LVR",
         "DEN",
         "W",
         "51",
         "0",
         "0",
         "0",
         "11",
         "21",
         "180",
         "2",
         "1",
         "4",
         "49",
         "43",
         "208",
         "4",
         "0",
         null,
         null,
         null,
         null,
         null,
         "6",
         "7",
         "1",
         "2",
         "4",
         "40",
         "4",
         "177",
         "0",
         "0",
         "0",
         "0",
         "0",
         "1",
         "0",
         "0",
         "0",
         "0",
         "0",
         "0",
         "0",
         null,
         null,
         "Sunday",
         "1967",
         null
        ],
        [
         "9",
         "9/10/1967",
         "2",
         "NYJ",
         "BUF",
         "L",
         "17",
         "20",
         "0",
         "1",
         "11",
         "23",
         "135",
         "2",
         "0",
         "2",
         "18",
         "36",
         "152",
         "0",
         "0",
         null,
         null,
         null,
         null,
         null,
         "2",
         "2",
         "1",
         "4",
         "4",
         "40",
         "6",
         "210",
         "0",
         "0",
         "0",
         "0",
         "0",
         "0",
         "0",
         "0",
         "0",
         "0",
         "0",
         "0",
         "0",
         null,
         null,
         "Sunday",
         "1967",
         null
        ]
       ],
       "shape": {
        "columns": 51,
        "rows": 10
       }
      },
      "text/html": [
       "<div>\n",
       "<style scoped>\n",
       "    .dataframe tbody tr th:only-of-type {\n",
       "        vertical-align: middle;\n",
       "    }\n",
       "\n",
       "    .dataframe tbody tr th {\n",
       "        vertical-align: top;\n",
       "    }\n",
       "\n",
       "    .dataframe thead th {\n",
       "        text-align: right;\n",
       "    }\n",
       "</style>\n",
       "<table border=\"1\" class=\"dataframe\">\n",
       "  <thead>\n",
       "    <tr style=\"text-align: right;\">\n",
       "      <th></th>\n",
       "      <th>date</th>\n",
       "      <th>week</th>\n",
       "      <th>team</th>\n",
       "      <th>opponent</th>\n",
       "      <th>result</th>\n",
       "      <th>Points</th>\n",
       "      <th>points_allowed</th>\n",
       "      <th>overtime</th>\n",
       "      <th>home_game</th>\n",
       "      <th>passing_com</th>\n",
       "      <th>...</th>\n",
       "      <th>tds_PR</th>\n",
       "      <th>tds_blocked_fg</th>\n",
       "      <th>tds_blocked_punt</th>\n",
       "      <th>tds_walkoff</th>\n",
       "      <th>tds_other</th>\n",
       "      <th>1D_passes</th>\n",
       "      <th>1D_runs</th>\n",
       "      <th>weekday</th>\n",
       "      <th>season</th>\n",
       "      <th>game_duration_minutes</th>\n",
       "    </tr>\n",
       "  </thead>\n",
       "  <tbody>\n",
       "    <tr>\n",
       "      <th>0</th>\n",
       "      <td>9/3/1967</td>\n",
       "      <td>1</td>\n",
       "      <td>DEN</td>\n",
       "      <td>NWE</td>\n",
       "      <td>W</td>\n",
       "      <td>26</td>\n",
       "      <td>21</td>\n",
       "      <td>0</td>\n",
       "      <td>0</td>\n",
       "      <td>8</td>\n",
       "      <td>...</td>\n",
       "      <td>0</td>\n",
       "      <td>0</td>\n",
       "      <td>0</td>\n",
       "      <td>0</td>\n",
       "      <td>0</td>\n",
       "      <td>NaN</td>\n",
       "      <td>NaN</td>\n",
       "      <td>Sunday</td>\n",
       "      <td>1967</td>\n",
       "      <td>NaN</td>\n",
       "    </tr>\n",
       "    <tr>\n",
       "      <th>1</th>\n",
       "      <td>9/3/1967</td>\n",
       "      <td>1</td>\n",
       "      <td>NWE</td>\n",
       "      <td>DEN</td>\n",
       "      <td>L</td>\n",
       "      <td>21</td>\n",
       "      <td>26</td>\n",
       "      <td>0</td>\n",
       "      <td>1</td>\n",
       "      <td>16</td>\n",
       "      <td>...</td>\n",
       "      <td>0</td>\n",
       "      <td>0</td>\n",
       "      <td>0</td>\n",
       "      <td>0</td>\n",
       "      <td>0</td>\n",
       "      <td>NaN</td>\n",
       "      <td>NaN</td>\n",
       "      <td>Sunday</td>\n",
       "      <td>1967</td>\n",
       "      <td>NaN</td>\n",
       "    </tr>\n",
       "    <tr>\n",
       "      <th>2</th>\n",
       "      <td>9/9/1967</td>\n",
       "      <td>2</td>\n",
       "      <td>KAN</td>\n",
       "      <td>TEN</td>\n",
       "      <td>W</td>\n",
       "      <td>25</td>\n",
       "      <td>20</td>\n",
       "      <td>0</td>\n",
       "      <td>1</td>\n",
       "      <td>17</td>\n",
       "      <td>...</td>\n",
       "      <td>0</td>\n",
       "      <td>0</td>\n",
       "      <td>0</td>\n",
       "      <td>0</td>\n",
       "      <td>0</td>\n",
       "      <td>NaN</td>\n",
       "      <td>NaN</td>\n",
       "      <td>Saturday</td>\n",
       "      <td>1967</td>\n",
       "      <td>NaN</td>\n",
       "    </tr>\n",
       "    <tr>\n",
       "      <th>3</th>\n",
       "      <td>9/9/1967</td>\n",
       "      <td>2</td>\n",
       "      <td>LAC</td>\n",
       "      <td>NWE</td>\n",
       "      <td>W</td>\n",
       "      <td>28</td>\n",
       "      <td>14</td>\n",
       "      <td>0</td>\n",
       "      <td>0</td>\n",
       "      <td>16</td>\n",
       "      <td>...</td>\n",
       "      <td>0</td>\n",
       "      <td>0</td>\n",
       "      <td>0</td>\n",
       "      <td>0</td>\n",
       "      <td>0</td>\n",
       "      <td>NaN</td>\n",
       "      <td>NaN</td>\n",
       "      <td>Saturday</td>\n",
       "      <td>1967</td>\n",
       "      <td>NaN</td>\n",
       "    </tr>\n",
       "    <tr>\n",
       "      <th>4</th>\n",
       "      <td>9/9/1967</td>\n",
       "      <td>2</td>\n",
       "      <td>NWE</td>\n",
       "      <td>LAC</td>\n",
       "      <td>L</td>\n",
       "      <td>14</td>\n",
       "      <td>28</td>\n",
       "      <td>0</td>\n",
       "      <td>1</td>\n",
       "      <td>19</td>\n",
       "      <td>...</td>\n",
       "      <td>0</td>\n",
       "      <td>0</td>\n",
       "      <td>0</td>\n",
       "      <td>0</td>\n",
       "      <td>0</td>\n",
       "      <td>NaN</td>\n",
       "      <td>NaN</td>\n",
       "      <td>Saturday</td>\n",
       "      <td>1967</td>\n",
       "      <td>NaN</td>\n",
       "    </tr>\n",
       "    <tr>\n",
       "      <th>5</th>\n",
       "      <td>9/9/1967</td>\n",
       "      <td>2</td>\n",
       "      <td>TEN</td>\n",
       "      <td>KAN</td>\n",
       "      <td>L</td>\n",
       "      <td>20</td>\n",
       "      <td>25</td>\n",
       "      <td>0</td>\n",
       "      <td>0</td>\n",
       "      <td>16</td>\n",
       "      <td>...</td>\n",
       "      <td>0</td>\n",
       "      <td>0</td>\n",
       "      <td>0</td>\n",
       "      <td>0</td>\n",
       "      <td>0</td>\n",
       "      <td>NaN</td>\n",
       "      <td>NaN</td>\n",
       "      <td>Saturday</td>\n",
       "      <td>1967</td>\n",
       "      <td>NaN</td>\n",
       "    </tr>\n",
       "    <tr>\n",
       "      <th>6</th>\n",
       "      <td>9/10/1967</td>\n",
       "      <td>2</td>\n",
       "      <td>BUF</td>\n",
       "      <td>NYJ</td>\n",
       "      <td>W</td>\n",
       "      <td>20</td>\n",
       "      <td>17</td>\n",
       "      <td>0</td>\n",
       "      <td>0</td>\n",
       "      <td>57</td>\n",
       "      <td>...</td>\n",
       "      <td>0</td>\n",
       "      <td>0</td>\n",
       "      <td>0</td>\n",
       "      <td>0</td>\n",
       "      <td>0</td>\n",
       "      <td>NaN</td>\n",
       "      <td>NaN</td>\n",
       "      <td>Sunday</td>\n",
       "      <td>1967</td>\n",
       "      <td>NaN</td>\n",
       "    </tr>\n",
       "    <tr>\n",
       "      <th>7</th>\n",
       "      <td>9/10/1967</td>\n",
       "      <td>2</td>\n",
       "      <td>DEN</td>\n",
       "      <td>LVR</td>\n",
       "      <td>L</td>\n",
       "      <td>0</td>\n",
       "      <td>51</td>\n",
       "      <td>0</td>\n",
       "      <td>0</td>\n",
       "      <td>2</td>\n",
       "      <td>...</td>\n",
       "      <td>0</td>\n",
       "      <td>0</td>\n",
       "      <td>0</td>\n",
       "      <td>0</td>\n",
       "      <td>0</td>\n",
       "      <td>NaN</td>\n",
       "      <td>NaN</td>\n",
       "      <td>Sunday</td>\n",
       "      <td>1967</td>\n",
       "      <td>NaN</td>\n",
       "    </tr>\n",
       "    <tr>\n",
       "      <th>8</th>\n",
       "      <td>9/10/1967</td>\n",
       "      <td>2</td>\n",
       "      <td>LVR</td>\n",
       "      <td>DEN</td>\n",
       "      <td>W</td>\n",
       "      <td>51</td>\n",
       "      <td>0</td>\n",
       "      <td>0</td>\n",
       "      <td>0</td>\n",
       "      <td>11</td>\n",
       "      <td>...</td>\n",
       "      <td>0</td>\n",
       "      <td>0</td>\n",
       "      <td>0</td>\n",
       "      <td>0</td>\n",
       "      <td>0</td>\n",
       "      <td>NaN</td>\n",
       "      <td>NaN</td>\n",
       "      <td>Sunday</td>\n",
       "      <td>1967</td>\n",
       "      <td>NaN</td>\n",
       "    </tr>\n",
       "    <tr>\n",
       "      <th>9</th>\n",
       "      <td>9/10/1967</td>\n",
       "      <td>2</td>\n",
       "      <td>NYJ</td>\n",
       "      <td>BUF</td>\n",
       "      <td>L</td>\n",
       "      <td>17</td>\n",
       "      <td>20</td>\n",
       "      <td>0</td>\n",
       "      <td>1</td>\n",
       "      <td>11</td>\n",
       "      <td>...</td>\n",
       "      <td>0</td>\n",
       "      <td>0</td>\n",
       "      <td>0</td>\n",
       "      <td>0</td>\n",
       "      <td>0</td>\n",
       "      <td>NaN</td>\n",
       "      <td>NaN</td>\n",
       "      <td>Sunday</td>\n",
       "      <td>1967</td>\n",
       "      <td>NaN</td>\n",
       "    </tr>\n",
       "  </tbody>\n",
       "</table>\n",
       "<p>10 rows × 51 columns</p>\n",
       "</div>"
      ],
      "text/plain": [
       "        date  week team opponent result  Points  points_allowed  overtime  \\\n",
       "0   9/3/1967     1  DEN      NWE      W      26              21         0   \n",
       "1   9/3/1967     1  NWE      DEN      L      21              26         0   \n",
       "2   9/9/1967     2  KAN      TEN      W      25              20         0   \n",
       "3   9/9/1967     2  LAC      NWE      W      28              14         0   \n",
       "4   9/9/1967     2  NWE      LAC      L      14              28         0   \n",
       "5   9/9/1967     2  TEN      KAN      L      20              25         0   \n",
       "6  9/10/1967     2  BUF      NYJ      W      20              17         0   \n",
       "7  9/10/1967     2  DEN      LVR      L       0              51         0   \n",
       "8  9/10/1967     2  LVR      DEN      W      51               0         0   \n",
       "9  9/10/1967     2  NYJ      BUF      L      17              20         0   \n",
       "\n",
       "   home_game  passing_com  ...  tds_PR  tds_blocked_fg  tds_blocked_punt  \\\n",
       "0          0            8  ...       0               0                 0   \n",
       "1          1           16  ...       0               0                 0   \n",
       "2          1           17  ...       0               0                 0   \n",
       "3          0           16  ...       0               0                 0   \n",
       "4          1           19  ...       0               0                 0   \n",
       "5          0           16  ...       0               0                 0   \n",
       "6          0           57  ...       0               0                 0   \n",
       "7          0            2  ...       0               0                 0   \n",
       "8          0           11  ...       0               0                 0   \n",
       "9          1           11  ...       0               0                 0   \n",
       "\n",
       "   tds_walkoff  tds_other  1D_passes  1D_runs   weekday  season  \\\n",
       "0            0          0        NaN      NaN    Sunday    1967   \n",
       "1            0          0        NaN      NaN    Sunday    1967   \n",
       "2            0          0        NaN      NaN  Saturday    1967   \n",
       "3            0          0        NaN      NaN  Saturday    1967   \n",
       "4            0          0        NaN      NaN  Saturday    1967   \n",
       "5            0          0        NaN      NaN  Saturday    1967   \n",
       "6            0          0        NaN      NaN    Sunday    1967   \n",
       "7            0          0        NaN      NaN    Sunday    1967   \n",
       "8            0          0        NaN      NaN    Sunday    1967   \n",
       "9            0          0        NaN      NaN    Sunday    1967   \n",
       "\n",
       "   game_duration_minutes  \n",
       "0                    NaN  \n",
       "1                    NaN  \n",
       "2                    NaN  \n",
       "3                    NaN  \n",
       "4                    NaN  \n",
       "5                    NaN  \n",
       "6                    NaN  \n",
       "7                    NaN  \n",
       "8                    NaN  \n",
       "9                    NaN  \n",
       "\n",
       "[10 rows x 51 columns]"
      ]
     },
     "execution_count": 16,
     "metadata": {},
     "output_type": "execute_result"
    }
   ],
   "source": [
    "df.head(10)"
   ]
  },
  {
   "cell_type": "markdown",
   "metadata": {},
   "source": [
    "### Manualy change datatypes. Athena is fussy."
   ]
  },
  {
   "cell_type": "code",
   "execution_count": 102,
   "metadata": {},
   "outputs": [
    {
     "data": {
      "text/plain": [
       "Index(['date', 'week', 'team', 'opponent', 'result', 'Points',\n",
       "       'points_allowed', 'overtime', 'home_game', 'passing_com', 'passing_att',\n",
       "       'passing_yds', 'passing_tds', 'passing_int', 'passing_times_sacked',\n",
       "       'passing_sack_yards', 'rushing_att', 'rushing_yds', 'rush_tds', 'fmb',\n",
       "       '3D_att', '3D_conversions', '4D_att', '4D_conversions',\n",
       "       'Time_of_possession', 'XPM', 'XPA', 'FGM', 'FGA', 'total_penalties',\n",
       "       'penalty_yds', 'punts_total', 'punts_yds', 'punts_blocks', '2PM', '2PA',\n",
       "       'safety', 'XPR', 'Pick_6', 'tds_fmb', 'tds_KR', 'tds_PR',\n",
       "       'tds_blocked_fg', 'tds_blocked_punt', 'tds_walkoff', 'tds_other',\n",
       "       '1D_passes', '1D_runs', 'weekday', 'season', 'game_duration_minutes'],\n",
       "      dtype='object')"
      ]
     },
     "execution_count": 102,
     "metadata": {},
     "output_type": "execute_result"
    }
   ],
   "source": [
    "df.columns"
   ]
  },
  {
   "cell_type": "code",
   "execution_count": 18,
   "metadata": {},
   "outputs": [
    {
     "data": {
      "application/vnd.microsoft.datawrangler.viewer.v0+json": {
       "columns": [
        {
         "name": "index",
         "rawType": "object",
         "type": "string"
        },
        {
         "name": "0",
         "rawType": "object",
         "type": "unknown"
        }
       ],
       "ref": "6e6beb2e-f256-4152-a533-c8dfd1bc4c82",
       "rows": [
        [
         "date",
         "object"
        ],
        [
         "week",
         "int64"
        ],
        [
         "team",
         "object"
        ],
        [
         "opponent",
         "object"
        ],
        [
         "result",
         "object"
        ],
        [
         "Points",
         "int64"
        ],
        [
         "points_allowed",
         "int64"
        ],
        [
         "overtime",
         "int64"
        ],
        [
         "home_game",
         "int64"
        ],
        [
         "passing_com",
         "int64"
        ],
        [
         "passing_att",
         "int64"
        ],
        [
         "passing_yds",
         "int64"
        ],
        [
         "passing_tds",
         "int64"
        ],
        [
         "passing_int",
         "int64"
        ],
        [
         "passing_times_sacked",
         "int64"
        ],
        [
         "passing_sack_yards",
         "int64"
        ],
        [
         "rushing_att",
         "int64"
        ],
        [
         "rushing_yds",
         "int64"
        ],
        [
         "rush_tds",
         "int64"
        ],
        [
         "fmb",
         "int64"
        ],
        [
         "3D_att",
         "float64"
        ],
        [
         "3D_conversions",
         "float64"
        ],
        [
         "4D_att",
         "float64"
        ],
        [
         "4D_conversions",
         "float64"
        ],
        [
         "Time_of_possession",
         "float64"
        ],
        [
         "XPM",
         "int64"
        ],
        [
         "XPA",
         "int64"
        ],
        [
         "FGM",
         "int64"
        ],
        [
         "FGA",
         "int64"
        ],
        [
         "total_penalties",
         "int64"
        ],
        [
         "penalty_yds",
         "int64"
        ],
        [
         "punts_total",
         "int64"
        ],
        [
         "punts_yds",
         "int64"
        ],
        [
         "punts_blocks",
         "int64"
        ],
        [
         "2PM",
         "int64"
        ],
        [
         "2PA",
         "int64"
        ],
        [
         "safety",
         "int64"
        ],
        [
         "XPR",
         "int64"
        ],
        [
         "Pick_6",
         "int64"
        ],
        [
         "tds_fmb",
         "int64"
        ],
        [
         "tds_KR",
         "int64"
        ],
        [
         "tds_PR",
         "int64"
        ],
        [
         "tds_blocked_fg",
         "int64"
        ],
        [
         "tds_blocked_punt",
         "int64"
        ],
        [
         "tds_walkoff",
         "int64"
        ],
        [
         "tds_other",
         "int64"
        ],
        [
         "1D_passes",
         "float64"
        ],
        [
         "1D_runs",
         "float64"
        ],
        [
         "weekday",
         "object"
        ],
        [
         "season",
         "int64"
        ]
       ],
       "shape": {
        "columns": 1,
        "rows": 51
       }
      },
      "text/plain": [
       "date                      object\n",
       "week                       int64\n",
       "team                      object\n",
       "opponent                  object\n",
       "result                    object\n",
       "Points                     int64\n",
       "points_allowed             int64\n",
       "overtime                   int64\n",
       "home_game                  int64\n",
       "passing_com                int64\n",
       "passing_att                int64\n",
       "passing_yds                int64\n",
       "passing_tds                int64\n",
       "passing_int                int64\n",
       "passing_times_sacked       int64\n",
       "passing_sack_yards         int64\n",
       "rushing_att                int64\n",
       "rushing_yds                int64\n",
       "rush_tds                   int64\n",
       "fmb                        int64\n",
       "3D_att                   float64\n",
       "3D_conversions           float64\n",
       "4D_att                   float64\n",
       "4D_conversions           float64\n",
       "Time_of_possession       float64\n",
       "XPM                        int64\n",
       "XPA                        int64\n",
       "FGM                        int64\n",
       "FGA                        int64\n",
       "total_penalties            int64\n",
       "penalty_yds                int64\n",
       "punts_total                int64\n",
       "punts_yds                  int64\n",
       "punts_blocks               int64\n",
       "2PM                        int64\n",
       "2PA                        int64\n",
       "safety                     int64\n",
       "XPR                        int64\n",
       "Pick_6                     int64\n",
       "tds_fmb                    int64\n",
       "tds_KR                     int64\n",
       "tds_PR                     int64\n",
       "tds_blocked_fg             int64\n",
       "tds_blocked_punt           int64\n",
       "tds_walkoff                int64\n",
       "tds_other                  int64\n",
       "1D_passes                float64\n",
       "1D_runs                  float64\n",
       "weekday                   object\n",
       "season                     int64\n",
       "game_duration_minutes    float64\n",
       "dtype: object"
      ]
     },
     "execution_count": 18,
     "metadata": {},
     "output_type": "execute_result"
    }
   ],
   "source": [
    "df.dtypes"
   ]
  },
  {
   "cell_type": "code",
   "execution_count": 19,
   "metadata": {},
   "outputs": [],
   "source": [
    "# Convert to nullable integer type (Int64)\n",
    "int_columns = [\n",
    "        'week', 'Points',\n",
    "        'points_allowed', 'overtime', 'home_game', 'passing_com', 'passing_att',\n",
    "        'passing_yds', 'passing_tds', 'passing_int', 'passing_times_sacked',\n",
    "        'passing_sack_yards', 'rushing_att', 'rushing_yds', 'rush_tds', 'fmb',\n",
    "        '3D_att', '3D_conversions', '4D_att', '4D_conversions',\n",
    "        'Time_of_possession', 'XPM', 'XPA', 'FGM', 'FGA', 'total_penalties',\n",
    "        'penalty_yds', 'punts_total', 'punts_yds', 'punts_blocks', '2PM', '2PA',\n",
    "        'safety', 'XPR', 'Pick_6', 'tds_fmb', 'tds_KR', 'tds_PR', 'tds_blocked_fg',\n",
    "        'tds_blocked_punt', 'tds_walkoff', 'tds_other', '1D_passes', '1D_runs',\n",
    "        'season', 'game_duration_minutes'\n",
    "]\n",
    "df[int_columns] = df[int_columns].astype(\"Int64\")\n",
    "\n",
    "# Assign string columns\n",
    "str_columns = [\n",
    "    'date', 'team', 'opponent', 'result', 'weekday'\n",
    "]\n",
    "df[str_columns] = df[str_columns].astype(\"string\")\n",
    "\n",
    "# Save date column as an object\n",
    "df[\"date\"] = df[\"date\"].astype(object)"
   ]
  },
  {
   "cell_type": "code",
   "execution_count": 20,
   "metadata": {},
   "outputs": [
    {
     "data": {
      "application/vnd.microsoft.datawrangler.viewer.v0+json": {
       "columns": [
        {
         "name": "index",
         "rawType": "object",
         "type": "string"
        },
        {
         "name": "0",
         "rawType": "object",
         "type": "unknown"
        }
       ],
       "ref": "9c3304cf-33af-4427-8e6c-eb42d57a72dc",
       "rows": [
        [
         "date",
         "object"
        ],
        [
         "week",
         "Int64"
        ],
        [
         "team",
         "string"
        ],
        [
         "opponent",
         "string"
        ],
        [
         "result",
         "string"
        ],
        [
         "Points",
         "Int64"
        ],
        [
         "points_allowed",
         "Int64"
        ],
        [
         "overtime",
         "Int64"
        ],
        [
         "home_game",
         "Int64"
        ],
        [
         "passing_com",
         "Int64"
        ],
        [
         "passing_att",
         "Int64"
        ],
        [
         "passing_yds",
         "Int64"
        ],
        [
         "passing_tds",
         "Int64"
        ],
        [
         "passing_int",
         "Int64"
        ],
        [
         "passing_times_sacked",
         "Int64"
        ],
        [
         "passing_sack_yards",
         "Int64"
        ],
        [
         "rushing_att",
         "Int64"
        ],
        [
         "rushing_yds",
         "Int64"
        ],
        [
         "rush_tds",
         "Int64"
        ],
        [
         "fmb",
         "Int64"
        ],
        [
         "3D_att",
         "Int64"
        ],
        [
         "3D_conversions",
         "Int64"
        ],
        [
         "4D_att",
         "Int64"
        ],
        [
         "4D_conversions",
         "Int64"
        ],
        [
         "Time_of_possession",
         "Int64"
        ],
        [
         "XPM",
         "Int64"
        ],
        [
         "XPA",
         "Int64"
        ],
        [
         "FGM",
         "Int64"
        ],
        [
         "FGA",
         "Int64"
        ],
        [
         "total_penalties",
         "Int64"
        ],
        [
         "penalty_yds",
         "Int64"
        ],
        [
         "punts_total",
         "Int64"
        ],
        [
         "punts_yds",
         "Int64"
        ],
        [
         "punts_blocks",
         "Int64"
        ],
        [
         "2PM",
         "Int64"
        ],
        [
         "2PA",
         "Int64"
        ],
        [
         "safety",
         "Int64"
        ],
        [
         "XPR",
         "Int64"
        ],
        [
         "Pick_6",
         "Int64"
        ],
        [
         "tds_fmb",
         "Int64"
        ],
        [
         "tds_KR",
         "Int64"
        ],
        [
         "tds_PR",
         "Int64"
        ],
        [
         "tds_blocked_fg",
         "Int64"
        ],
        [
         "tds_blocked_punt",
         "Int64"
        ],
        [
         "tds_walkoff",
         "Int64"
        ],
        [
         "tds_other",
         "Int64"
        ],
        [
         "1D_passes",
         "Int64"
        ],
        [
         "1D_runs",
         "Int64"
        ],
        [
         "weekday",
         "string"
        ],
        [
         "season",
         "Int64"
        ]
       ],
       "shape": {
        "columns": 1,
        "rows": 51
       }
      },
      "text/plain": [
       "date                             object\n",
       "week                              Int64\n",
       "team                     string[python]\n",
       "opponent                 string[python]\n",
       "result                   string[python]\n",
       "Points                            Int64\n",
       "points_allowed                    Int64\n",
       "overtime                          Int64\n",
       "home_game                         Int64\n",
       "passing_com                       Int64\n",
       "passing_att                       Int64\n",
       "passing_yds                       Int64\n",
       "passing_tds                       Int64\n",
       "passing_int                       Int64\n",
       "passing_times_sacked              Int64\n",
       "passing_sack_yards                Int64\n",
       "rushing_att                       Int64\n",
       "rushing_yds                       Int64\n",
       "rush_tds                          Int64\n",
       "fmb                               Int64\n",
       "3D_att                            Int64\n",
       "3D_conversions                    Int64\n",
       "4D_att                            Int64\n",
       "4D_conversions                    Int64\n",
       "Time_of_possession                Int64\n",
       "XPM                               Int64\n",
       "XPA                               Int64\n",
       "FGM                               Int64\n",
       "FGA                               Int64\n",
       "total_penalties                   Int64\n",
       "penalty_yds                       Int64\n",
       "punts_total                       Int64\n",
       "punts_yds                         Int64\n",
       "punts_blocks                      Int64\n",
       "2PM                               Int64\n",
       "2PA                               Int64\n",
       "safety                            Int64\n",
       "XPR                               Int64\n",
       "Pick_6                            Int64\n",
       "tds_fmb                           Int64\n",
       "tds_KR                            Int64\n",
       "tds_PR                            Int64\n",
       "tds_blocked_fg                    Int64\n",
       "tds_blocked_punt                  Int64\n",
       "tds_walkoff                       Int64\n",
       "tds_other                         Int64\n",
       "1D_passes                         Int64\n",
       "1D_runs                           Int64\n",
       "weekday                  string[python]\n",
       "season                            Int64\n",
       "game_duration_minutes             Int64\n",
       "dtype: object"
      ]
     },
     "execution_count": 20,
     "metadata": {},
     "output_type": "execute_result"
    }
   ],
   "source": [
    "df.dtypes"
   ]
  },
  {
   "cell_type": "markdown",
   "metadata": {},
   "source": [
    "### Create partitioned Parquet files"
   ]
  },
  {
   "cell_type": "code",
   "execution_count": null,
   "metadata": {},
   "outputs": [],
   "source": [
    "df_to_s3_parquet(s3_resource, df, s3_bucket, partition_by, partitioned_folder)"
   ]
  }
 ],
 "metadata": {
  "kernelspec": {
   "display_name": ".venv",
   "language": "python",
   "name": "python3"
  },
  "language_info": {
   "codemirror_mode": {
    "name": "ipython",
    "version": 3
   },
   "file_extension": ".py",
   "mimetype": "text/x-python",
   "name": "python",
   "nbconvert_exporter": "python",
   "pygments_lexer": "ipython3",
   "version": "3.12.9"
  }
 },
 "nbformat": 4,
 "nbformat_minor": 2
}
