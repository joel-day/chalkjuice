{
 "cells": [
  {
   "cell_type": "markdown",
   "id": "960082b0",
   "metadata": {},
   "source": [
    "# Create Athena Table From Parquet"
   ]
  },
  {
   "cell_type": "code",
   "execution_count": null,
   "id": "bf91592e",
   "metadata": {
    "vscode": {
     "languageId": "plaintext"
    }
   },
   "outputs": [],
   "source": [
    "SET SESSION output_location = 's3://chalkjuice/golden_athena/';"
   ]
  },
  {
   "cell_type": "code",
   "execution_count": null,
   "id": "09fbaf95",
   "metadata": {
    "vscode": {
     "languageId": "plaintext"
    }
   },
   "outputs": [],
   "source": [
    "DROP TABLE IF EXISTS chalk.chalkjuice_data;"
   ]
  },
  {
   "cell_type": "code",
   "execution_count": null,
   "id": "b42edfcd",
   "metadata": {
    "vscode": {
     "languageId": "plaintext"
    }
   },
   "outputs": [],
   "source": [
    "CREATE EXTERNAL TABLE IF NOT EXISTS chalkjuice_data (\n",
    "    date VARCHAR(100),\n",
    "    week INT,\n",
    "    team CHAR(3),\n",
    "    opponent CHAR(3),\n",
    "    result CHAR(1),\n",
    "    Points INT,\n",
    "    points_allowed INT,\n",
    "    overtime INT,\n",
    "    home_game INT,\n",
    "    passing_com INT,\n",
    "    passing_att INT,\n",
    "    passing_yds INT,\n",
    "    passing_tds INT, \n",
    "    passing_int INT,\n",
    "    passing_times_sacked INT,\n",
    "    passing_sack_yards INT,\n",
    "    rushing_att INT,\n",
    "    rushing_yds INT,\n",
    "    rush_tds INT,\n",
    "    fmb INT,\n",
    "    3D_att INT,\n",
    "    3D_conversions INT,\n",
    "    4D_att INT,\n",
    "    4D_conversions INT,\n",
    "    Time_of_possession INT,\n",
    "    XPM INT,\n",
    "    XPA INT,\n",
    "    FGM INT,\n",
    "    FGA INT,\n",
    "    total_penalties INT,\n",
    "    penalty_yds INT,\n",
    "    punts_total INT,\n",
    "    punts_yds INT,\n",
    "    punts_blocks INT,\n",
    "    2PM INT,\n",
    "    2PA INT,\n",
    "    safety INT,\n",
    "    XPR INT,\n",
    "    Pick_6 INT,\n",
    "    tds_fmb INT,\n",
    "    tds_KR INT,\n",
    "    tds_PR INT,\n",
    "    tds_blocked_fg INT,\n",
    "    tds_blocked_punt INT,\n",
    "    tds_walkoff INT,\n",
    "    tds_other INT,\n",
    "    1D_passes INT,\n",
    "    1D_runs INT,\n",
    "    weekday VARCHAR(20),\n",
    "    game_duration_minutes INT\n",
    ")\n",
    "PARTITIONED BY (season INT)\n",
    "STORED AS PARQUET\n",
    "LOCATION 's3://chalkjuice/golden_partitions/'\n",
    "TBLPROPERTIES (\n",
    "    'parquet.compression'='SNAPPY',\n",
    "    'projection.enabled'='true',\n",
    "    'projection.season.type'='integer',\n",
    "    'projection.season.range'='1967,2023',\n",
    "    'storage.location.template'='s3://chalkjuice/golden_partitions/season=${season}/'\n",
    ");"
   ]
  },
  {
   "cell_type": "code",
   "execution_count": null,
   "id": "2f681eb5",
   "metadata": {
    "vscode": {
     "languageId": "plaintext"
    }
   },
   "outputs": [],
   "source": [
    "MSCK REPAIR TABLE chalkjuice_data; // add partitions"
   ]
  },
  {
   "cell_type": "code",
   "execution_count": null,
   "id": "b0ec0033",
   "metadata": {
    "vscode": {
     "languageId": "plaintext"
    }
   },
   "outputs": [],
   "source": []
  }
 ],
 "metadata": {
  "language_info": {
   "name": "python"
  }
 },
 "nbformat": 4,
 "nbformat_minor": 5
}
