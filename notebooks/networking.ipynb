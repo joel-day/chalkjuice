{
 "cells": [
  {
   "cell_type": "markdown",
   "id": "eaa7a550",
   "metadata": {},
   "source": [
    "# Networking"
   ]
  },
  {
   "cell_type": "markdown",
   "id": "c93e16bd",
   "metadata": {},
   "source": [
    "## Dependencies"
   ]
  },
  {
   "cell_type": "code",
   "execution_count": 102,
   "id": "8b060c78",
   "metadata": {},
   "outputs": [],
   "source": [
    "from packages.helpers.helpers import joel_boto\n",
    "import boto3"
   ]
  },
  {
   "cell_type": "markdown",
   "id": "a93c1147",
   "metadata": {},
   "source": [
    "## Functions"
   ]
  },
  {
   "cell_type": "code",
   "execution_count": 103,
   "id": "e0de9a0d",
   "metadata": {},
   "outputs": [],
   "source": [
    "def dependent_variables():\n",
    "    website_name = website_name_com[:-4]\n",
    "    www_domain = f\"www.{website_name_com}\"\n",
    "    s3_log_bucket_name = website_name_com + '-logs'\n",
    "    cloudfront_logs_location = f's3://{s3_log_bucket_name}/AWSLogs/'\n",
    "    ATHENA_DATABASE = website_name + \"_website\"\n",
    "    ATHENA_TABLE = \"cloudfront_logs\"\n",
    "    ATHENA_OUTPUT_BUCKET = f\"s3://{s3_log_bucket_name}/{website_name}_website_athena_parquet/\" \n",
    "    S3_WEBSITE_ENDPOINT = f\"{website_name_com}.s3.{aws_region}.amazonaws.com\"\n",
    "\n",
    "    return website_name, www_domain, s3_log_bucket_name, cloudfront_logs_location, ATHENA_DATABASE, ATHENA_TABLE, ATHENA_OUTPUT_BUCKET, S3_WEBSITE_ENDPOINT"
   ]
  },
  {
   "cell_type": "code",
   "execution_count": 104,
   "id": "4dd593ba",
   "metadata": {},
   "outputs": [],
   "source": [
    "def create_acm_certificate():\n",
    "\n",
    "    www_name_2 = 'www.' + website_name_com\n",
    "    subject_alternative_names = [www_name_2]\n",
    "\n",
    "    # Create ACM client in us-east-1 — CloudFront only uses this region\n",
    "    acm = boto3.client('acm', region_name='us-east-1')\n",
    "\n",
    "    # Request a public certificate\n",
    "    response = acm.request_certificate(\n",
    "        DomainName=website_name_com,\n",
    "        ValidationMethod='DNS',\n",
    "        SubjectAlternativeNames=subject_alternative_names,\n",
    "        Options={\n",
    "            'CertificateTransparencyLoggingPreference': 'ENABLED'\n",
    "        },\n",
    "        IdempotencyToken=f'{website_name}cert01',  # Can be any unique token to avoid duplicates\n",
    "        Tags=[\n",
    "            {'Key': 'Name', 'Value': f'{website_name}-ssl'}\n",
    "        ]\n",
    "    )\n",
    "\n",
    "    return response['CertificateArn']"
   ]
  },
  {
   "cell_type": "code",
   "execution_count": 105,
   "id": "ef7d780d",
   "metadata": {},
   "outputs": [],
   "source": [
    "def get_website_vistor_counts():\n",
    "    create_and_fill_table_query = f\"\"\"\n",
    "        SELECT COUNT(DISTINCT c_ip) AS unique_visitors\n",
    "        FROM {ATHENA_DATABASE}.{ATHENA_TABLE}\n",
    "        WHERE sc_status IN (200, 304)\n",
    "        AND x_edge_result_type IN ('Hit', 'Miss');\n",
    "    \"\"\"\n",
    "    x = jb.query_athena(create_and_fill_table_query, ATHENA_DATABASE, ATHENA_OUTPUT_BUCKET)\n",
    "    x = jb.create_df_from_athena_query(x)\n",
    "    total_unique_visitors = x[\"Unique Visitors\"][0]\n",
    "\n",
    "    create_and_fill_table_query = f\"\"\"\n",
    "        SELECT COUNT(*) AS successful_requests\n",
    "        FROM {ATHENA_DATABASE}.{ATHENA_TABLE}\n",
    "        WHERE sc_status IN (200, 304)\n",
    "        AND x_edge_result_type IN ('Hit', 'Miss');\n",
    "    \"\"\"\n",
    "    x = jb.query_athena(create_and_fill_table_query, ATHENA_DATABASE, ATHENA_OUTPUT_BUCKET)\n",
    "    x = jb.create_df_from_athena_query(x)\n",
    "    total_requests = x[\"Successful Requests\"][0]\n",
    "\n",
    "    return total_unique_visitors, total_requests"
   ]
  },
  {
   "cell_type": "code",
   "execution_count": 106,
   "id": "61d5c4b0",
   "metadata": {},
   "outputs": [],
   "source": [
    "def create_cloudfront_oac():\n",
    "    client = boto3.client(\"cloudfront\")\n",
    "    \n",
    "    # Generate a unique name for the OAC\n",
    "    oac_name = f\"{website_name}.com\"\n",
    "    \n",
    "    response = client.create_origin_access_control(\n",
    "        OriginAccessControlConfig={\n",
    "            \"Name\": oac_name,\n",
    "            \"Description\": \"OAC for accessing private S3 bucket\",\n",
    "            \"SigningProtocol\": \"sigv4\",\n",
    "            \"SigningBehavior\": \"always\",\n",
    "            \"OriginAccessControlOriginType\": \"s3\"\n",
    "        }\n",
    "    )\n",
    "\n",
    "    oac_id = response['OriginAccessControl']['Id']\n",
    "\n",
    "    return oac_id"
   ]
  },
  {
   "cell_type": "code",
   "execution_count": 107,
   "id": "7c9ff5dd",
   "metadata": {},
   "outputs": [],
   "source": [
    "def delete_cloudfront_oac(oac_id):\n",
    "    client = boto3.client(\"cloudfront\")\n",
    "\n",
    "    # Get the current config and ETag required for deletion\n",
    "    get_resp = client.get_origin_access_control(Id=oac_id)\n",
    "    etag = get_resp['ETag']\n",
    "\n",
    "    # Now delete using the Id and ETag\n",
    "    del_resp = client.delete_origin_access_control(\n",
    "        Id=oac_id,\n",
    "        IfMatch=etag\n",
    "    )\n",
    "\n",
    "    print(f\"✅ Deleted CloudFront OAC: {oac_id}\")\n",
    "    return del_resp"
   ]
  },
  {
   "cell_type": "code",
   "execution_count": 122,
   "id": "45a49727",
   "metadata": {},
   "outputs": [],
   "source": [
    "def create_cloudfront_distribution_with_oac(\n",
    "    bucket_name,\n",
    "    aws_region,\n",
    "    domain_name,\n",
    "    www_domain,\n",
    "    ssl_cert_arn,\n",
    "    oac_id\n",
    "):\n",
    "    cf = boto3.client(\"cloudfront\")\n",
    "\n",
    "    origin_domain = f\"{bucket_name}.s3.{aws_region}.amazonaws.com\"\n",
    "\n",
    "    response = cf.create_distribution(\n",
    "        DistributionConfig={\n",
    "            \"CallerReference\": domain_name,\n",
    "            \"Origins\": {\n",
    "                \"Quantity\": 1,\n",
    "                \"Items\": [\n",
    "                    {\n",
    "                        \"Id\": domain_name,\n",
    "                        \"DomainName\": origin_domain,\n",
    "                        \"OriginAccessControlId\": oac_id,\n",
    "                        \"S3OriginConfig\": {\n",
    "                            \"OriginAccessIdentity\": \"\"\n",
    "                        }\n",
    "                    }\n",
    "                ]\n",
    "            },\n",
    "            \"DefaultCacheBehavior\": {\n",
    "                \"TargetOriginId\": domain_name,\n",
    "                \"ViewerProtocolPolicy\": \"redirect-to-https\",\n",
    "                \"AllowedMethods\": {\n",
    "                    \"Quantity\": 2,\n",
    "                    \"Items\": [\"GET\", \"HEAD\"],\n",
    "                    \"CachedMethods\": {\n",
    "                        \"Quantity\": 2,\n",
    "                        \"Items\": [\"GET\", \"HEAD\"]\n",
    "                    }\n",
    "                },\n",
    "                \"Compress\": True,\n",
    "                \"ForwardedValues\": {\n",
    "                    \"QueryString\": False,\n",
    "                    \"Cookies\": {\"Forward\": \"none\"}\n",
    "                },\n",
    "                \"TrustedSigners\": {\"Enabled\": False, \"Quantity\": 0},\n",
    "                \"TrustedKeyGroups\": {\"Enabled\": False, \"Quantity\": 0},\n",
    "                \"MinTTL\": 0,\n",
    "                \"DefaultTTL\": 86400,\n",
    "                \"MaxTTL\": 31536000\n",
    "            },\n",
    "            \"DefaultRootObject\": \"index.html\",\n",
    "            \"Logging\": {\n",
    "                \"Enabled\": True,\n",
    "                \"IncludeCookies\": False,\n",
    "                \"Bucket\": f\"{s3_log_bucket_name}.s3.amazonaws.com\",\n",
    "                \"Prefix\": f\"AWSLogs/{jb.account_id}/CloudFront/\"\n",
    "            },\n",
    "            \"Enabled\": True,\n",
    "            \"ViewerCertificate\": {\n",
    "                \"ACMCertificateArn\": ssl_cert_arn,\n",
    "                \"SSLSupportMethod\": \"sni-only\",\n",
    "                \"MinimumProtocolVersion\": \"TLSv1.2_2021\",\n",
    "                \"Certificate\": ssl_cert_arn,\n",
    "                \"CertificateSource\": \"acm\"\n",
    "            },\n",
    "            \"Aliases\": {\n",
    "                \"Quantity\": 2,\n",
    "                \"Items\": [domain_name, www_domain]\n",
    "            },\n",
    "            \"Comment\": f\"CloudFront distribution for {domain_name}\"\n",
    "        }\n",
    "    )\n",
    "\n",
    "    dist_id = response['Distribution']['Id']\n",
    "    dist_domain = response['Distribution']['DomainName']\n",
    "\n",
    "    print(f\"✅ CloudFront distribution created:\")\n",
    "    print(f\"  ID: {dist_id}\")\n",
    "    print(f\"  Domain name: {dist_domain}\")\n",
    "\n",
    "    return response"
   ]
  },
  {
   "cell_type": "markdown",
   "id": "9425a96f",
   "metadata": {},
   "source": [
    "## Custom Variables"
   ]
  },
  {
   "cell_type": "code",
   "execution_count": 109,
   "id": "4c2db1a6",
   "metadata": {},
   "outputs": [],
   "source": [
    "website_name_com = 'chalkjuice.com'\n",
    "aws_region = jb.region"
   ]
  },
  {
   "cell_type": "markdown",
   "id": "526b0ab9",
   "metadata": {},
   "source": [
    "### Dependent Variables():"
   ]
  },
  {
   "cell_type": "code",
   "execution_count": 110,
   "id": "6597802c",
   "metadata": {},
   "outputs": [
    {
     "name": "stdout",
     "output_type": "stream",
     "text": [
      "running local credentials\n",
      "✅ Logged in to ECR successfully.\n",
      "✅ Connected to all clients successfully.\n"
     ]
    }
   ],
   "source": [
    "# Connect to custom AWS class\n",
    "jb = joel_boto()\n",
    "aws_region = jb.region\n",
    "website_name, www_domain, s3_log_bucket_name, cloudfront_logs_location, ATHENA_DATABASE, ATHENA_TABLE, ATHENA_OUTPUT_BUCKET, S3_WEBSITE_ENDPOINT = dependent_variables()"
   ]
  },
  {
   "cell_type": "markdown",
   "id": "5c30e2f6",
   "metadata": {},
   "source": [
    "## Create s3 buckets"
   ]
  },
  {
   "cell_type": "code",
   "execution_count": 111,
   "id": "e64c6d12",
   "metadata": {},
   "outputs": [],
   "source": [
    "# TO DO: Manual for now"
   ]
  },
  {
   "cell_type": "markdown",
   "id": "8e3441d4",
   "metadata": {},
   "source": [
    "## Setup cloudfront logs with athena"
   ]
  },
  {
   "cell_type": "code",
   "execution_count": 112,
   "id": "bc9607a8",
   "metadata": {},
   "outputs": [
    {
     "name": "stdout",
     "output_type": "stream",
     "text": [
      "Query finished with status: SUCCEEDED\n"
     ]
    },
    {
     "data": {
      "text/plain": [
       "'e8521cdf-870a-44b9-8285-f68f11a24a3c'"
      ]
     },
     "execution_count": 112,
     "metadata": {},
     "output_type": "execute_result"
    }
   ],
   "source": [
    "create_db_query = f\"CREATE DATABASE IF NOT EXISTS {ATHENA_DATABASE}\"\n",
    "jb.query_athena(create_db_query, ATHENA_DATABASE, ATHENA_OUTPUT_BUCKET)"
   ]
  },
  {
   "cell_type": "code",
   "execution_count": 113,
   "id": "9a9f9963",
   "metadata": {},
   "outputs": [
    {
     "name": "stdout",
     "output_type": "stream",
     "text": [
      "Query finished with status: SUCCEEDED\n"
     ]
    },
    {
     "data": {
      "text/plain": [
       "'14e1db20-c63d-48f8-9eb6-951241839141'"
      ]
     },
     "execution_count": 113,
     "metadata": {},
     "output_type": "execute_result"
    }
   ],
   "source": [
    "remove_table_query = f'DROP TABLE IF EXISTS {ATHENA_DATABASE}.{ATHENA_TABLE};'\n",
    "jb.query_athena(remove_table_query, ATHENA_DATABASE, ATHENA_OUTPUT_BUCKET)"
   ]
  },
  {
   "cell_type": "code",
   "execution_count": 114,
   "id": "5714223d",
   "metadata": {},
   "outputs": [
    {
     "name": "stdout",
     "output_type": "stream",
     "text": [
      "Query finished with status: SUCCEEDED\n"
     ]
    },
    {
     "data": {
      "text/plain": [
       "'b49e19d8-6169-468e-8308-7c83b727ad70'"
      ]
     },
     "execution_count": 114,
     "metadata": {},
     "output_type": "execute_result"
    }
   ],
   "source": [
    "create_and_fill_table_query = f\"\"\"\n",
    "    CREATE EXTERNAL TABLE IF NOT EXISTS {ATHENA_DATABASE}.{ATHENA_TABLE} (\n",
    "    `date` date,\n",
    "    time string,\n",
    "    x_edge_location string,\n",
    "    sc_bytes bigint,\n",
    "    c_ip string,\n",
    "    cs_method string,\n",
    "    cs_host string,\n",
    "    cs_uri_stem string,\n",
    "    sc_status int,\n",
    "    cs_referer string,\n",
    "    cs_user_agent string,\n",
    "    cs_uri_query string,\n",
    "    cs_cookie string,\n",
    "    x_edge_result_type string,\n",
    "    x_edge_request_id string,\n",
    "    x_host_header string,\n",
    "    cs_protocol string,\n",
    "    cs_bytes bigint,\n",
    "    time_taken double,\n",
    "    x_forwarded_for string,\n",
    "    ssl_protocol string,\n",
    "    ssl_cipher string,\n",
    "    x_edge_response_result_type string,\n",
    "    cs_protocol_version string,\n",
    "    fle_status string,\n",
    "    fle_encrypted_fields string,\n",
    "    c_port int,\n",
    "    time_to_first_byte double,\n",
    "    x_edge_detailed_result_type string,\n",
    "    sc_content_type string,\n",
    "    sc_content_len string,\n",
    "    sc_range_start string,\n",
    "    sc_range_end string\n",
    "    )\n",
    "    ROW FORMAT SERDE 'org.apache.hadoop.hive.serde2.lazy.LazySimpleSerDe'\n",
    "    WITH SERDEPROPERTIES (\n",
    "    'field.delim' = '\\t',\n",
    "    'serialization.format' = '\\t'\n",
    "    )\n",
    "    LOCATION '{cloudfront_logs_location}'\n",
    "    TBLPROPERTIES ('skip.header.line.count'='2');\n",
    "\"\"\"\n",
    "jb.query_athena(create_and_fill_table_query, ATHENA_DATABASE, ATHENA_OUTPUT_BUCKET)"
   ]
  },
  {
   "cell_type": "markdown",
   "id": "78e95963",
   "metadata": {},
   "source": [
    "### Monitor website visitor count"
   ]
  },
  {
   "cell_type": "code",
   "execution_count": 115,
   "id": "46212b13",
   "metadata": {},
   "outputs": [
    {
     "name": "stdout",
     "output_type": "stream",
     "text": [
      "Query finished with status: SUCCEEDED\n",
      "Query finished with status: SUCCEEDED\n",
      "Total Unique Visitors:  8 Total Requests:  11\n"
     ]
    }
   ],
   "source": [
    "total_unique_visitors, total_requests = get_website_vistor_counts()\n",
    "print(\"Total Unique Visitors: \", total_unique_visitors, \"Total Requests: \", total_requests)"
   ]
  },
  {
   "cell_type": "markdown",
   "id": "efb47081",
   "metadata": {},
   "source": [
    "## Deploy Site via Cloudfront "
   ]
  },
  {
   "cell_type": "code",
   "execution_count": 117,
   "id": "7ed12550",
   "metadata": {},
   "outputs": [],
   "source": [
    "# Get the certificate ARN\n",
    "acm_cert_arn = create_acm_certificate()\n",
    "\n",
    "## Create cloudfront oac\n",
    "#delete_cloudfront_oac(\"E3MR1IF04E4HTX\") # If need be while developing\n",
    "oac_id = create_cloudfront_oac()\n"
   ]
  },
  {
   "cell_type": "code",
   "execution_count": 123,
   "id": "ec2d7a25",
   "metadata": {},
   "outputs": [
    {
     "name": "stdout",
     "output_type": "stream",
     "text": [
      "✅ CloudFront distribution created:\n",
      "  ID: E3R61PZPW95NK0\n",
      "  Domain name: d2ywzz6etyffco.cloudfront.net\n"
     ]
    },
    {
     "data": {
      "text/plain": [
       "{'ResponseMetadata': {'RequestId': '6c7aa92f-2ca2-4d34-b7d1-a06e6a40629f',\n",
       "  'HTTPStatusCode': 201,\n",
       "  'HTTPHeaders': {'x-amzn-requestid': '6c7aa92f-2ca2-4d34-b7d1-a06e6a40629f',\n",
       "   'etag': 'E3BJAFEA6CK16',\n",
       "   'location': 'https://cloudfront.amazonaws.com/2020-05-31/distribution/E3R61PZPW95NK0',\n",
       "   'content-type': 'text/xml',\n",
       "   'content-length': '4028',\n",
       "   'date': 'Fri, 13 Jun 2025 10:57:37 GMT'},\n",
       "  'RetryAttempts': 0},\n",
       " 'Location': 'https://cloudfront.amazonaws.com/2020-05-31/distribution/E3R61PZPW95NK0',\n",
       " 'ETag': 'E3BJAFEA6CK16',\n",
       " 'Distribution': {'Id': 'E3R61PZPW95NK0',\n",
       "  'ARN': 'arn:aws:cloudfront::026090519913:distribution/E3R61PZPW95NK0',\n",
       "  'Status': 'InProgress',\n",
       "  'LastModifiedTime': datetime.datetime(2025, 6, 13, 10, 57, 36, 891000, tzinfo=tzutc()),\n",
       "  'InProgressInvalidationBatches': 0,\n",
       "  'DomainName': 'd2ywzz6etyffco.cloudfront.net',\n",
       "  'ActiveTrustedSigners': {'Enabled': False, 'Quantity': 0},\n",
       "  'ActiveTrustedKeyGroups': {'Enabled': False, 'Quantity': 0},\n",
       "  'DistributionConfig': {'CallerReference': 'chalkjuice.com',\n",
       "   'Aliases': {'Quantity': 2,\n",
       "    'Items': ['chalkjuice.com', 'www.chalkjuice.com']},\n",
       "   'DefaultRootObject': 'index.html',\n",
       "   'Origins': {'Quantity': 1,\n",
       "    'Items': [{'Id': 'chalkjuice.com',\n",
       "      'DomainName': 'chalkjuice.com.s3.us-east-2.amazonaws.com',\n",
       "      'OriginPath': '',\n",
       "      'CustomHeaders': {'Quantity': 0},\n",
       "      'S3OriginConfig': {'OriginAccessIdentity': ''},\n",
       "      'ConnectionAttempts': 3,\n",
       "      'ConnectionTimeout': 10,\n",
       "      'OriginShield': {'Enabled': False},\n",
       "      'OriginAccessControlId': 'E3P4FTF7GW2Z6V'}]},\n",
       "   'OriginGroups': {'Quantity': 0},\n",
       "   'DefaultCacheBehavior': {'TargetOriginId': 'chalkjuice.com',\n",
       "    'TrustedSigners': {'Enabled': False, 'Quantity': 0},\n",
       "    'TrustedKeyGroups': {'Enabled': False, 'Quantity': 0},\n",
       "    'ViewerProtocolPolicy': 'redirect-to-https',\n",
       "    'AllowedMethods': {'Quantity': 2,\n",
       "     'Items': ['HEAD', 'GET'],\n",
       "     'CachedMethods': {'Quantity': 2, 'Items': ['HEAD', 'GET']}},\n",
       "    'SmoothStreaming': False,\n",
       "    'Compress': True,\n",
       "    'LambdaFunctionAssociations': {'Quantity': 0},\n",
       "    'FunctionAssociations': {'Quantity': 0},\n",
       "    'FieldLevelEncryptionId': '',\n",
       "    'ForwardedValues': {'QueryString': False,\n",
       "     'Cookies': {'Forward': 'none'},\n",
       "     'Headers': {'Quantity': 0},\n",
       "     'QueryStringCacheKeys': {'Quantity': 0}},\n",
       "    'MinTTL': 0,\n",
       "    'DefaultTTL': 86400,\n",
       "    'MaxTTL': 31536000},\n",
       "   'CacheBehaviors': {'Quantity': 0},\n",
       "   'CustomErrorResponses': {'Quantity': 0},\n",
       "   'Comment': 'CloudFront distribution for chalkjuice.com',\n",
       "   'Logging': {'Enabled': True,\n",
       "    'IncludeCookies': False,\n",
       "    'Bucket': 'chalkjuice.com-logs.s3.amazonaws.com',\n",
       "    'Prefix': 'AWSLogs/026090519913/CloudFront/'},\n",
       "   'PriceClass': 'PriceClass_All',\n",
       "   'Enabled': True,\n",
       "   'ViewerCertificate': {'CloudFrontDefaultCertificate': False,\n",
       "    'ACMCertificateArn': 'arn:aws:acm:us-east-1:026090519913:certificate/886683bf-5f58-422d-a375-d7e2c1c2203c',\n",
       "    'SSLSupportMethod': 'sni-only',\n",
       "    'MinimumProtocolVersion': 'TLSv1.2_2021',\n",
       "    'Certificate': 'arn:aws:acm:us-east-1:026090519913:certificate/886683bf-5f58-422d-a375-d7e2c1c2203c',\n",
       "    'CertificateSource': 'acm'},\n",
       "   'Restrictions': {'GeoRestriction': {'RestrictionType': 'none',\n",
       "     'Quantity': 0}},\n",
       "   'WebACLId': '',\n",
       "   'HttpVersion': 'http2',\n",
       "   'IsIPV6Enabled': True,\n",
       "   'ContinuousDeploymentPolicyId': '',\n",
       "   'Staging': False},\n",
       "  'AliasICPRecordals': [{'CNAME': 'chalkjuice.com',\n",
       "    'ICPRecordalStatus': 'APPROVED'},\n",
       "   {'CNAME': 'www.chalkjuice.com', 'ICPRecordalStatus': 'APPROVED'}]}}"
      ]
     },
     "execution_count": 123,
     "metadata": {},
     "output_type": "execute_result"
    }
   ],
   "source": [
    "## Create cloudFront\n",
    "create_cloudfront_distribution_with_oac(website_name_com,aws_region, website_name_com, www_domain, acm_cert_arn, oac_id)"
   ]
  },
  {
   "cell_type": "markdown",
   "id": "dc085b5f",
   "metadata": {},
   "source": [
    "## add cname and A records to route 53"
   ]
  },
  {
   "cell_type": "code",
   "execution_count": 101,
   "id": "db28baf8",
   "metadata": {},
   "outputs": [],
   "source": [
    "# Do this step manually. Ensure set-up looks good. "
   ]
  },
  {
   "cell_type": "markdown",
   "id": "fb12e7d0",
   "metadata": {},
   "source": [
    "## Update 'chalkjuice.com' s3 bucket policy to include new distrobution id"
   ]
  },
  {
   "cell_type": "markdown",
   "id": "97d09f42",
   "metadata": {},
   "source": []
  }
 ],
 "metadata": {
  "kernelspec": {
   "display_name": ".venv",
   "language": "python",
   "name": "python3"
  },
  "language_info": {
   "codemirror_mode": {
    "name": "ipython",
    "version": 3
   },
   "file_extension": ".py",
   "mimetype": "text/x-python",
   "name": "python",
   "nbconvert_exporter": "python",
   "pygments_lexer": "ipython3",
   "version": "3.12.9"
  }
 },
 "nbformat": 4,
 "nbformat_minor": 5
}
