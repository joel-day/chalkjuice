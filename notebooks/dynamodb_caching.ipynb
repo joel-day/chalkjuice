{
 "cells": [
  {
   "cell_type": "markdown",
   "metadata": {},
   "source": [
    "# Caching Athena with DynamoDB"
   ]
  },
  {
   "cell_type": "code",
   "execution_count": 29,
   "metadata": {},
   "outputs": [],
   "source": [
    "import boto3\n",
    "from botocore.exceptions import ClientError\n",
    "import pandas as pd\n",
    "import io\n",
    "from dotenv import load_dotenv\n",
    "import os\n",
    "import time\n",
    "import hashlib\n",
    "import time\n",
    "import zlib\n",
    "import pandas as pd\n",
    "import json"
   ]
  },
  {
   "cell_type": "markdown",
   "metadata": {},
   "source": [
    "## Definitions"
   ]
  },
  {
   "cell_type": "code",
   "execution_count": 30,
   "metadata": {},
   "outputs": [],
   "source": [
    "def create_boto3_session():\n",
    "    # Load .env file variables into the environment\n",
    "    load_dotenv()\n",
    "    aws_access_key = os.getenv(\"AWS_ACCESS_KEY_ID\")\n",
    "    aws_secret_key = os.getenv(\"AWS_SECRET_ACCESS_KEY\")\n",
    "    aws_region = os.getenv(\"AWS_DEFAULT_REGION\")\n",
    "\n",
    "    # Safety check\n",
    "    if not aws_access_key or not aws_secret_key:\n",
    "        raise ValueError(\"Missing AWS credentials in .env file.\")\n",
    "\n",
    "    # Create boto3 session\n",
    "    boto3_session = boto3.Session(\n",
    "        aws_access_key_id=aws_access_key,\n",
    "        aws_secret_access_key=aws_secret_key,\n",
    "        region_name=aws_region\n",
    "    )\n",
    "\n",
    "    return boto3_session, aws_region"
   ]
  },
  {
   "cell_type": "code",
   "execution_count": 31,
   "metadata": {},
   "outputs": [],
   "source": [
    "# Pulls the specified file from s3 and loads into pandas df\n",
    "def connect_to_aws_clients(boto3_session): \n",
    "    # Create an Athena client\n",
    "    athena_client = boto3.client(\"athena\")\n",
    "\n",
    "    # Create a DynamoDB client\n",
    "    dynamodb_client = boto3.client(\"dynamodb\")\n",
    "\n",
    "    return athena_client, dynamodb_client"
   ]
  },
  {
   "cell_type": "code",
   "execution_count": 60,
   "metadata": {},
   "outputs": [],
   "source": [
    "def hash_query(query):\n",
    "    \"\"\"Generate a SHA256 hash for the given query.\"\"\"\n",
    "    return hashlib.sha256(query.encode()).hexdigest()"
   ]
  },
  {
   "cell_type": "code",
   "execution_count": 61,
   "metadata": {},
   "outputs": [],
   "source": [
    "def query_athena(query, athena, athena_database, athena_output_location):\n",
    "    response = athena.start_query_execution(\n",
    "        QueryString=query,\n",
    "        QueryExecutionContext={'Database': athena_database},\n",
    "        ResultConfiguration={'OutputLocation': athena_output_location}\n",
    "    )\n",
    "\n",
    "    # Wait for the query to finish\n",
    "    query_execution_id = response['QueryExecutionId']\n",
    "    while True:\n",
    "        status = athena.get_query_execution(QueryExecutionId=query_execution_id)['QueryExecution']['Status']['State']\n",
    "        if status in ['SUCCEEDED', 'FAILED', 'CANCELLED']:\n",
    "            print(f\"Query finished with status: {status}\")\n",
    "            break\n",
    "        time.sleep(1)\n",
    "\n",
    "    if status != 'SUCCEEDED':\n",
    "        raise Exception(\"Failed to query database.\")\n",
    "    \n",
    "    return query_execution_id"
   ]
  },
  {
   "cell_type": "code",
   "execution_count": 62,
   "metadata": {},
   "outputs": [],
   "source": [
    "def create_df_from_athena_query(query_execution_id, athena_client):\n",
    "    \n",
    "    # Get Query Results\n",
    "    results = athena_client.get_query_results(QueryExecutionId=query_execution_id)\n",
    "\n",
    "    columns = [col[\"Label\"] for col in results[\"ResultSet\"][\"ResultSetMetadata\"][\"ColumnInfo\"]]\n",
    "\n",
    "    # Extract Rows\n",
    "    rows = []\n",
    "    for row in results[\"ResultSet\"][\"Rows\"][1:]:  # Skip header row\n",
    "        extracted_row = [col.get(\"VarCharValue\", None) for col in row[\"Data\"]]  # Extract actual values\n",
    "        rows.append(extracted_row)\n",
    "\n",
    "    # Convert to Pandas DataFrame\n",
    "    df = pd.DataFrame(rows, columns=columns)\n",
    "    df = df.fillna(\"NA\")\n",
    "    df.columns = df.columns.str.replace('_', ' ').str.title()\n",
    "\n",
    "    return df"
   ]
  },
  {
   "cell_type": "code",
   "execution_count": 35,
   "metadata": {},
   "outputs": [],
   "source": [
    "def compress_json(df):\n",
    "    # Convert DataFrame to JSON format\n",
    "    json_str = df.to_json(orient=\"records\")\n",
    "    \n",
    "    # Compress the JSON string\n",
    "    compressed_data = zlib.compress(json_str.encode())\n",
    "\n",
    "    return compressed_data"
   ]
  },
  {
   "cell_type": "code",
   "execution_count": 37,
   "metadata": {},
   "outputs": [],
   "source": [
    "def decompress_json(compressed_data):\n",
    "    \"\"\"Decompress JSON data from zlib.\"\"\"\n",
    "    return json.loads(zlib.decompress(compressed_data).decode())"
   ]
  },
  {
   "cell_type": "code",
   "execution_count": 54,
   "metadata": {},
   "outputs": [],
   "source": [
    "def check_table_exists(dynamodb_client, table_name):\n",
    "    try:\n",
    "        dynamodb_client.describe_table(TableName=table_name)\n",
    "        print(f\"✅ Table '{table_name}' already exists.\")\n",
    "        return True\n",
    "    except ClientError as e:\n",
    "        if e.response['Error']['Code'] == 'ResourceNotFoundException':\n",
    "            print(f\"❌ Table '{table_name}' does not exist.\")\n",
    "            return False\n",
    "        else:\n",
    "            raise  # Re-raise unexpected exceptions"
   ]
  },
  {
   "cell_type": "code",
   "execution_count": 50,
   "metadata": {},
   "outputs": [],
   "source": [
    "def create_dynamodb_table(dynamodb_client, table_name, partition_key, attribute_type):\n",
    "    # Required at creation: You define only the partition key\n",
    "    dynamodb_client.create_table(\n",
    "        TableName=table_name,\n",
    "        KeySchema=[\n",
    "            {\n",
    "                'AttributeName': partition_key,\n",
    "                'KeyType': 'HASH'  # Partition key\n",
    "            }\n",
    "        ],\n",
    "        AttributeDefinitions=[\n",
    "            {\n",
    "                'AttributeName': partition_key,\n",
    "                'AttributeType': attribute_type\n",
    "            }\n",
    "        ],\n",
    "        ProvisionedThroughput={\n",
    "            'ReadCapacityUnits': 5,\n",
    "            'WriteCapacityUnits': 5\n",
    "        }\n",
    "    )"
   ]
  },
  {
   "cell_type": "markdown",
   "metadata": {},
   "source": [
    "## Custom Variables"
   ]
  },
  {
   "cell_type": "code",
   "execution_count": null,
   "metadata": {},
   "outputs": [],
   "source": [
    "ATHENA_DATABASE = \"nfl\"\n",
    "ATHENA_TABLE = \"nfl_games_all\"\n",
    "ATHENA_OUTPUT_BUCKET = \"s3://chalkjuice-backend/nfl_games_all_athena_parquet/\"  # Replace with your actual S3 bucket\n",
    "\n",
    "\n",
    "DYNAMODB_TABLE = \"nfl_games_all\""
   ]
  },
  {
   "cell_type": "code",
   "execution_count": 42,
   "metadata": {},
   "outputs": [],
   "source": [
    "boto3_session, aws_region = create_boto3_session()\n",
    "athena_client, dynamodb_client = connect_to_aws_clients(boto3_session)"
   ]
  },
  {
   "cell_type": "markdown",
   "metadata": {},
   "source": [
    "## Create DynamoDb table"
   ]
  },
  {
   "cell_type": "code",
   "execution_count": 83,
   "metadata": {},
   "outputs": [],
   "source": [
    "table_name = DYNAMODB_TABLE\n",
    "partition_key = 'query_hash'\n",
    "attribute_type = 'S'"
   ]
  },
  {
   "cell_type": "code",
   "execution_count": 84,
   "metadata": {},
   "outputs": [
    {
     "name": "stdout",
     "output_type": "stream",
     "text": [
      "❌ Table 'nfl_games_all' does not exist.\n",
      "table created\n"
     ]
    }
   ],
   "source": [
    "x = check_table_exists(dynamodb_client, table_name)\n",
    "if x:\n",
    "    pass\n",
    "else:\n",
    "    create_dynamodb_table(dynamodb_client, table_name, partition_key, attribute_type)\n",
    "    print('table created')"
   ]
  },
  {
   "cell_type": "markdown",
   "metadata": {},
   "source": [
    "## Add data to table"
   ]
  },
  {
   "cell_type": "code",
   "execution_count": 89,
   "metadata": {},
   "outputs": [],
   "source": [
    "def add_data_to_table(dynamodb_client, query_hash, compressed_json, table, team, year):\n",
    "    year = str(year)\n",
    "    \"\"\"Store the compressed query result in DynamoDB.\"\"\"\n",
    "    dynamodb_client.put_item(\n",
    "        TableName=table,\n",
    "        Item={\n",
    "            \"query_hash\": {\"S\": query_hash},\n",
    "            \"compressed_json\": {\"B\": compressed_json}, # Compressed JSON stored as binary\n",
    "            \"hits\": {\"N\": \"0\"},\n",
    "            \"team\": {\"S\": team},\n",
    "            \"year\": {\"S\": year}\n",
    "        }\n",
    "    )"
   ]
  },
  {
   "cell_type": "code",
   "execution_count": null,
   "metadata": {},
   "outputs": [
    {
     "name": "stdout",
     "output_type": "stream",
     "text": [
      "SELECT * FROM \"nfl\".\"nfl_games_all\" WHERE season = 1967 AND team = 'ARI';\n",
      "Query finished with status: SUCCEEDED\n",
      "SELECT * FROM \"nfl\".\"nfl_games_all\" WHERE season = 1967 AND team = 'ATL';\n",
      "Query finished with status: SUCCEEDED\n",
      "SELECT * FROM \"nfl\".\"nfl_games_all\" WHERE season = 1967 AND team = 'BAL';\n",
      "Query finished with status: SUCCEEDED\n",
      "SELECT * FROM \"nfl\".\"nfl_games_all\" WHERE season = 1967 AND team = 'BUF';\n",
      "Query finished with status: SUCCEEDED\n",
      "SELECT * FROM \"nfl\".\"nfl_games_all\" WHERE season = 1967 AND team = 'CAR';\n",
      "Query finished with status: SUCCEEDED\n",
      "SELECT * FROM \"nfl\".\"nfl_games_all\" WHERE season = 1967 AND team = 'CHI';\n",
      "Query finished with status: SUCCEEDED\n",
      "SELECT * FROM \"nfl\".\"nfl_games_all\" WHERE season = 1967 AND team = 'CIN';\n",
      "Query finished with status: SUCCEEDED\n",
      "SELECT * FROM \"nfl\".\"nfl_games_all\" WHERE season = 1967 AND team = 'CLE';\n",
      "Query finished with status: SUCCEEDED\n",
      "SELECT * FROM \"nfl\".\"nfl_games_all\" WHERE season = 1967 AND team = 'DAL';\n",
      "Query finished with status: SUCCEEDED\n",
      "SELECT * FROM \"nfl\".\"nfl_games_all\" WHERE season = 1967 AND team = 'DEN';\n",
      "Query finished with status: SUCCEEDED\n",
      "SELECT * FROM \"nfl\".\"nfl_games_all\" WHERE season = 1967 AND team = 'DET';\n",
      "Query finished with status: SUCCEEDED\n",
      "SELECT * FROM \"nfl\".\"nfl_games_all\" WHERE season = 1967 AND team = 'GNB';\n",
      "Query finished with status: SUCCEEDED\n",
      "SELECT * FROM \"nfl\".\"nfl_games_all\" WHERE season = 1967 AND team = 'HOU';\n",
      "Query finished with status: SUCCEEDED\n",
      "SELECT * FROM \"nfl\".\"nfl_games_all\" WHERE season = 1967 AND team = 'IND';\n",
      "Query finished with status: SUCCEEDED\n",
      "SELECT * FROM \"nfl\".\"nfl_games_all\" WHERE season = 1967 AND team = 'JAX';\n",
      "Query finished with status: SUCCEEDED\n",
      "SELECT * FROM \"nfl\".\"nfl_games_all\" WHERE season = 1967 AND team = 'KAN';\n",
      "Query finished with status: SUCCEEDED\n",
      "SELECT * FROM \"nfl\".\"nfl_games_all\" WHERE season = 1967 AND team = 'LVR';\n",
      "Query finished with status: SUCCEEDED\n",
      "SELECT * FROM \"nfl\".\"nfl_games_all\" WHERE season = 1967 AND team = 'LAC';\n",
      "Query finished with status: SUCCEEDED\n",
      "SELECT * FROM \"nfl\".\"nfl_games_all\" WHERE season = 1967 AND team = 'LAR';\n",
      "Query finished with status: SUCCEEDED\n",
      "SELECT * FROM \"nfl\".\"nfl_games_all\" WHERE season = 1967 AND team = 'MIA';\n",
      "Query finished with status: SUCCEEDED\n",
      "SELECT * FROM \"nfl\".\"nfl_games_all\" WHERE season = 1967 AND team = 'MIN';\n",
      "Query finished with status: SUCCEEDED\n",
      "SELECT * FROM \"nfl\".\"nfl_games_all\" WHERE season = 1967 AND team = 'NWE';\n",
      "Query finished with status: SUCCEEDED\n",
      "SELECT * FROM \"nfl\".\"nfl_games_all\" WHERE season = 1967 AND team = 'NOR';\n",
      "Query finished with status: SUCCEEDED\n",
      "SELECT * FROM \"nfl\".\"nfl_games_all\" WHERE season = 1967 AND team = 'NYG';\n",
      "Query finished with status: SUCCEEDED\n",
      "SELECT * FROM \"nfl\".\"nfl_games_all\" WHERE season = 1967 AND team = 'NYJ';\n",
      "Query finished with status: SUCCEEDED\n",
      "SELECT * FROM \"nfl\".\"nfl_games_all\" WHERE season = 1967 AND team = 'PHI';\n",
      "Query finished with status: SUCCEEDED\n",
      "SELECT * FROM \"nfl\".\"nfl_games_all\" WHERE season = 1967 AND team = 'PIT';\n",
      "Query finished with status: SUCCEEDED\n",
      "SELECT * FROM \"nfl\".\"nfl_games_all\" WHERE season = 1967 AND team = 'SFO';\n",
      "Query finished with status: SUCCEEDED\n",
      "SELECT * FROM \"nfl\".\"nfl_games_all\" WHERE season = 1967 AND team = 'SEA';\n",
      "Query finished with status: SUCCEEDED\n",
      "SELECT * FROM \"nfl\".\"nfl_games_all\" WHERE season = 1967 AND team = 'TAM';\n",
      "Query finished with status: SUCCEEDED\n",
      "SELECT * FROM \"nfl\".\"nfl_games_all\" WHERE season = 1967 AND team = 'TEN';\n",
      "Query finished with status: SUCCEEDED\n",
      "SELECT * FROM \"nfl\".\"nfl_games_all\" WHERE season = 1967 AND team = 'WAS';\n",
      "Query finished with status: SUCCEEDED\n",
      "SELECT * FROM \"nfl\".\"nfl_games_all\" WHERE season = 1968 AND team = 'ARI';\n",
      "Query finished with status: SUCCEEDED\n",
      "SELECT * FROM \"nfl\".\"nfl_games_all\" WHERE season = 1968 AND team = 'ATL';\n",
      "Query finished with status: SUCCEEDED\n",
      "SELECT * FROM \"nfl\".\"nfl_games_all\" WHERE season = 1968 AND team = 'BAL';\n",
      "Query finished with status: SUCCEEDED\n",
      "SELECT * FROM \"nfl\".\"nfl_games_all\" WHERE season = 1968 AND team = 'BUF';\n",
      "Query finished with status: SUCCEEDED\n",
      "SELECT * FROM \"nfl\".\"nfl_games_all\" WHERE season = 1968 AND team = 'CAR';\n",
      "Query finished with status: SUCCEEDED\n",
      "SELECT * FROM \"nfl\".\"nfl_games_all\" WHERE season = 1968 AND team = 'CHI';\n",
      "Query finished with status: SUCCEEDED\n",
      "SELECT * FROM \"nfl\".\"nfl_games_all\" WHERE season = 1968 AND team = 'CIN';\n",
      "Query finished with status: SUCCEEDED\n",
      "SELECT * FROM \"nfl\".\"nfl_games_all\" WHERE season = 1968 AND team = 'CLE';\n",
      "Query finished with status: SUCCEEDED\n",
      "SELECT * FROM \"nfl\".\"nfl_games_all\" WHERE season = 1968 AND team = 'DAL';\n",
      "Query finished with status: SUCCEEDED\n",
      "SELECT * FROM \"nfl\".\"nfl_games_all\" WHERE season = 1968 AND team = 'DEN';\n",
      "Query finished with status: SUCCEEDED\n",
      "SELECT * FROM \"nfl\".\"nfl_games_all\" WHERE season = 1968 AND team = 'DET';\n",
      "Query finished with status: SUCCEEDED\n",
      "SELECT * FROM \"nfl\".\"nfl_games_all\" WHERE season = 1968 AND team = 'GNB';\n",
      "Query finished with status: SUCCEEDED\n",
      "SELECT * FROM \"nfl\".\"nfl_games_all\" WHERE season = 1968 AND team = 'HOU';\n",
      "Query finished with status: SUCCEEDED\n",
      "SELECT * FROM \"nfl\".\"nfl_games_all\" WHERE season = 1968 AND team = 'IND';\n",
      "Query finished with status: SUCCEEDED\n",
      "SELECT * FROM \"nfl\".\"nfl_games_all\" WHERE season = 1968 AND team = 'JAX';\n",
      "Query finished with status: SUCCEEDED\n",
      "SELECT * FROM \"nfl\".\"nfl_games_all\" WHERE season = 1968 AND team = 'KAN';\n",
      "Query finished with status: SUCCEEDED\n",
      "SELECT * FROM \"nfl\".\"nfl_games_all\" WHERE season = 1968 AND team = 'LVR';\n"
     ]
    }
   ],
   "source": [
    "teams = [\n",
    "    \"ARI\", \"ATL\", \"BAL\", \"BUF\", \"CAR\", \"CHI\", \"CIN\", \"CLE\", \"DAL\", \"DEN\",\n",
    "    \"DET\", \"GNB\", \"HOU\", \"IND\", \"JAX\", \"KAN\", \"LVR\", \"LAC\", \"LAR\", \"MIA\",\n",
    "    \"MIN\", \"NWE\", \"NOR\", \"NYG\", \"NYJ\", \"PHI\", \"PIT\", \"SFO\", \"SEA\", \"TAM\",\n",
    "    \"TEN\", \"WAS\"\n",
    "]\n",
    "\n",
    "for year in range(1967, 2024):\n",
    "    for team in teams:\n",
    "\n",
    "        # Create query and query hash\n",
    "        query = f'''SELECT * FROM \"nfl\".\"nfl_games_all\" WHERE season = {year} AND team = '{team}';'''\n",
    "        print(query)\n",
    "    \n",
    "        query_hash = hash_query(query)\n",
    "\n",
    "        # Save query results as json\n",
    "        query_execution_id = query_athena(query, athena_client, ATHENA_DATABASE, ATHENA_OUTPUT_BUCKET)\n",
    "        df = create_df_from_athena_query(query_execution_id, athena_client)\n",
    "        \n",
    "        df['Date'] = pd.to_datetime(df['Date'])  # Convert date column to datetime\n",
    "\n",
    "        df = df.sort_values(by=['Season', 'Date'], ascending=[False, True])\n",
    "\n",
    "        df['Date'] = df['Date'].astype(str)  # Convert the Date column to string\n",
    "        compressed_json = compress_json(df)\n",
    "\n",
    "        # Store the query hash and the resulting data into dynamoDB\n",
    "        add_data_to_table(dynamodb_client, query_hash, compressed_json, ATHENA_TABLE, team, year)\n",
    "    "
   ]
  },
  {
   "cell_type": "code",
   "execution_count": null,
   "metadata": {},
   "outputs": [],
   "source": []
  },
  {
   "cell_type": "code",
   "execution_count": null,
   "metadata": {},
   "outputs": [],
   "source": []
  },
  {
   "cell_type": "code",
   "execution_count": null,
   "metadata": {},
   "outputs": [],
   "source": []
  },
  {
   "cell_type": "code",
   "execution_count": null,
   "metadata": {},
   "outputs": [],
   "source": []
  },
  {
   "cell_type": "code",
   "execution_count": null,
   "metadata": {},
   "outputs": [],
   "source": []
  },
  {
   "cell_type": "code",
   "execution_count": null,
   "metadata": {},
   "outputs": [],
   "source": []
  },
  {
   "cell_type": "code",
   "execution_count": null,
   "metadata": {},
   "outputs": [],
   "source": []
  },
  {
   "cell_type": "code",
   "execution_count": null,
   "metadata": {},
   "outputs": [],
   "source": []
  },
  {
   "cell_type": "markdown",
   "metadata": {},
   "source": [
    "## Manually pull cached data into pandas or just verify its there"
   ]
  },
  {
   "cell_type": "code",
   "execution_count": null,
   "metadata": {},
   "outputs": [],
   "source": [
    "def get_cached_result(query: str) -> pd.DataFrame:\n",
    "\n",
    "    query_hash = hash_query(query)\n",
    "\n",
    "\n",
    "    # Check if the hash exists in DynamoDB\n",
    "    response = dynamodb_client.get_item(\n",
    "        TableName=DYNAMODB_TABLE,\n",
    "        Key={\"query_hash\": {\"S\": query_hash}}\n",
    "    )\n",
    "\n",
    "\n",
    "    # If hash exists, retrieve and decompress the data\n",
    "    if \"Item\" in response:\n",
    "        print(\"Item was cached.\")\n",
    "        compressed_json = response[\"Item\"][\"compressed_json\"][\"B\"]  # Get binary data\n",
    "\n",
    "        # Decompress and convert back to JSON\n",
    "        json_str = zlib.decompress(compressed_json).decode()\n",
    "        data = json.loads(json_str)\n",
    "\n",
    "        # Convert JSON to Pandas DataFrame\n",
    "        return pd.DataFrame(data)\n",
    "    \n",
    "    else:\n",
    "        print(\"Query not cached.\")\n",
    "        print(query)\n",
    "        return None"
   ]
  },
  {
   "cell_type": "code",
   "execution_count": null,
   "metadata": {},
   "outputs": [
    {
     "ename": "ClientError",
     "evalue": "An error occurred (AccessDeniedException) when calling the GetItem operation: User: arn:aws:iam::026090519913:user/ChalkJuice is not authorized to perform: dynamodb:GetItem on resource: arn:aws:dynamodb:us-east-2:026090519913:table/nfl_games_all because no identity-based policy allows the dynamodb:GetItem action",
     "output_type": "error",
     "traceback": [
      "\u001b[31m---------------------------------------------------------------------------\u001b[39m",
      "\u001b[31mClientError\u001b[39m                               Traceback (most recent call last)",
      "\u001b[36mCell\u001b[39m\u001b[36m \u001b[39m\u001b[32mIn[28]\u001b[39m\u001b[32m, line 3\u001b[39m\n\u001b[32m      1\u001b[39m \u001b[38;5;28;01mfor\u001b[39;00m year \u001b[38;5;129;01min\u001b[39;00m \u001b[38;5;28mrange\u001b[39m(\u001b[32m1967\u001b[39m, \u001b[32m2024\u001b[39m):\n\u001b[32m      2\u001b[39m     query = \u001b[33mf\u001b[39m\u001b[33m'''\u001b[39m\u001b[33mSELECT * FROM chalkjuice_data WHERE season = \u001b[39m\u001b[38;5;132;01m{\u001b[39;00myear\u001b[38;5;132;01m}\u001b[39;00m\u001b[33m;\u001b[39m\u001b[33m'''\u001b[39m\n\u001b[32m----> \u001b[39m\u001b[32m3\u001b[39m     df = \u001b[43mget_cached_result\u001b[49m\u001b[43m(\u001b[49m\u001b[43mquery\u001b[49m\u001b[43m)\u001b[49m\n\u001b[32m      5\u001b[39m df.head(\u001b[32m10\u001b[39m)\n",
      "\u001b[36mCell\u001b[39m\u001b[36m \u001b[39m\u001b[32mIn[18]\u001b[39m\u001b[32m, line 11\u001b[39m, in \u001b[36mget_cached_result\u001b[39m\u001b[34m(query)\u001b[39m\n\u001b[32m      7\u001b[39m query_hash = hash_query(query)\n\u001b[32m      8\u001b[39m \u001b[38;5;66;03m#print(query_hash)\u001b[39;00m\n\u001b[32m      9\u001b[39m \n\u001b[32m     10\u001b[39m \u001b[38;5;66;03m# Check if the hash exists in DynamoDB\u001b[39;00m\n\u001b[32m---> \u001b[39m\u001b[32m11\u001b[39m response = \u001b[43mdynamodb_client\u001b[49m\u001b[43m.\u001b[49m\u001b[43mget_item\u001b[49m\u001b[43m(\u001b[49m\n\u001b[32m     12\u001b[39m \u001b[43m    \u001b[49m\u001b[43mTableName\u001b[49m\u001b[43m=\u001b[49m\u001b[43mDYNAMODB_TABLE\u001b[49m\u001b[43m,\u001b[49m\n\u001b[32m     13\u001b[39m \u001b[43m    \u001b[49m\u001b[43mKey\u001b[49m\u001b[43m=\u001b[49m\u001b[43m{\u001b[49m\u001b[33;43m\"\u001b[39;49m\u001b[33;43mquery_hash\u001b[39;49m\u001b[33;43m\"\u001b[39;49m\u001b[43m:\u001b[49m\u001b[43m \u001b[49m\u001b[43m{\u001b[49m\u001b[33;43m\"\u001b[39;49m\u001b[33;43mS\u001b[39;49m\u001b[33;43m\"\u001b[39;49m\u001b[43m:\u001b[49m\u001b[43m \u001b[49m\u001b[43mquery_hash\u001b[49m\u001b[43m}\u001b[49m\u001b[43m}\u001b[49m\n\u001b[32m     14\u001b[39m \u001b[43m\u001b[49m\u001b[43m)\u001b[49m\n\u001b[32m     17\u001b[39m \u001b[38;5;66;03m# If hash exists, retrieve and decompress the data\u001b[39;00m\n\u001b[32m     18\u001b[39m \u001b[38;5;28;01mif\u001b[39;00m \u001b[33m\"\u001b[39m\u001b[33mItem\u001b[39m\u001b[33m\"\u001b[39m \u001b[38;5;129;01min\u001b[39;00m response:\n",
      "\u001b[36mFile \u001b[39m\u001b[32mc:\\Users\\joel\\Documents\\repos\\chalkjuice\\.venv\\Lib\\site-packages\\botocore\\client.py:565\u001b[39m, in \u001b[36mClientCreator._create_api_method.<locals>._api_call\u001b[39m\u001b[34m(self, *args, **kwargs)\u001b[39m\n\u001b[32m    561\u001b[39m     \u001b[38;5;28;01mraise\u001b[39;00m \u001b[38;5;167;01mTypeError\u001b[39;00m(\n\u001b[32m    562\u001b[39m         \u001b[33mf\u001b[39m\u001b[33m\"\u001b[39m\u001b[38;5;132;01m{\u001b[39;00mpy_operation_name\u001b[38;5;132;01m}\u001b[39;00m\u001b[33m() only accepts keyword arguments.\u001b[39m\u001b[33m\"\u001b[39m\n\u001b[32m    563\u001b[39m     )\n\u001b[32m    564\u001b[39m \u001b[38;5;66;03m# The \"self\" in this scope is referring to the BaseClient.\u001b[39;00m\n\u001b[32m--> \u001b[39m\u001b[32m565\u001b[39m \u001b[38;5;28;01mreturn\u001b[39;00m \u001b[38;5;28;43mself\u001b[39;49m\u001b[43m.\u001b[49m\u001b[43m_make_api_call\u001b[49m\u001b[43m(\u001b[49m\u001b[43moperation_name\u001b[49m\u001b[43m,\u001b[49m\u001b[43m \u001b[49m\u001b[43mkwargs\u001b[49m\u001b[43m)\u001b[49m\n",
      "\u001b[36mFile \u001b[39m\u001b[32mc:\\Users\\joel\\Documents\\repos\\chalkjuice\\.venv\\Lib\\site-packages\\botocore\\client.py:1021\u001b[39m, in \u001b[36mBaseClient._make_api_call\u001b[39m\u001b[34m(self, operation_name, api_params)\u001b[39m\n\u001b[32m   1017\u001b[39m     error_code = error_info.get(\u001b[33m\"\u001b[39m\u001b[33mQueryErrorCode\u001b[39m\u001b[33m\"\u001b[39m) \u001b[38;5;129;01mor\u001b[39;00m error_info.get(\n\u001b[32m   1018\u001b[39m         \u001b[33m\"\u001b[39m\u001b[33mCode\u001b[39m\u001b[33m\"\u001b[39m\n\u001b[32m   1019\u001b[39m     )\n\u001b[32m   1020\u001b[39m     error_class = \u001b[38;5;28mself\u001b[39m.exceptions.from_code(error_code)\n\u001b[32m-> \u001b[39m\u001b[32m1021\u001b[39m     \u001b[38;5;28;01mraise\u001b[39;00m error_class(parsed_response, operation_name)\n\u001b[32m   1022\u001b[39m \u001b[38;5;28;01melse\u001b[39;00m:\n\u001b[32m   1023\u001b[39m     \u001b[38;5;28;01mreturn\u001b[39;00m parsed_response\n",
      "\u001b[31mClientError\u001b[39m: An error occurred (AccessDeniedException) when calling the GetItem operation: User: arn:aws:iam::026090519913:user/ChalkJuice is not authorized to perform: dynamodb:GetItem on resource: arn:aws:dynamodb:us-east-2:026090519913:table/nfl_games_all because no identity-based policy allows the dynamodb:GetItem action"
     ]
    }
   ],
   "source": [
    "for year in range(1967, 2024):\n",
    "    query = f'''SELECT * FROM chalkjuice_data WHERE season = {year} AND team = 'MIN';'''\n",
    "    df = get_cached_result(query)\n",
    "\n",
    "df.head(10)\n"
   ]
  },
  {
   "cell_type": "code",
   "execution_count": null,
   "metadata": {},
   "outputs": [],
   "source": []
  },
  {
   "cell_type": "code",
   "execution_count": null,
   "metadata": {},
   "outputs": [],
   "source": []
  },
  {
   "cell_type": "markdown",
   "metadata": {},
   "source": [
    "## Query from s3 using Athena. If the dataframe is cached pull from Dynamodb. If its not, query with athena and create a hash in dynamoDB"
   ]
  },
  {
   "cell_type": "code",
   "execution_count": null,
   "metadata": {},
   "outputs": [],
   "source": [
    "def get_df_try_hash(query):\n",
    "    \"\"\"\n",
    "    Check if the query hash exists in DynamoDB.\n",
    "    If it exists, retrieve and decompress the JSON data, then return as a Pandas DataFrame.\n",
    "    \"\"\"\n",
    "    # Create hash from the query\n",
    "    query_hash = hash_query(query)\n",
    "\n",
    "\n",
    "    # Check if the hash exists in DynamoDB\n",
    "    response = dynamodb.get_item(\n",
    "        TableName=DYNAMODB_TABLE,\n",
    "        Key={\"query_hash\": {\"S\": query_hash}}\n",
    "    )\n",
    "\n",
    "\n",
    "    # If hash exists, retrieve and decompress the data\n",
    "    if \"Item\" in response:\n",
    "        print(\"item was cached\")\n",
    "        compressed_json = response[\"Item\"][\"compressed_json\"][\"B\"]  # Get binary data\n",
    "\n",
    "        # Decompress and convert back to JSON\n",
    "        json_str = zlib.decompress(compressed_json).decode()\n",
    "        data = json.loads(json_str)\n",
    "\n",
    "        # Convert JSON to Pandas DataFrame\n",
    "        return pd.DataFrame(data)\n",
    "    \n",
    "    else:\n",
    "\n",
    "        result_df = run_athena_query(query)\n",
    "\n",
    "        compressed_json = compress_json(result_df)\n",
    "\n",
    "        store_in_cache(query_hash, compressed_json)\n",
    "\n",
    "        \n",
    "        return df"
   ]
  },
  {
   "cell_type": "code",
   "execution_count": null,
   "metadata": {},
   "outputs": [
    {
     "name": "stdout",
     "output_type": "stream",
     "text": [
      "item was cached\n"
     ]
    }
   ],
   "source": [
    "# Example Usage\n",
    "query = 'SELECT * FROM chalkjuice_data WHERE season = 1988;'\n",
    "#query = \"SELECT * FROM chalkjuice_data WHERE season = 2023;\"\n",
    "df = get_df_try_hash(query)"
   ]
  },
  {
   "cell_type": "code",
   "execution_count": null,
   "metadata": {},
   "outputs": [],
   "source": []
  },
  {
   "cell_type": "code",
   "execution_count": null,
   "metadata": {},
   "outputs": [],
   "source": []
  },
  {
   "cell_type": "code",
   "execution_count": null,
   "metadata": {},
   "outputs": [],
   "source": []
  },
  {
   "cell_type": "markdown",
   "metadata": {},
   "source": [
    "## Add data to the existing hashes"
   ]
  },
  {
   "cell_type": "code",
   "execution_count": null,
   "metadata": {},
   "outputs": [],
   "source": [
    "def update_all_items():\n",
    "    last_evaluated_key = None\n",
    "\n",
    "    while True:\n",
    "        # Scan the table with pagination\n",
    "        if last_evaluated_key:\n",
    "            response = table.scan(ExclusiveStartKey=last_evaluated_key)\n",
    "        else:\n",
    "            response = table.scan()\n",
    "\n",
    "        items = response.get(\"Items\", [])\n",
    "\n",
    "        # Update each item to add 'hits' column\n",
    "        for item in items:\n",
    "            table.update_item(\n",
    "                Key={\"query_hash\": item[\"query_hash\"]},\n",
    "                UpdateExpression=\"SET hits = :h\",\n",
    "                ExpressionAttributeValues={\":h\": 0},\n",
    "            )\n",
    "\n",
    "        print(f\"Updated {len(items)} items in this batch.\")\n",
    "\n",
    "        # Check if there are more items to scan\n",
    "        last_evaluated_key = response.get(\"LastEvaluatedKey\")\n",
    "        if not last_evaluated_key:\n",
    "            break\n",
    "\n",
    "    print(\"Finished updating all items.\")\n",
    "\n",
    "# Run the update function\n",
    "#update_all_items()"
   ]
  },
  {
   "cell_type": "markdown",
   "metadata": {},
   "source": [
    "## load a pandas df with the hit number in the first column and the query in the scond sorted by desc hits"
   ]
  },
  {
   "cell_type": "code",
   "execution_count": null,
   "metadata": {},
   "outputs": [
    {
     "name": "stdout",
     "output_type": "stream",
     "text": [
      "   hits Season Team\n",
      "0     4   2023  DET\n",
      "1     3   2023  All\n",
      "2     2   2023  MIN\n",
      "3     0   1969  All\n",
      "4     0   1993  All\n",
      "5     0   2018  All\n",
      "6     0   2015  All\n",
      "7     0   1968  All\n",
      "8     0   1978  All\n",
      "9     0   2004  All\n"
     ]
    }
   ],
   "source": [
    "import boto3\n",
    "import pandas as pd\n",
    "import json\n",
    "import zlib\n",
    "\n",
    "# Initialize DynamoDB resource\n",
    "dynamodb = boto3.resource(\"dynamodb\")\n",
    "table = dynamodb.Table(\"gold_hash\")\n",
    "\n",
    "\n",
    "def load_hits_dataframe():\n",
    "    \"\"\"Load data from DynamoDB into a Pandas DataFrame and sort by hits in descending order.\"\"\"\n",
    "    items = []\n",
    "    last_evaluated_key = None\n",
    "\n",
    "    while True:\n",
    "        # Scan the table with pagination\n",
    "        if last_evaluated_key:\n",
    "            response = table.scan(ExclusiveStartKey=last_evaluated_key)\n",
    "        else:\n",
    "            response = table.scan()\n",
    "\n",
    "        items.extend(response.get(\"Items\", []))\n",
    "\n",
    "        # Check if there are more items to scan\n",
    "        last_evaluated_key = response.get(\"LastEvaluatedKey\")\n",
    "        if not last_evaluated_key:\n",
    "            break\n",
    "\n",
    "    # Extract necessary columns\n",
    "    data = []\n",
    "    for item in items:\n",
    "        try:\n",
    "            decompressed_data = decompress_json(item[\"compressed_json\"].value)  # Decompress JSON\n",
    "            \n",
    "        except Exception as e:\n",
    "            print(f\"Error decompressing data for query_hash {item['query_hash']}: {e}\")\n",
    "            decompressed_data = None  # Handle errors gracefully\n",
    "        \n",
    "        data.append({\"Hits\": int(item[\"hits\"]), \"decompressed_json\": decompressed_data})\n",
    "\n",
    "    # Create DataFrame\n",
    "    df = pd.DataFrame(data)\n",
    "    \n",
    "    # Sort by hits in descending order\n",
    "    df = df.sort_values(by=\"hits\", ascending=False).reset_index(drop=True)\n",
    "\n",
    "    return df\n",
    "\n",
    "# Load the DataFrame\n",
    "df = load_hits_dataframe()\n",
    "df['decompressed_json'] = df['decompressed_json'].astype(str)\n",
    "\n",
    "# Extract the first 4 digits after 'Date': ' and the first 3 digits after 'season': '\n",
    "df['Season'] = df['decompressed_json'].str.extract(r\"'Date': '(\\d{4})\")\n",
    "df['Team'] = df['decompressed_json'].str.extract(r\"'Team':\\s?'([\\w\\d]+)'\")\n",
    "\n",
    "\n",
    "\n",
    "# Function to count the number of elements in the decompressed JSON\n",
    "def count_json_items(json_str):\n",
    "    try:\n",
    "        json_data = json.loads(json_str.replace(\"'\", \"\\\"\"))  # Convert string to JSON (handling single quotes)\n",
    "        return len(json_data)  # Count number of keys or elements\n",
    "    except json.JSONDecodeError:\n",
    "        return 0  # Return 0 if JSON is invalid\n",
    "\n",
    "# Add a column for JSON count\n",
    "df['json_count'] = df['decompressed_json'].apply(count_json_items)\n",
    "\n",
    "# Update 'Team' column to 'All' if json_count is greater than 20\n",
    "df.loc[df['json_count'] > 20, 'Team'] = 'All'\n",
    "\n",
    "# Drop the json_count column if not needed\n",
    "df = df.drop(columns=['json_count'])\n",
    "\n",
    "\n",
    "\n",
    "df = df.drop(columns=['decompressed_json'])\n",
    "\n",
    "\n",
    "# Display the top rows\n",
    "print(df.head(10))\n",
    "\n"
   ]
  }
 ],
 "metadata": {
  "kernelspec": {
   "display_name": ".venv",
   "language": "python",
   "name": "python3"
  },
  "language_info": {
   "codemirror_mode": {
    "name": "ipython",
    "version": 3
   },
   "file_extension": ".py",
   "mimetype": "text/x-python",
   "name": "python",
   "nbconvert_exporter": "python",
   "pygments_lexer": "ipython3",
   "version": "3.12.9"
  }
 },
 "nbformat": 4,
 "nbformat_minor": 2
}
