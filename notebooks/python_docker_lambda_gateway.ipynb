{
 "cells": [
  {
   "cell_type": "markdown",
   "id": "a7b841a3",
   "metadata": {},
   "source": [
    "# Python file to Docker, to ECR, to Lambda "
   ]
  },
  {
   "cell_type": "markdown",
   "id": "aed0eb5b",
   "metadata": {},
   "source": [
    "## Manually Setup Docker Directory"
   ]
  },
  {
   "cell_type": "markdown",
   "id": "a48846c9",
   "metadata": {},
   "source": [
    "lamdba_fxn_name/\n",
    "├── Dockerfile\n",
    "├── app/\n",
    "│   ├── main.py          # Your main Lambda handler\n",
    "│   ├── helper.py        # Your helper functions\n",
    "│   └── requirements.txt # Python dependencies"
   ]
  },
  {
   "cell_type": "markdown",
   "id": "b7f44e59",
   "metadata": {},
   "source": [
    "## Custom Variables"
   ]
  },
  {
   "cell_type": "code",
   "execution_count": 1,
   "id": "b76a6004",
   "metadata": {},
   "outputs": [],
   "source": [
    "lamdba_fxn_name = \"nfl_all_games\""
   ]
  },
  {
   "cell_type": "code",
   "execution_count": 2,
   "id": "52751d5c",
   "metadata": {},
   "outputs": [],
   "source": [
    "# List of AWS managed policy ARNs\n",
    "managed_policies = [\n",
    "    \"arn:aws:iam::aws:policy/AmazonAPIGatewayAdministrator\",\n",
    "    \"arn:aws:iam::aws:policy/AmazonAPIGatewayInvokeFullAccess\",\n",
    "    \"arn:aws:iam::aws:policy/service-role/AmazonAPIGatewayPushToCloudWatchLogs\",\n",
    "    \"arn:aws:iam::aws:policy/AmazonAthenaFullAccess\",\n",
    "    \"arn:aws:iam::aws:policy/AmazonDynamoDBFullAccess\",\n",
    "    \"arn:aws:iam::aws:policy/AmazonEC2ContainerRegistryFullAccess\",\n",
    "    \"arn:aws:iam::aws:policy/AmazonS3FullAccess\",\n",
    "    \"arn:aws:iam::aws:policy/AWSLambda_FullAccess\",\n",
    "]"
   ]
  },
  {
   "cell_type": "markdown",
   "id": "8bd69d49",
   "metadata": {},
   "source": [
    "## Dependencies"
   ]
  },
  {
   "cell_type": "code",
   "execution_count": 3,
   "id": "d471dc72",
   "metadata": {},
   "outputs": [],
   "source": [
    "from packages.helpers.helpers import joel_boto"
   ]
  },
  {
   "cell_type": "markdown",
   "id": "1aa0cf0d",
   "metadata": {},
   "source": [
    "## Functions"
   ]
  },
  {
   "cell_type": "code",
   "execution_count": 4,
   "id": "07cdd9be",
   "metadata": {},
   "outputs": [],
   "source": [
    "def get_dependent_variables(lamdba_fxn_name):\n",
    "    # Naviagte to the directory i want to build in (same name as lambda)\n",
    "    path_docker = f\"../docker/{lamdba_fxn_name}\"\n",
    "\n",
    "    # Get full IAM role ARN from the name\n",
    "    role = jb.iam.get_role(RoleName=lamdba_fxn_name)\n",
    "    role_arn = role[\"Role\"][\"Arn\"]\n",
    "\n",
    "    # Used to connect lamba to the correct ECR repo\n",
    "    repo_uri = jb.get_ecr_repo_uri(lamdba_fxn_name)\n",
    "    repo_image_uri = repo_uri + ':latest'\n",
    "\n",
    "\n",
    "    return path_docker, role_arn, repo_uri, repo_image_uri"
   ]
  },
  {
   "cell_type": "markdown",
   "id": "565bc7f5",
   "metadata": {},
   "source": [
    "## Dependent Variables"
   ]
  },
  {
   "cell_type": "code",
   "execution_count": 5,
   "id": "09c04dde",
   "metadata": {},
   "outputs": [
    {
     "name": "stdout",
     "output_type": "stream",
     "text": [
      "running local credentials\n",
      "✅ Logged in to ECR successfully.\n",
      "✅ Connected to all clients successfully.\n"
     ]
    }
   ],
   "source": [
    "# Connect to custom AWS class\n",
    "jb = joel_boto()"
   ]
  },
  {
   "cell_type": "code",
   "execution_count": 6,
   "id": "c5f27397",
   "metadata": {},
   "outputs": [
    {
     "name": "stdout",
     "output_type": "stream",
     "text": [
      "⚠️ IAM Role 'nfl_all_games' already exists.\n"
     ]
    }
   ],
   "source": [
    "jb.create_lambda_iam_role(lamdba_fxn_name, managed_policies)"
   ]
  },
  {
   "cell_type": "code",
   "execution_count": 7,
   "id": "f1ee0685",
   "metadata": {},
   "outputs": [
    {
     "name": "stdout",
     "output_type": "stream",
     "text": [
      "Repository 'nfl_all_games' already exists.\n"
     ]
    }
   ],
   "source": [
    "# Create ECR Repository (one for each lambda fxn)\n",
    "jb.create_ecr_repository(lamdba_fxn_name)"
   ]
  },
  {
   "cell_type": "code",
   "execution_count": 8,
   "id": "b1dbb446",
   "metadata": {},
   "outputs": [],
   "source": [
    "# Grab Dependent variables\n",
    "path_docker, role_arn, repo_uri, repo_image_uri = get_dependent_variables(lamdba_fxn_name)"
   ]
  },
  {
   "cell_type": "code",
   "execution_count": 9,
   "id": "06223e2f",
   "metadata": {},
   "outputs": [
    {
     "name": "stdout",
     "output_type": "stream",
     "text": [
      "DOCKER_HOST: None\n",
      "DOCKER_API_VERSION: None\n",
      "DOCKER_CERT_PATH: None\n",
      "DOCKER_TLS_VERIFY: None\n"
     ]
    }
   ],
   "source": [
    "import os\n",
    "print(\"DOCKER_HOST:\", os.environ.get(\"DOCKER_HOST\"))\n",
    "print(\"DOCKER_API_VERSION:\", os.environ.get(\"DOCKER_API_VERSION\"))\n",
    "print(\"DOCKER_CERT_PATH:\", os.environ.get(\"DOCKER_CERT_PATH\"))\n",
    "print(\"DOCKER_TLS_VERIFY:\", os.environ.get(\"DOCKER_TLS_VERIFY\"))"
   ]
  },
  {
   "cell_type": "markdown",
   "id": "66eaeaeb",
   "metadata": {},
   "source": [
    "## Build, Push, and Create Lambda"
   ]
  },
  {
   "cell_type": "code",
   "execution_count": 10,
   "id": "fa5898be",
   "metadata": {},
   "outputs": [
    {
     "ename": "DockerException",
     "evalue": "Error while fetching server API version: Not supported URL scheme http+docker",
     "output_type": "error",
     "traceback": [
      "\u001b[31m---------------------------------------------------------------------------\u001b[39m",
      "\u001b[31mURLSchemeUnknown\u001b[39m                          Traceback (most recent call last)",
      "\u001b[36mFile \u001b[39m\u001b[32mc:\\Users\\joel\\Documents\\repos\\chalkjuice\\.venv\\Lib\\site-packages\\requests\\adapters.py:633\u001b[39m, in \u001b[36mHTTPAdapter.send\u001b[39m\u001b[34m(self, request, stream, timeout, verify, cert, proxies)\u001b[39m\n\u001b[32m    632\u001b[39m \u001b[38;5;28;01mtry\u001b[39;00m:\n\u001b[32m--> \u001b[39m\u001b[32m633\u001b[39m     conn = \u001b[38;5;28;43mself\u001b[39;49m\u001b[43m.\u001b[49m\u001b[43mget_connection_with_tls_context\u001b[49m\u001b[43m(\u001b[49m\n\u001b[32m    634\u001b[39m \u001b[43m        \u001b[49m\u001b[43mrequest\u001b[49m\u001b[43m,\u001b[49m\u001b[43m \u001b[49m\u001b[43mverify\u001b[49m\u001b[43m,\u001b[49m\u001b[43m \u001b[49m\u001b[43mproxies\u001b[49m\u001b[43m=\u001b[49m\u001b[43mproxies\u001b[49m\u001b[43m,\u001b[49m\u001b[43m \u001b[49m\u001b[43mcert\u001b[49m\u001b[43m=\u001b[49m\u001b[43mcert\u001b[49m\n\u001b[32m    635\u001b[39m \u001b[43m    \u001b[49m\u001b[43m)\u001b[49m\n\u001b[32m    636\u001b[39m \u001b[38;5;28;01mexcept\u001b[39;00m LocationValueError \u001b[38;5;28;01mas\u001b[39;00m e:\n",
      "\u001b[36mFile \u001b[39m\u001b[32mc:\\Users\\joel\\Documents\\repos\\chalkjuice\\.venv\\Lib\\site-packages\\requests\\adapters.py:489\u001b[39m, in \u001b[36mHTTPAdapter.get_connection_with_tls_context\u001b[39m\u001b[34m(self, request, verify, proxies, cert)\u001b[39m\n\u001b[32m    487\u001b[39m \u001b[38;5;28;01melse\u001b[39;00m:\n\u001b[32m    488\u001b[39m     \u001b[38;5;66;03m# Only scheme should be lower case\u001b[39;00m\n\u001b[32m--> \u001b[39m\u001b[32m489\u001b[39m     conn = \u001b[38;5;28;43mself\u001b[39;49m\u001b[43m.\u001b[49m\u001b[43mpoolmanager\u001b[49m\u001b[43m.\u001b[49m\u001b[43mconnection_from_host\u001b[49m\u001b[43m(\u001b[49m\n\u001b[32m    490\u001b[39m \u001b[43m        \u001b[49m\u001b[43m*\u001b[49m\u001b[43m*\u001b[49m\u001b[43mhost_params\u001b[49m\u001b[43m,\u001b[49m\u001b[43m \u001b[49m\u001b[43mpool_kwargs\u001b[49m\u001b[43m=\u001b[49m\u001b[43mpool_kwargs\u001b[49m\n\u001b[32m    491\u001b[39m \u001b[43m    \u001b[49m\u001b[43m)\u001b[49m\n\u001b[32m    493\u001b[39m \u001b[38;5;28;01mreturn\u001b[39;00m conn\n",
      "\u001b[36mFile \u001b[39m\u001b[32mc:\\Users\\joel\\Documents\\repos\\chalkjuice\\.venv\\Lib\\site-packages\\urllib3\\poolmanager.py:303\u001b[39m, in \u001b[36mPoolManager.connection_from_host\u001b[39m\u001b[34m(self, host, port, scheme, pool_kwargs)\u001b[39m\n\u001b[32m    301\u001b[39m request_context[\u001b[33m\"\u001b[39m\u001b[33mhost\u001b[39m\u001b[33m\"\u001b[39m] = host\n\u001b[32m--> \u001b[39m\u001b[32m303\u001b[39m \u001b[38;5;28;01mreturn\u001b[39;00m \u001b[38;5;28;43mself\u001b[39;49m\u001b[43m.\u001b[49m\u001b[43mconnection_from_context\u001b[49m\u001b[43m(\u001b[49m\u001b[43mrequest_context\u001b[49m\u001b[43m)\u001b[49m\n",
      "\u001b[36mFile \u001b[39m\u001b[32mc:\\Users\\joel\\Documents\\repos\\chalkjuice\\.venv\\Lib\\site-packages\\urllib3\\poolmanager.py:325\u001b[39m, in \u001b[36mPoolManager.connection_from_context\u001b[39m\u001b[34m(self, request_context)\u001b[39m\n\u001b[32m    324\u001b[39m \u001b[38;5;28;01mif\u001b[39;00m \u001b[38;5;129;01mnot\u001b[39;00m pool_key_constructor:\n\u001b[32m--> \u001b[39m\u001b[32m325\u001b[39m     \u001b[38;5;28;01mraise\u001b[39;00m URLSchemeUnknown(scheme)\n\u001b[32m    326\u001b[39m pool_key = pool_key_constructor(request_context)\n",
      "\u001b[31mURLSchemeUnknown\u001b[39m: Not supported URL scheme http+docker",
      "\nDuring handling of the above exception, another exception occurred:\n",
      "\u001b[31mInvalidURL\u001b[39m                                Traceback (most recent call last)",
      "\u001b[36mFile \u001b[39m\u001b[32mc:\\Users\\joel\\Documents\\repos\\chalkjuice\\.venv\\Lib\\site-packages\\docker\\api\\client.py:213\u001b[39m, in \u001b[36mAPIClient._retrieve_server_version\u001b[39m\u001b[34m(self)\u001b[39m\n\u001b[32m    212\u001b[39m \u001b[38;5;28;01mtry\u001b[39;00m:\n\u001b[32m--> \u001b[39m\u001b[32m213\u001b[39m     \u001b[38;5;28;01mreturn\u001b[39;00m \u001b[38;5;28;43mself\u001b[39;49m\u001b[43m.\u001b[49m\u001b[43mversion\u001b[49m\u001b[43m(\u001b[49m\u001b[43mapi_version\u001b[49m\u001b[43m=\u001b[49m\u001b[38;5;28;43;01mFalse\u001b[39;49;00m\u001b[43m)\u001b[49m[\u001b[33m\"\u001b[39m\u001b[33mApiVersion\u001b[39m\u001b[33m\"\u001b[39m]\n\u001b[32m    214\u001b[39m \u001b[38;5;28;01mexcept\u001b[39;00m \u001b[38;5;167;01mKeyError\u001b[39;00m \u001b[38;5;28;01mas\u001b[39;00m ke:\n",
      "\u001b[36mFile \u001b[39m\u001b[32mc:\\Users\\joel\\Documents\\repos\\chalkjuice\\.venv\\Lib\\site-packages\\docker\\api\\daemon.py:181\u001b[39m, in \u001b[36mDaemonApiMixin.version\u001b[39m\u001b[34m(self, api_version)\u001b[39m\n\u001b[32m    180\u001b[39m url = \u001b[38;5;28mself\u001b[39m._url(\u001b[33m\"\u001b[39m\u001b[33m/version\u001b[39m\u001b[33m\"\u001b[39m, versioned_api=api_version)\n\u001b[32m--> \u001b[39m\u001b[32m181\u001b[39m \u001b[38;5;28;01mreturn\u001b[39;00m \u001b[38;5;28mself\u001b[39m._result(\u001b[38;5;28;43mself\u001b[39;49m\u001b[43m.\u001b[49m\u001b[43m_get\u001b[49m\u001b[43m(\u001b[49m\u001b[43murl\u001b[49m\u001b[43m)\u001b[49m, json=\u001b[38;5;28;01mTrue\u001b[39;00m)\n",
      "\u001b[36mFile \u001b[39m\u001b[32mc:\\Users\\joel\\Documents\\repos\\chalkjuice\\.venv\\Lib\\site-packages\\docker\\utils\\decorators.py:44\u001b[39m, in \u001b[36mupdate_headers.<locals>.inner\u001b[39m\u001b[34m(self, *args, **kwargs)\u001b[39m\n\u001b[32m     43\u001b[39m         kwargs[\u001b[33m'\u001b[39m\u001b[33mheaders\u001b[39m\u001b[33m'\u001b[39m].update(\u001b[38;5;28mself\u001b[39m._general_configs[\u001b[33m'\u001b[39m\u001b[33mHttpHeaders\u001b[39m\u001b[33m'\u001b[39m])\n\u001b[32m---> \u001b[39m\u001b[32m44\u001b[39m \u001b[38;5;28;01mreturn\u001b[39;00m \u001b[43mf\u001b[49m\u001b[43m(\u001b[49m\u001b[38;5;28;43mself\u001b[39;49m\u001b[43m,\u001b[49m\u001b[43m \u001b[49m\u001b[43m*\u001b[49m\u001b[43margs\u001b[49m\u001b[43m,\u001b[49m\u001b[43m \u001b[49m\u001b[43m*\u001b[49m\u001b[43m*\u001b[49m\u001b[43mkwargs\u001b[49m\u001b[43m)\u001b[49m\n",
      "\u001b[36mFile \u001b[39m\u001b[32mc:\\Users\\joel\\Documents\\repos\\chalkjuice\\.venv\\Lib\\site-packages\\docker\\api\\client.py:236\u001b[39m, in \u001b[36mAPIClient._get\u001b[39m\u001b[34m(self, url, **kwargs)\u001b[39m\n\u001b[32m    234\u001b[39m \u001b[38;5;129m@update_headers\u001b[39m\n\u001b[32m    235\u001b[39m \u001b[38;5;28;01mdef\u001b[39;00m\u001b[38;5;250m \u001b[39m\u001b[34m_get\u001b[39m(\u001b[38;5;28mself\u001b[39m, url, **kwargs):\n\u001b[32m--> \u001b[39m\u001b[32m236\u001b[39m     \u001b[38;5;28;01mreturn\u001b[39;00m \u001b[38;5;28;43mself\u001b[39;49m\u001b[43m.\u001b[49m\u001b[43mget\u001b[49m\u001b[43m(\u001b[49m\u001b[43murl\u001b[49m\u001b[43m,\u001b[49m\u001b[43m \u001b[49m\u001b[43m*\u001b[49m\u001b[43m*\u001b[49m\u001b[38;5;28;43mself\u001b[39;49m\u001b[43m.\u001b[49m\u001b[43m_set_request_timeout\u001b[49m\u001b[43m(\u001b[49m\u001b[43mkwargs\u001b[49m\u001b[43m)\u001b[49m\u001b[43m)\u001b[49m\n",
      "\u001b[36mFile \u001b[39m\u001b[32mc:\\Users\\joel\\Documents\\repos\\chalkjuice\\.venv\\Lib\\site-packages\\requests\\sessions.py:602\u001b[39m, in \u001b[36mSession.get\u001b[39m\u001b[34m(self, url, **kwargs)\u001b[39m\n\u001b[32m    601\u001b[39m kwargs.setdefault(\u001b[33m\"\u001b[39m\u001b[33mallow_redirects\u001b[39m\u001b[33m\"\u001b[39m, \u001b[38;5;28;01mTrue\u001b[39;00m)\n\u001b[32m--> \u001b[39m\u001b[32m602\u001b[39m \u001b[38;5;28;01mreturn\u001b[39;00m \u001b[38;5;28;43mself\u001b[39;49m\u001b[43m.\u001b[49m\u001b[43mrequest\u001b[49m\u001b[43m(\u001b[49m\u001b[33;43m\"\u001b[39;49m\u001b[33;43mGET\u001b[39;49m\u001b[33;43m\"\u001b[39;49m\u001b[43m,\u001b[49m\u001b[43m \u001b[49m\u001b[43murl\u001b[49m\u001b[43m,\u001b[49m\u001b[43m \u001b[49m\u001b[43m*\u001b[49m\u001b[43m*\u001b[49m\u001b[43mkwargs\u001b[49m\u001b[43m)\u001b[49m\n",
      "\u001b[36mFile \u001b[39m\u001b[32mc:\\Users\\joel\\Documents\\repos\\chalkjuice\\.venv\\Lib\\site-packages\\requests\\sessions.py:589\u001b[39m, in \u001b[36mSession.request\u001b[39m\u001b[34m(self, method, url, params, data, headers, cookies, files, auth, timeout, allow_redirects, proxies, hooks, stream, verify, cert, json)\u001b[39m\n\u001b[32m    588\u001b[39m send_kwargs.update(settings)\n\u001b[32m--> \u001b[39m\u001b[32m589\u001b[39m resp = \u001b[38;5;28;43mself\u001b[39;49m\u001b[43m.\u001b[49m\u001b[43msend\u001b[49m\u001b[43m(\u001b[49m\u001b[43mprep\u001b[49m\u001b[43m,\u001b[49m\u001b[43m \u001b[49m\u001b[43m*\u001b[49m\u001b[43m*\u001b[49m\u001b[43msend_kwargs\u001b[49m\u001b[43m)\u001b[49m\n\u001b[32m    591\u001b[39m \u001b[38;5;28;01mreturn\u001b[39;00m resp\n",
      "\u001b[36mFile \u001b[39m\u001b[32mc:\\Users\\joel\\Documents\\repos\\chalkjuice\\.venv\\Lib\\site-packages\\requests\\sessions.py:703\u001b[39m, in \u001b[36mSession.send\u001b[39m\u001b[34m(self, request, **kwargs)\u001b[39m\n\u001b[32m    702\u001b[39m \u001b[38;5;66;03m# Send the request\u001b[39;00m\n\u001b[32m--> \u001b[39m\u001b[32m703\u001b[39m r = \u001b[43madapter\u001b[49m\u001b[43m.\u001b[49m\u001b[43msend\u001b[49m\u001b[43m(\u001b[49m\u001b[43mrequest\u001b[49m\u001b[43m,\u001b[49m\u001b[43m \u001b[49m\u001b[43m*\u001b[49m\u001b[43m*\u001b[49m\u001b[43mkwargs\u001b[49m\u001b[43m)\u001b[49m\n\u001b[32m    705\u001b[39m \u001b[38;5;66;03m# Total elapsed time of the request (approximately)\u001b[39;00m\n",
      "\u001b[36mFile \u001b[39m\u001b[32mc:\\Users\\joel\\Documents\\repos\\chalkjuice\\.venv\\Lib\\site-packages\\requests\\adapters.py:637\u001b[39m, in \u001b[36mHTTPAdapter.send\u001b[39m\u001b[34m(self, request, stream, timeout, verify, cert, proxies)\u001b[39m\n\u001b[32m    636\u001b[39m \u001b[38;5;28;01mexcept\u001b[39;00m LocationValueError \u001b[38;5;28;01mas\u001b[39;00m e:\n\u001b[32m--> \u001b[39m\u001b[32m637\u001b[39m     \u001b[38;5;28;01mraise\u001b[39;00m InvalidURL(e, request=request)\n\u001b[32m    639\u001b[39m \u001b[38;5;28mself\u001b[39m.cert_verify(conn, request.url, verify, cert)\n",
      "\u001b[31mInvalidURL\u001b[39m: Not supported URL scheme http+docker",
      "\nThe above exception was the direct cause of the following exception:\n",
      "\u001b[31mDockerException\u001b[39m                           Traceback (most recent call last)",
      "\u001b[36mCell\u001b[39m\u001b[36m \u001b[39m\u001b[32mIn[10]\u001b[39m\u001b[32m, line 2\u001b[39m\n\u001b[32m      1\u001b[39m \u001b[38;5;66;03m# Build Docker image and push to ECR\u001b[39;00m\n\u001b[32m----> \u001b[39m\u001b[32m2\u001b[39m \u001b[43mjb\u001b[49m\u001b[43m.\u001b[49m\u001b[43mbuild_and_push_to_ECR\u001b[49m\u001b[43m(\u001b[49m\u001b[43mpath_docker\u001b[49m\u001b[43m,\u001b[49m\u001b[43m \u001b[49m\u001b[43mrepo_uri\u001b[49m\u001b[43m)\u001b[49m\n\u001b[32m      4\u001b[39m \u001b[38;5;66;03m# Create a Lambda fxn using Image in ECR\u001b[39;00m\n\u001b[32m      5\u001b[39m jb.create_lambda_function(lamdba_fxn_name, role_arn, repo_image_uri)\n",
      "\u001b[36mFile \u001b[39m\u001b[32m~\\Documents\\repos\\chalkjuice\\packages\\helpers\\helpers.py:396\u001b[39m, in \u001b[36mjoel_boto.build_and_push_to_ECR\u001b[39m\u001b[34m(self, path_docker, repo_uri)\u001b[39m\n\u001b[32m    394\u001b[39m \u001b[38;5;28;01mdef\u001b[39;00m\u001b[38;5;250m \u001b[39m\u001b[34mbuild_and_push_to_ECR\u001b[39m(\u001b[38;5;28mself\u001b[39m, path_docker, repo_uri):\n\u001b[32m    395\u001b[39m     os.environ.pop(\u001b[33m\"\u001b[39m\u001b[33mDOCKER_HOST\u001b[39m\u001b[33m\"\u001b[39m, \u001b[38;5;28;01mNone\u001b[39;00m)\n\u001b[32m--> \u001b[39m\u001b[32m396\u001b[39m     client = \u001b[43mdocker\u001b[49m\u001b[43m.\u001b[49m\u001b[43mfrom_env\u001b[49m\u001b[43m(\u001b[49m\u001b[43m)\u001b[49m\n\u001b[32m    398\u001b[39m     \u001b[38;5;66;03m# Build image with the same tag name as the ECR URI\u001b[39;00m\n\u001b[32m    399\u001b[39m     client.images.build(\n\u001b[32m    400\u001b[39m         path=path_docker, \n\u001b[32m    401\u001b[39m         tag=\u001b[33mf\u001b[39m\u001b[33m\"\u001b[39m\u001b[38;5;132;01m{\u001b[39;00mrepo_uri\u001b[38;5;132;01m}\u001b[39;00m\u001b[33m:latest\u001b[39m\u001b[33m\"\u001b[39m\n\u001b[32m    402\u001b[39m     )\n",
      "\u001b[36mFile \u001b[39m\u001b[32mc:\\Users\\joel\\Documents\\repos\\chalkjuice\\.venv\\Lib\\site-packages\\docker\\client.py:94\u001b[39m, in \u001b[36mDockerClient.from_env\u001b[39m\u001b[34m(cls, **kwargs)\u001b[39m\n\u001b[32m     92\u001b[39m version = kwargs.pop(\u001b[33m'\u001b[39m\u001b[33mversion\u001b[39m\u001b[33m'\u001b[39m, \u001b[38;5;28;01mNone\u001b[39;00m)\n\u001b[32m     93\u001b[39m use_ssh_client = kwargs.pop(\u001b[33m'\u001b[39m\u001b[33muse_ssh_client\u001b[39m\u001b[33m'\u001b[39m, \u001b[38;5;28;01mFalse\u001b[39;00m)\n\u001b[32m---> \u001b[39m\u001b[32m94\u001b[39m \u001b[38;5;28;01mreturn\u001b[39;00m \u001b[38;5;28;43mcls\u001b[39;49m\u001b[43m(\u001b[49m\n\u001b[32m     95\u001b[39m \u001b[43m    \u001b[49m\u001b[43mtimeout\u001b[49m\u001b[43m=\u001b[49m\u001b[43mtimeout\u001b[49m\u001b[43m,\u001b[49m\n\u001b[32m     96\u001b[39m \u001b[43m    \u001b[49m\u001b[43mmax_pool_size\u001b[49m\u001b[43m=\u001b[49m\u001b[43mmax_pool_size\u001b[49m\u001b[43m,\u001b[49m\n\u001b[32m     97\u001b[39m \u001b[43m    \u001b[49m\u001b[43mversion\u001b[49m\u001b[43m=\u001b[49m\u001b[43mversion\u001b[49m\u001b[43m,\u001b[49m\n\u001b[32m     98\u001b[39m \u001b[43m    \u001b[49m\u001b[43muse_ssh_client\u001b[49m\u001b[43m=\u001b[49m\u001b[43muse_ssh_client\u001b[49m\u001b[43m,\u001b[49m\n\u001b[32m     99\u001b[39m \u001b[43m    \u001b[49m\u001b[43m*\u001b[49m\u001b[43m*\u001b[49m\u001b[43mkwargs_from_env\u001b[49m\u001b[43m(\u001b[49m\u001b[43m*\u001b[49m\u001b[43m*\u001b[49m\u001b[43mkwargs\u001b[49m\u001b[43m)\u001b[49m\n\u001b[32m    100\u001b[39m \u001b[43m\u001b[49m\u001b[43m)\u001b[49m\n",
      "\u001b[36mFile \u001b[39m\u001b[32mc:\\Users\\joel\\Documents\\repos\\chalkjuice\\.venv\\Lib\\site-packages\\docker\\client.py:45\u001b[39m, in \u001b[36mDockerClient.__init__\u001b[39m\u001b[34m(self, *args, **kwargs)\u001b[39m\n\u001b[32m     44\u001b[39m \u001b[38;5;28;01mdef\u001b[39;00m\u001b[38;5;250m \u001b[39m\u001b[34m__init__\u001b[39m(\u001b[38;5;28mself\u001b[39m, *args, **kwargs):\n\u001b[32m---> \u001b[39m\u001b[32m45\u001b[39m     \u001b[38;5;28mself\u001b[39m.api = \u001b[43mAPIClient\u001b[49m\u001b[43m(\u001b[49m\u001b[43m*\u001b[49m\u001b[43margs\u001b[49m\u001b[43m,\u001b[49m\u001b[43m \u001b[49m\u001b[43m*\u001b[49m\u001b[43m*\u001b[49m\u001b[43mkwargs\u001b[49m\u001b[43m)\u001b[49m\n",
      "\u001b[36mFile \u001b[39m\u001b[32mc:\\Users\\joel\\Documents\\repos\\chalkjuice\\.venv\\Lib\\site-packages\\docker\\api\\client.py:197\u001b[39m, in \u001b[36mAPIClient.__init__\u001b[39m\u001b[34m(self, base_url, version, timeout, tls, user_agent, num_pools, credstore_env, use_ssh_client, max_pool_size)\u001b[39m\n\u001b[32m    192\u001b[39m \u001b[38;5;66;03m# version detection needs to be after unix adapter mounting\u001b[39;00m\n\u001b[32m    193\u001b[39m \u001b[38;5;28;01mif\u001b[39;00m version \u001b[38;5;129;01mis\u001b[39;00m \u001b[38;5;28;01mNone\u001b[39;00m \u001b[38;5;129;01mor\u001b[39;00m (\u001b[38;5;28misinstance\u001b[39m(\n\u001b[32m    194\u001b[39m                         version,\n\u001b[32m    195\u001b[39m                         \u001b[38;5;28mstr\u001b[39m\n\u001b[32m    196\u001b[39m                         ) \u001b[38;5;129;01mand\u001b[39;00m version.lower() == \u001b[33m'\u001b[39m\u001b[33mauto\u001b[39m\u001b[33m'\u001b[39m):\n\u001b[32m--> \u001b[39m\u001b[32m197\u001b[39m     \u001b[38;5;28mself\u001b[39m._version = \u001b[38;5;28;43mself\u001b[39;49m\u001b[43m.\u001b[49m\u001b[43m_retrieve_server_version\u001b[49m\u001b[43m(\u001b[49m\u001b[43m)\u001b[49m\n\u001b[32m    198\u001b[39m \u001b[38;5;28;01melse\u001b[39;00m:\n\u001b[32m    199\u001b[39m     \u001b[38;5;28mself\u001b[39m._version = version\n",
      "\u001b[36mFile \u001b[39m\u001b[32mc:\\Users\\joel\\Documents\\repos\\chalkjuice\\.venv\\Lib\\site-packages\\docker\\api\\client.py:220\u001b[39m, in \u001b[36mAPIClient._retrieve_server_version\u001b[39m\u001b[34m(self)\u001b[39m\n\u001b[32m    215\u001b[39m     \u001b[38;5;28;01mraise\u001b[39;00m DockerException(\n\u001b[32m    216\u001b[39m         \u001b[33m'\u001b[39m\u001b[33mInvalid response from docker daemon: key \u001b[39m\u001b[33m\"\u001b[39m\u001b[33mApiVersion\u001b[39m\u001b[33m\"\u001b[39m\u001b[33m'\u001b[39m\n\u001b[32m    217\u001b[39m         \u001b[33m'\u001b[39m\u001b[33m is missing.\u001b[39m\u001b[33m'\u001b[39m\n\u001b[32m    218\u001b[39m     ) \u001b[38;5;28;01mfrom\u001b[39;00m\u001b[38;5;250m \u001b[39m\u001b[34;01mke\u001b[39;00m\n\u001b[32m    219\u001b[39m \u001b[38;5;28;01mexcept\u001b[39;00m \u001b[38;5;167;01mException\u001b[39;00m \u001b[38;5;28;01mas\u001b[39;00m e:\n\u001b[32m--> \u001b[39m\u001b[32m220\u001b[39m     \u001b[38;5;28;01mraise\u001b[39;00m DockerException(\n\u001b[32m    221\u001b[39m         \u001b[33mf\u001b[39m\u001b[33m'\u001b[39m\u001b[33mError while fetching server API version: \u001b[39m\u001b[38;5;132;01m{\u001b[39;00me\u001b[38;5;132;01m}\u001b[39;00m\u001b[33m'\u001b[39m\n\u001b[32m    222\u001b[39m     ) \u001b[38;5;28;01mfrom\u001b[39;00m\u001b[38;5;250m \u001b[39m\u001b[34;01me\u001b[39;00m\n",
      "\u001b[31mDockerException\u001b[39m: Error while fetching server API version: Not supported URL scheme http+docker"
     ]
    }
   ],
   "source": [
    "# Build Docker image and push to ECR\n",
    "jb.build_and_push_to_ECR(path_docker, repo_uri)\n",
    "\n",
    "# Create a Lambda fxn using Image in ECR\n",
    "jb.create_lambda_function(lamdba_fxn_name, role_arn, repo_image_uri)"
   ]
  },
  {
   "cell_type": "markdown",
   "id": "ea762d98",
   "metadata": {},
   "source": [
    "## Update Lambda if exists to the latest image in ECR"
   ]
  },
  {
   "cell_type": "code",
   "execution_count": 11,
   "id": "91eb869b",
   "metadata": {},
   "outputs": [
    {
     "name": "stdout",
     "output_type": "stream",
     "text": [
      "✅ Lambda updated: 2025-06-14T13:25:55.000+0000\n"
     ]
    }
   ],
   "source": [
    "# Update if already Exists\n",
    "jb.update_lambda_function(lamdba_fxn_name, repo_image_uri)"
   ]
  },
  {
   "cell_type": "code",
   "execution_count": null,
   "id": "adc49131",
   "metadata": {},
   "outputs": [],
   "source": []
  },
  {
   "cell_type": "markdown",
   "id": "3e8487ac",
   "metadata": {},
   "source": [
    "## API Gateway"
   ]
  },
  {
   "cell_type": "code",
   "execution_count": 9,
   "id": "0cff4252",
   "metadata": {},
   "outputs": [],
   "source": [
    "api_name = 'chalkjuice_api'\n",
    "route_selection_expr = '$request.body.action'"
   ]
  },
  {
   "cell_type": "code",
   "execution_count": 10,
   "id": "de87561b",
   "metadata": {},
   "outputs": [],
   "source": [
    "lambda_client = jb.lambda_client\n",
    "apigw = jb.apigw"
   ]
  },
  {
   "cell_type": "code",
   "execution_count": 17,
   "id": "83384159",
   "metadata": {},
   "outputs": [
    {
     "data": {
      "text/plain": [
       "'us-east-2'"
      ]
     },
     "execution_count": 17,
     "metadata": {},
     "output_type": "execute_result"
    }
   ],
   "source": [
    "jb.region"
   ]
  },
  {
   "cell_type": "markdown",
   "id": "07aefeb8",
   "metadata": {},
   "source": [
    "## Create API"
   ]
  },
  {
   "cell_type": "code",
   "execution_count": 14,
   "id": "128fd988",
   "metadata": {},
   "outputs": [
    {
     "name": "stdout",
     "output_type": "stream",
     "text": [
      "Created WebSocket API: 7aqddsnx56\n"
     ]
    }
   ],
   "source": [
    "# STEP 1: Create the WebSocket API\n",
    "api = apigw.create_api(\n",
    "    Name=api_name,\n",
    "    ProtocolType='WEBSOCKET',\n",
    "    RouteSelectionExpression=route_selection_expr\n",
    ")\n",
    "api_id = api['ApiId']\n",
    "print(f\"Created WebSocket API: {api_id}\")"
   ]
  },
  {
   "cell_type": "code",
   "execution_count": null,
   "id": "00c37ffb",
   "metadata": {},
   "outputs": [],
   "source": [
    "#api_id = '7aqddsnx56'"
   ]
  },
  {
   "cell_type": "markdown",
   "id": "57555505",
   "metadata": {},
   "source": [
    "## Create Routes"
   ]
  },
  {
   "cell_type": "code",
   "execution_count": 23,
   "id": "c3c5d651",
   "metadata": {},
   "outputs": [
    {
     "name": "stdout",
     "output_type": "stream",
     "text": [
      "Listing Lambda functions and ARNs:\n",
      "Name: api1_disconnect, ARN: arn:aws:lambda:us-east-2:026090519913:function:api1_disconnect\n",
      "Name: sleeper, ARN: arn:aws:lambda:us-east-2:026090519913:function:sleeper\n",
      "Name: api1_connect, ARN: arn:aws:lambda:us-east-2:026090519913:function:api1_connect\n",
      "Name: nfl_all_games, ARN: arn:aws:lambda:us-east-2:026090519913:function:nfl_all_games\n",
      "Name: nfl_matchups_model, ARN: arn:aws:lambda:us-east-2:026090519913:function:nfl_matchups_model\n"
     ]
    }
   ],
   "source": [
    "paginator = lambda_client.get_paginator('list_functions')\n",
    "\n",
    "print(\"Listing Lambda functions and ARNs:\")\n",
    "\n",
    "for page in paginator.paginate():\n",
    "    for function in page['Functions']:\n",
    "        print(f\"Name: {function['FunctionName']}, ARN: {function['FunctionArn']}\")"
   ]
  },
  {
   "cell_type": "code",
   "execution_count": 29,
   "id": "0416dceb",
   "metadata": {},
   "outputs": [],
   "source": [
    "# Replace with your real Lambda ARNs\n",
    "lambda_routes = {\n",
    "    '$connect':'arn:aws:lambda:us-east-2:026090519913:function:api1_connect',\n",
    "    '$disconnect':'arn:aws:lambda:us-east-2:026090519913:function:api1_disconnect',\n",
    "    'nfl_matchups_model': 'arn:aws:lambda:us-east-2:026090519913:function:nfl_matchups_model',\n",
    "    'nfl_all_games': 'arn:aws:lambda:us-east-2:026090519913:function:nfl_all_games'\n",
    "}"
   ]
  },
  {
   "cell_type": "code",
   "execution_count": 27,
   "id": "77c0fdf7",
   "metadata": {},
   "outputs": [
    {
     "name": "stdout",
     "output_type": "stream",
     "text": [
      "Connected route '$connect' to Lambda\n",
      "Connected route '$disconnect' to Lambda\n",
      "Connected route 'nfl_matchups_model' to Lambda\n",
      "Connected route 'nfl_all_games' to Lambda\n"
     ]
    }
   ],
   "source": [
    "# STEP 2: Create routes and integrations\n",
    "for route_key, lambda_arn in lambda_routes.items():\n",
    "    # Create integration\n",
    "    integration = apigw.create_integration(\n",
    "        ApiId=api_id,\n",
    "        IntegrationType='AWS_PROXY',\n",
    "        IntegrationUri=f'arn:aws:apigateway:us-east-2:lambda:path/2015-03-31/functions/{lambda_arn}/invocations'\n",
    "    )\n",
    "\n",
    "    integration_id = integration['IntegrationId']\n",
    "    \n",
    "    # Create route\n",
    "    apigw.create_route(\n",
    "        ApiId=api_id,\n",
    "        RouteKey=route_key,\n",
    "        Target=f'integrations/{integration_id}'\n",
    "    )\n",
    "    print(f\"Connected route '{route_key}' to Lambda\")"
   ]
  },
  {
   "cell_type": "code",
   "execution_count": 35,
   "id": "567173b3",
   "metadata": {},
   "outputs": [
    {
     "name": "stdout",
     "output_type": "stream",
     "text": [
      "Permission chalkjuice_api-api1_connect-invoke already exists, skipping.\n",
      "Added permission for Lambda function api1_disconnect to be invoked by API Gateway.\n",
      "Added permission for Lambda function nfl_matchups_model to be invoked by API Gateway.\n",
      "Added permission for Lambda function nfl_all_games to be invoked by API Gateway.\n"
     ]
    }
   ],
   "source": [
    "# Step 5: Add Lambda permissions for API Gateway to invoke the Lambdas\n",
    "for lambda_arn in lambda_routes.values():\n",
    "    fn_name = lambda_arn.split(':')[-1]\n",
    "    statement_id = f'{api_name}-{fn_name}-invoke'\n",
    "    try:\n",
    "        lambda_client.add_permission(\n",
    "            FunctionName=fn_name,\n",
    "            StatementId=statement_id,\n",
    "            Action='lambda:InvokeFunction',\n",
    "            Principal='apigateway.amazonaws.com',\n",
    "            SourceArn='arn:aws:execute-api:us-east-2:026090519913:7aqddsnx56/*'\n",
    "        )\n",
    "        print(f\"Added permission for Lambda function {fn_name} to be invoked by API Gateway.\")\n",
    "    except lambda_client.exceptions.ResourceConflictException:\n",
    "        print(f\"Permission {statement_id} already exists, skipping.\")"
   ]
  },
  {
   "cell_type": "markdown",
   "id": "b8c5cbce",
   "metadata": {},
   "source": [
    "## MAKE SURE to manually add lambda triggers"
   ]
  },
  {
   "cell_type": "markdown",
   "id": "c4bc7a0a",
   "metadata": {},
   "source": [
    "#### Create Deployment"
   ]
  },
  {
   "cell_type": "code",
   "execution_count": null,
   "id": "ef5c5398",
   "metadata": {},
   "outputs": [
    {
     "ename": "ConflictException",
     "evalue": "An error occurred (ConflictException) when calling the CreateStage operation: Stage already exists",
     "output_type": "error",
     "traceback": [
      "\u001b[31m---------------------------------------------------------------------------\u001b[39m",
      "\u001b[31mConflictException\u001b[39m                         Traceback (most recent call last)",
      "\u001b[36mCell\u001b[39m\u001b[36m \u001b[39m\u001b[32mIn[20]\u001b[39m\u001b[32m, line 2\u001b[39m\n\u001b[32m      1\u001b[39m stage = apigw.create_deployment(ApiId=api_id)\n\u001b[32m----> \u001b[39m\u001b[32m2\u001b[39m \u001b[43mapigw\u001b[49m\u001b[43m.\u001b[49m\u001b[43mcreate_stage\u001b[49m\u001b[43m(\u001b[49m\n\u001b[32m      3\u001b[39m \u001b[43m    \u001b[49m\u001b[43mApiId\u001b[49m\u001b[43m=\u001b[49m\u001b[43mapi_id\u001b[49m\u001b[43m,\u001b[49m\n\u001b[32m      4\u001b[39m \u001b[43m    \u001b[49m\u001b[43mStageName\u001b[49m\u001b[43m=\u001b[49m\u001b[33;43m'\u001b[39;49m\u001b[33;43mprod\u001b[39;49m\u001b[33;43m'\u001b[39;49m\u001b[43m,\u001b[49m\n\u001b[32m      5\u001b[39m \u001b[43m    \u001b[49m\u001b[43mDeploymentId\u001b[49m\u001b[43m=\u001b[49m\u001b[43mstage\u001b[49m\u001b[43m[\u001b[49m\u001b[33;43m'\u001b[39;49m\u001b[33;43mDeploymentId\u001b[39;49m\u001b[33;43m'\u001b[39;49m\u001b[43m]\u001b[49m\n\u001b[32m      6\u001b[39m \u001b[43m)\u001b[49m\n\u001b[32m      7\u001b[39m \u001b[38;5;28mprint\u001b[39m(\u001b[33mf\u001b[39m\u001b[33m\"\u001b[39m\u001b[33mDeployed API to \u001b[39m\u001b[33m'\u001b[39m\u001b[33mprod\u001b[39m\u001b[33m'\u001b[39m\u001b[33m stage\u001b[39m\u001b[33m\"\u001b[39m)\n",
      "\u001b[36mFile \u001b[39m\u001b[32mc:\\Users\\joel\\Documents\\repos\\chalkjuice\\.venv\\Lib\\site-packages\\botocore\\client.py:565\u001b[39m, in \u001b[36mClientCreator._create_api_method.<locals>._api_call\u001b[39m\u001b[34m(self, *args, **kwargs)\u001b[39m\n\u001b[32m    561\u001b[39m     \u001b[38;5;28;01mraise\u001b[39;00m \u001b[38;5;167;01mTypeError\u001b[39;00m(\n\u001b[32m    562\u001b[39m         \u001b[33mf\u001b[39m\u001b[33m\"\u001b[39m\u001b[38;5;132;01m{\u001b[39;00mpy_operation_name\u001b[38;5;132;01m}\u001b[39;00m\u001b[33m() only accepts keyword arguments.\u001b[39m\u001b[33m\"\u001b[39m\n\u001b[32m    563\u001b[39m     )\n\u001b[32m    564\u001b[39m \u001b[38;5;66;03m# The \"self\" in this scope is referring to the BaseClient.\u001b[39;00m\n\u001b[32m--> \u001b[39m\u001b[32m565\u001b[39m \u001b[38;5;28;01mreturn\u001b[39;00m \u001b[38;5;28;43mself\u001b[39;49m\u001b[43m.\u001b[49m\u001b[43m_make_api_call\u001b[49m\u001b[43m(\u001b[49m\u001b[43moperation_name\u001b[49m\u001b[43m,\u001b[49m\u001b[43m \u001b[49m\u001b[43mkwargs\u001b[49m\u001b[43m)\u001b[49m\n",
      "\u001b[36mFile \u001b[39m\u001b[32mc:\\Users\\joel\\Documents\\repos\\chalkjuice\\.venv\\Lib\\site-packages\\botocore\\client.py:1021\u001b[39m, in \u001b[36mBaseClient._make_api_call\u001b[39m\u001b[34m(self, operation_name, api_params)\u001b[39m\n\u001b[32m   1017\u001b[39m     error_code = error_info.get(\u001b[33m\"\u001b[39m\u001b[33mQueryErrorCode\u001b[39m\u001b[33m\"\u001b[39m) \u001b[38;5;129;01mor\u001b[39;00m error_info.get(\n\u001b[32m   1018\u001b[39m         \u001b[33m\"\u001b[39m\u001b[33mCode\u001b[39m\u001b[33m\"\u001b[39m\n\u001b[32m   1019\u001b[39m     )\n\u001b[32m   1020\u001b[39m     error_class = \u001b[38;5;28mself\u001b[39m.exceptions.from_code(error_code)\n\u001b[32m-> \u001b[39m\u001b[32m1021\u001b[39m     \u001b[38;5;28;01mraise\u001b[39;00m error_class(parsed_response, operation_name)\n\u001b[32m   1022\u001b[39m \u001b[38;5;28;01melse\u001b[39;00m:\n\u001b[32m   1023\u001b[39m     \u001b[38;5;28;01mreturn\u001b[39;00m parsed_response\n",
      "\u001b[31mConflictException\u001b[39m: An error occurred (ConflictException) when calling the CreateStage operation: Stage already exists"
     ]
    }
   ],
   "source": [
    "stage = apigw.create_deployment(ApiId=api_id)"
   ]
  },
  {
   "cell_type": "markdown",
   "id": "e7658025",
   "metadata": {},
   "source": [
    "#### Create Stage"
   ]
  },
  {
   "cell_type": "code",
   "execution_count": null,
   "id": "b4418b32",
   "metadata": {},
   "outputs": [],
   "source": [
    "apigw.create_stage(\n",
    "    ApiId=api_id,\n",
    "    StageName='prod',\n",
    "    DeploymentId=stage['DeploymentId']\n",
    ")\n",
    "print(f\"Deployed API to 'prod' stage\")"
   ]
  },
  {
   "cell_type": "markdown",
   "id": "6f5f660e",
   "metadata": {},
   "source": [
    "#### Update Stage"
   ]
  },
  {
   "cell_type": "code",
   "execution_count": null,
   "id": "58d1069b",
   "metadata": {},
   "outputs": [
    {
     "data": {
      "text/plain": [
       "{'ResponseMetadata': {'RequestId': '76830ab0-c6eb-4224-8f30-9b98e4fcb54b',\n",
       "  'HTTPStatusCode': 200,\n",
       "  'HTTPHeaders': {'date': 'Sat, 14 Jun 2025 12:14:00 GMT',\n",
       "   'content-type': 'application/json',\n",
       "   'content-length': '342',\n",
       "   'connection': 'keep-alive',\n",
       "   'x-amzn-requestid': '76830ab0-c6eb-4224-8f30-9b98e4fcb54b',\n",
       "   'access-control-allow-origin': '*',\n",
       "   'x-amz-apigw-id': 'MJ0dXE8siYcEBEw=',\n",
       "   'access-control-expose-headers': 'x-amzn-RequestId,x-amzn-ErrorType,x-amzn-ErrorMessage,Date',\n",
       "   'x-amzn-trace-id': 'Root=1-684d6788-48a36d285be593056be612c2'},\n",
       "  'RetryAttempts': 0},\n",
       " 'CreatedDate': datetime.datetime(2025, 6, 14, 11, 12, 11, tzinfo=tzutc()),\n",
       " 'DefaultRouteSettings': {'DataTraceEnabled': True,\n",
       "  'DetailedMetricsEnabled': False,\n",
       "  'LoggingLevel': 'ERROR'},\n",
       " 'DeploymentId': 'ezacpq',\n",
       " 'LastUpdatedDate': datetime.datetime(2025, 6, 14, 12, 14, tzinfo=tzutc()),\n",
       " 'RouteSettings': {},\n",
       " 'StageName': 'prod',\n",
       " 'StageVariables': {},\n",
       " 'Tags': {}}"
      ]
     },
     "execution_count": 22,
     "metadata": {},
     "output_type": "execute_result"
    }
   ],
   "source": [
    "deployment_id = stage['DeploymentId']\n",
    "stage_name = 'prod'\n",
    "\n",
    "apigw.update_stage(\n",
    "    ApiId=api_id,\n",
    "    StageName=stage_name,\n",
    "    DeploymentId=deployment_id\n",
    ")"
   ]
  },
  {
   "cell_type": "markdown",
   "id": "d65b75dd",
   "metadata": {},
   "source": [
    "# test"
   ]
  },
  {
   "cell_type": "code",
   "execution_count": 28,
   "id": "8d7707ff",
   "metadata": {},
   "outputs": [
    {
     "ename": "ResourceNotFoundException",
     "evalue": "An error occurred (ResourceNotFoundException) when calling the GetPolicy operation: The resource you requested does not exist.",
     "output_type": "error",
     "traceback": [
      "\u001b[31m---------------------------------------------------------------------------\u001b[39m",
      "\u001b[31mResourceNotFoundException\u001b[39m                 Traceback (most recent call last)",
      "\u001b[36mCell\u001b[39m\u001b[36m \u001b[39m\u001b[32mIn[28]\u001b[39m\u001b[32m, line 1\u001b[39m\n\u001b[32m----> \u001b[39m\u001b[32m1\u001b[39m response = \u001b[43mlambda_client\u001b[49m\u001b[43m.\u001b[49m\u001b[43mget_policy\u001b[49m\u001b[43m(\u001b[49m\u001b[43mFunctionName\u001b[49m\u001b[43m=\u001b[49m\u001b[33;43m'\u001b[39;49m\u001b[33;43mnfl_matchups_model\u001b[39;49m\u001b[33;43m'\u001b[39;49m\u001b[43m)\u001b[49m\n\u001b[32m      2\u001b[39m \u001b[38;5;28mprint\u001b[39m(response[\u001b[33m'\u001b[39m\u001b[33mPolicy\u001b[39m\u001b[33m'\u001b[39m])\n",
      "\u001b[36mFile \u001b[39m\u001b[32mc:\\Users\\joel\\Documents\\repos\\chalkjuice\\.venv\\Lib\\site-packages\\botocore\\client.py:565\u001b[39m, in \u001b[36mClientCreator._create_api_method.<locals>._api_call\u001b[39m\u001b[34m(self, *args, **kwargs)\u001b[39m\n\u001b[32m    561\u001b[39m     \u001b[38;5;28;01mraise\u001b[39;00m \u001b[38;5;167;01mTypeError\u001b[39;00m(\n\u001b[32m    562\u001b[39m         \u001b[33mf\u001b[39m\u001b[33m\"\u001b[39m\u001b[38;5;132;01m{\u001b[39;00mpy_operation_name\u001b[38;5;132;01m}\u001b[39;00m\u001b[33m() only accepts keyword arguments.\u001b[39m\u001b[33m\"\u001b[39m\n\u001b[32m    563\u001b[39m     )\n\u001b[32m    564\u001b[39m \u001b[38;5;66;03m# The \"self\" in this scope is referring to the BaseClient.\u001b[39;00m\n\u001b[32m--> \u001b[39m\u001b[32m565\u001b[39m \u001b[38;5;28;01mreturn\u001b[39;00m \u001b[38;5;28;43mself\u001b[39;49m\u001b[43m.\u001b[49m\u001b[43m_make_api_call\u001b[49m\u001b[43m(\u001b[49m\u001b[43moperation_name\u001b[49m\u001b[43m,\u001b[49m\u001b[43m \u001b[49m\u001b[43mkwargs\u001b[49m\u001b[43m)\u001b[49m\n",
      "\u001b[36mFile \u001b[39m\u001b[32mc:\\Users\\joel\\Documents\\repos\\chalkjuice\\.venv\\Lib\\site-packages\\botocore\\client.py:1021\u001b[39m, in \u001b[36mBaseClient._make_api_call\u001b[39m\u001b[34m(self, operation_name, api_params)\u001b[39m\n\u001b[32m   1017\u001b[39m     error_code = error_info.get(\u001b[33m\"\u001b[39m\u001b[33mQueryErrorCode\u001b[39m\u001b[33m\"\u001b[39m) \u001b[38;5;129;01mor\u001b[39;00m error_info.get(\n\u001b[32m   1018\u001b[39m         \u001b[33m\"\u001b[39m\u001b[33mCode\u001b[39m\u001b[33m\"\u001b[39m\n\u001b[32m   1019\u001b[39m     )\n\u001b[32m   1020\u001b[39m     error_class = \u001b[38;5;28mself\u001b[39m.exceptions.from_code(error_code)\n\u001b[32m-> \u001b[39m\u001b[32m1021\u001b[39m     \u001b[38;5;28;01mraise\u001b[39;00m error_class(parsed_response, operation_name)\n\u001b[32m   1022\u001b[39m \u001b[38;5;28;01melse\u001b[39;00m:\n\u001b[32m   1023\u001b[39m     \u001b[38;5;28;01mreturn\u001b[39;00m parsed_response\n",
      "\u001b[31mResourceNotFoundException\u001b[39m: An error occurred (ResourceNotFoundException) when calling the GetPolicy operation: The resource you requested does not exist."
     ]
    }
   ],
   "source": [
    "response = lambda_client.get_policy(FunctionName='nfl_matchups_model')\n",
    "print(response['Policy'])"
   ]
  },
  {
   "cell_type": "code",
   "execution_count": null,
   "id": "dbe82a1b",
   "metadata": {},
   "outputs": [],
   "source": []
  }
 ],
 "metadata": {
  "kernelspec": {
   "display_name": ".venv",
   "language": "python",
   "name": "python3"
  },
  "language_info": {
   "codemirror_mode": {
    "name": "ipython",
    "version": 3
   },
   "file_extension": ".py",
   "mimetype": "text/x-python",
   "name": "python",
   "nbconvert_exporter": "python",
   "pygments_lexer": "ipython3",
   "version": "3.12.9"
  }
 },
 "nbformat": 4,
 "nbformat_minor": 5
}
