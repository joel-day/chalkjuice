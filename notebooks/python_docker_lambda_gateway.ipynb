{
 "cells": [
  {
   "cell_type": "markdown",
   "id": "a7b841a3",
   "metadata": {},
   "source": [
    "# Python file to Docker, to ECR, to Lambda "
   ]
  },
  {
   "cell_type": "markdown",
   "id": "aed0eb5b",
   "metadata": {},
   "source": [
    "## Manually Setup Docker Directory"
   ]
  },
  {
   "cell_type": "markdown",
   "id": "a48846c9",
   "metadata": {},
   "source": [
    "lamdba_fxn_name/\n",
    "├── Dockerfile\n",
    "├── app/\n",
    "│   ├── main.py          # Your main Lambda handler\n",
    "│   ├── helper.py        # Your helper functions\n",
    "│   └── requirements.txt # Python dependencies"
   ]
  },
  {
   "cell_type": "markdown",
   "id": "b7f44e59",
   "metadata": {},
   "source": [
    "## Custom Variables"
   ]
  },
  {
   "cell_type": "code",
   "execution_count": 1,
   "id": "b76a6004",
   "metadata": {},
   "outputs": [],
   "source": [
    "lamdba_fxn_name = \"nfl_matchups_model\"\n",
    "api_name = 'chalkjuice_api'"
   ]
  },
  {
   "cell_type": "code",
   "execution_count": 2,
   "id": "52751d5c",
   "metadata": {},
   "outputs": [],
   "source": [
    "# List of AWS managed policy ARNs\n",
    "managed_policies = [\n",
    "    \"arn:aws:iam::aws:policy/AmazonAPIGatewayAdministrator\",\n",
    "    \"arn:aws:iam::aws:policy/AmazonAPIGatewayInvokeFullAccess\",\n",
    "    \"arn:aws:iam::aws:policy/service-role/AmazonAPIGatewayPushToCloudWatchLogs\",\n",
    "    \"arn:aws:iam::aws:policy/AmazonAthenaFullAccess\",\n",
    "    \"arn:aws:iam::aws:policy/AmazonDynamoDBFullAccess\",\n",
    "    \"arn:aws:iam::aws:policy/AmazonEC2ContainerRegistryFullAccess\",\n",
    "    \"arn:aws:iam::aws:policy/AmazonS3FullAccess\",\n",
    "    \"arn:aws:iam::aws:policy/AWSLambda_FullAccess\",\n",
    "]"
   ]
  },
  {
   "cell_type": "markdown",
   "id": "8bd69d49",
   "metadata": {},
   "source": [
    "## Dependencies"
   ]
  },
  {
   "cell_type": "code",
   "execution_count": 3,
   "id": "d471dc72",
   "metadata": {},
   "outputs": [],
   "source": [
    "import sys\n",
    "import os\n",
    "#!pip install dotenv\n",
    "# Add the root of your project (one level up from \"notebook\")\n",
    "sys.path.append(os.path.abspath(os.path.join(os.getcwd(), '..')))\n",
    "from packages.helpers.helpers import joel_boto"
   ]
  },
  {
   "cell_type": "markdown",
   "id": "1aa0cf0d",
   "metadata": {},
   "source": [
    "## Functions"
   ]
  },
  {
   "cell_type": "code",
   "execution_count": 4,
   "id": "07cdd9be",
   "metadata": {},
   "outputs": [],
   "source": [
    "def get_dependent_variables(lamdba_fxn_name):\n",
    "    # Naviagte to the directory i want to build in (same name as lambda)\n",
    "    path_docker = f\"../docker/{lamdba_fxn_name}\"\n",
    "\n",
    "    # Get full IAM role ARN from the name\n",
    "    role = jb.iam.get_role(RoleName=lamdba_fxn_name)\n",
    "    role_arn = role[\"Role\"][\"Arn\"]\n",
    "\n",
    "    # Used to connect lamba to the correct ECR repo\n",
    "    repo_uri = jb.get_ecr_repo_uri(lamdba_fxn_name)\n",
    "    repo_image_uri = repo_uri + ':latest'\n",
    "\n",
    "\n",
    "    return path_docker, role_arn, repo_uri, repo_image_uri"
   ]
  },
  {
   "cell_type": "markdown",
   "id": "565bc7f5",
   "metadata": {},
   "source": [
    "## Dependent Variables"
   ]
  },
  {
   "cell_type": "code",
   "execution_count": 5,
   "id": "09c04dde",
   "metadata": {},
   "outputs": [
    {
     "name": "stdout",
     "output_type": "stream",
     "text": [
      "running local credentials\n",
      "✅ Logged in to ECR successfully.\n",
      "✅ Connected to all clients successfully.\n"
     ]
    }
   ],
   "source": [
    "# Connect to custom AWS class\n",
    "jb = joel_boto()\n",
    "apigw = jb.apigw\n",
    "region = jb.region\n",
    "account_id = jb.account_id\n",
    "lambda_client = jb.lambda_client"
   ]
  },
  {
   "cell_type": "code",
   "execution_count": 6,
   "id": "c5f27397",
   "metadata": {},
   "outputs": [
    {
     "name": "stdout",
     "output_type": "stream",
     "text": [
      "⚠️ IAM Role 'nfl_matchups_model' already exists.\n"
     ]
    }
   ],
   "source": [
    "jb.create_lambda_iam_role(lamdba_fxn_name, managed_policies)"
   ]
  },
  {
   "cell_type": "code",
   "execution_count": 7,
   "id": "f1ee0685",
   "metadata": {},
   "outputs": [
    {
     "name": "stdout",
     "output_type": "stream",
     "text": [
      "Repository 'nfl_matchups_model' already exists.\n"
     ]
    }
   ],
   "source": [
    "# Create ECR Repository (one for each lambda fxn)\n",
    "jb.create_ecr_repository(lamdba_fxn_name)"
   ]
  },
  {
   "cell_type": "code",
   "execution_count": 8,
   "id": "b1dbb446",
   "metadata": {},
   "outputs": [],
   "source": [
    "# Grab Dependent variables\n",
    "path_docker, role_arn, repo_uri, repo_image_uri = get_dependent_variables(lamdba_fxn_name)"
   ]
  },
  {
   "cell_type": "markdown",
   "id": "66eaeaeb",
   "metadata": {},
   "source": [
    "## Build, Push, and Create Lambda"
   ]
  },
  {
   "cell_type": "code",
   "execution_count": 18,
   "id": "fa5898be",
   "metadata": {},
   "outputs": [
    {
     "name": "stdout",
     "output_type": "stream",
     "text": [
      "⚠️ Lambda function 'nfl_matchups_model' already exists. Exiting.\n"
     ]
    }
   ],
   "source": [
    "# Build Docker image and push to ECR\n",
    "jb.build_and_push_to_ECR(path_docker, repo_uri)\n",
    "\n",
    "# Create a Lambda fxn using Image in ECR\n",
    "jb.create_lambda_function(lamdba_fxn_name, role_arn, repo_image_uri)"
   ]
  },
  {
   "cell_type": "markdown",
   "id": "ea762d98",
   "metadata": {},
   "source": [
    "## Update Lambda if exists to the latest image in ECR"
   ]
  },
  {
   "cell_type": "code",
   "execution_count": 19,
   "id": "91eb869b",
   "metadata": {},
   "outputs": [
    {
     "name": "stdout",
     "output_type": "stream",
     "text": [
      "✅ Lambda updated: 2025-06-15T01:03:39.000+0000\n"
     ]
    }
   ],
   "source": [
    "# Update if already Exists\n",
    "jb.update_lambda_function(lamdba_fxn_name, repo_image_uri)"
   ]
  },
  {
   "cell_type": "markdown",
   "id": "3e8487ac",
   "metadata": {},
   "source": [
    "## API Gateway"
   ]
  },
  {
   "cell_type": "markdown",
   "id": "07aefeb8",
   "metadata": {},
   "source": [
    "### Create API"
   ]
  },
  {
   "cell_type": "code",
   "execution_count": null,
   "id": "128fd988",
   "metadata": {},
   "outputs": [
    {
     "name": "stdout",
     "output_type": "stream",
     "text": [
      "Created WebSocket API: 7aqddsnx56\n"
     ]
    }
   ],
   "source": [
    "# STEP 1: Create the WebSocket API\n",
    "api = apigw.create_api(\n",
    "    Name=api_name,\n",
    "    ProtocolType='WEBSOCKET',\n",
    "    RouteSelectionExpression='$request.body.action'\n",
    ")\n",
    "api_id = api['ApiId']"
   ]
  },
  {
   "cell_type": "markdown",
   "id": "57555505",
   "metadata": {},
   "source": [
    "### Create Routes and integrations"
   ]
  },
  {
   "cell_type": "code",
   "execution_count": 9,
   "id": "e31c37d2",
   "metadata": {},
   "outputs": [
    {
     "name": "stdout",
     "output_type": "stream",
     "text": [
      "Listing Lambda functions and ARNs:\n",
      "Name: api1_disconnect, ARN: arn:aws:lambda:us-east-2:026090519913:function:api1_disconnect\n",
      "Name: sleeper, ARN: arn:aws:lambda:us-east-2:026090519913:function:sleeper\n",
      "Name: api1_connect, ARN: arn:aws:lambda:us-east-2:026090519913:function:api1_connect\n",
      "Name: nfl_all_games, ARN: arn:aws:lambda:us-east-2:026090519913:function:nfl_all_games\n",
      "Name: nfl_matchups_model, ARN: arn:aws:lambda:us-east-2:026090519913:function:nfl_matchups_model\n"
     ]
    }
   ],
   "source": [
    "# List all lambda functions and their arns for copying into the next step\n",
    "jb.list_active_lambdas()"
   ]
  },
  {
   "cell_type": "code",
   "execution_count": 10,
   "id": "0416dceb",
   "metadata": {},
   "outputs": [],
   "source": [
    "# Replace from step above\n",
    "lambda_routes = {\n",
    "    '$connect':'arn:aws:lambda:us-east-2:026090519913:function:api1_connect',\n",
    "    '$disconnect':'arn:aws:lambda:us-east-2:026090519913:function:api1_disconnect',\n",
    "    'nfl_matchups_model': 'arn:aws:lambda:us-east-2:026090519913:function:nfl_matchups_model',\n",
    "    'nfl_all_games': 'arn:aws:lambda:us-east-2:026090519913:function:nfl_all_games'\n",
    "}"
   ]
  },
  {
   "cell_type": "code",
   "execution_count": null,
   "id": "fc75067b",
   "metadata": {},
   "outputs": [],
   "source": [
    "jb.create_routes_and_integrations(lambda_routes, api_id)"
   ]
  },
  {
   "cell_type": "markdown",
   "id": "fe3bfbc6",
   "metadata": {},
   "source": [
    "### Create Permissions"
   ]
  },
  {
   "cell_type": "code",
   "execution_count": null,
   "id": "77c0fdf7",
   "metadata": {},
   "outputs": [
    {
     "name": "stdout",
     "output_type": "stream",
     "text": [
      "Connected route '$connect' to Lambda\n",
      "Connected route '$disconnect' to Lambda\n",
      "Connected route 'nfl_matchups_model' to Lambda\n",
      "Connected route 'nfl_all_games' to Lambda\n"
     ]
    }
   ],
   "source": [
    "jb.create_lambda_permissions(lambda_routes, api_id, api_name)"
   ]
  },
  {
   "cell_type": "markdown",
   "id": "c4bc7a0a",
   "metadata": {},
   "source": [
    "#### Create Deployment"
   ]
  },
  {
   "cell_type": "code",
   "execution_count": 11,
   "id": "ef5c5398",
   "metadata": {},
   "outputs": [
    {
     "ename": "NameError",
     "evalue": "name 'api_id' is not defined",
     "output_type": "error",
     "traceback": [
      "\u001b[31m---------------------------------------------------------------------------\u001b[39m",
      "\u001b[31mNameError\u001b[39m                                 Traceback (most recent call last)",
      "\u001b[36mCell\u001b[39m\u001b[36m \u001b[39m\u001b[32mIn[11]\u001b[39m\u001b[32m, line 1\u001b[39m\n\u001b[32m----> \u001b[39m\u001b[32m1\u001b[39m stage = apigw.create_deployment(ApiId=\u001b[43mapi_id\u001b[49m)\n",
      "\u001b[31mNameError\u001b[39m: name 'api_id' is not defined"
     ]
    }
   ],
   "source": [
    "stage = apigw.create_deployment(ApiId=api_id)"
   ]
  },
  {
   "cell_type": "markdown",
   "id": "e7658025",
   "metadata": {},
   "source": [
    "#### Create Stage"
   ]
  },
  {
   "cell_type": "code",
   "execution_count": null,
   "id": "b4418b32",
   "metadata": {},
   "outputs": [],
   "source": [
    "apigw.create_stage(\n",
    "    ApiId=api_id,\n",
    "    StageName='prod',\n",
    "    DeploymentId=stage['DeploymentId']\n",
    ")\n",
    "print(f\"Deployed API to 'prod' stage\")"
   ]
  },
  {
   "cell_type": "markdown",
   "id": "6f5f660e",
   "metadata": {},
   "source": [
    "#### Update Stage"
   ]
  },
  {
   "cell_type": "code",
   "execution_count": null,
   "id": "58d1069b",
   "metadata": {},
   "outputs": [
    {
     "data": {
      "text/plain": [
       "{'ResponseMetadata': {'RequestId': '76830ab0-c6eb-4224-8f30-9b98e4fcb54b',\n",
       "  'HTTPStatusCode': 200,\n",
       "  'HTTPHeaders': {'date': 'Sat, 14 Jun 2025 12:14:00 GMT',\n",
       "   'content-type': 'application/json',\n",
       "   'content-length': '342',\n",
       "   'connection': 'keep-alive',\n",
       "   'x-amzn-requestid': '76830ab0-c6eb-4224-8f30-9b98e4fcb54b',\n",
       "   'access-control-allow-origin': '*',\n",
       "   'x-amz-apigw-id': 'MJ0dXE8siYcEBEw=',\n",
       "   'access-control-expose-headers': 'x-amzn-RequestId,x-amzn-ErrorType,x-amzn-ErrorMessage,Date',\n",
       "   'x-amzn-trace-id': 'Root=1-684d6788-48a36d285be593056be612c2'},\n",
       "  'RetryAttempts': 0},\n",
       " 'CreatedDate': datetime.datetime(2025, 6, 14, 11, 12, 11, tzinfo=tzutc()),\n",
       " 'DefaultRouteSettings': {'DataTraceEnabled': True,\n",
       "  'DetailedMetricsEnabled': False,\n",
       "  'LoggingLevel': 'ERROR'},\n",
       " 'DeploymentId': 'ezacpq',\n",
       " 'LastUpdatedDate': datetime.datetime(2025, 6, 14, 12, 14, tzinfo=tzutc()),\n",
       " 'RouteSettings': {},\n",
       " 'StageName': 'prod',\n",
       " 'StageVariables': {},\n",
       " 'Tags': {}}"
      ]
     },
     "execution_count": 22,
     "metadata": {},
     "output_type": "execute_result"
    }
   ],
   "source": [
    "deployment_id = stage['DeploymentId']\n",
    "stage_name = 'prod'\n",
    "\n",
    "apigw.update_stage(\n",
    "    ApiId=api_id,\n",
    "    StageName=stage_name,\n",
    "    DeploymentId=deployment_id\n",
    ")"
   ]
  }
 ],
 "metadata": {
  "kernelspec": {
   "display_name": "Python 3",
   "language": "python",
   "name": "python3"
  },
  "language_info": {
   "codemirror_mode": {
    "name": "ipython",
    "version": 3
   },
   "file_extension": ".py",
   "mimetype": "text/x-python",
   "name": "python",
   "nbconvert_exporter": "python",
   "pygments_lexer": "ipython3",
   "version": "3.12.9"
  }
 },
 "nbformat": 4,
 "nbformat_minor": 5
}
