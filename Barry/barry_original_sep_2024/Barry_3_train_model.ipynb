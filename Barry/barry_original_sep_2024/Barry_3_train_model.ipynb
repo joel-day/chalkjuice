{
 "cells": [
  {
   "cell_type": "markdown",
   "metadata": {},
   "source": [
    "# Train model"
   ]
  },
  {
   "cell_type": "code",
   "execution_count": 41,
   "metadata": {},
   "outputs": [],
   "source": [
    "import pandas as pd\n",
    "import numpy as np\n",
    "import pymysql as mysql\n",
    "import os\n",
    "from datetime import datetime\n",
    "import warnings\n",
    "import time\n",
    "from sklearn.model_selection import train_test_split\n",
    "from sklearn.preprocessing import StandardScaler\n",
    "import matplotlib.pyplot as plt\n",
    "import seaborn as sns\n",
    "from sklearn.ensemble import RandomForestRegressor\n",
    "from scipy.stats import pearsonr\n",
    "from sklearn.metrics import mean_squared_error\n",
    "import joblib\n",
    "from sklearn.linear_model import LinearRegression\n",
    "from sklearn.metrics import mean_squared_error, r2_score\n",
    "\n",
    "# Suppress all warnings\n",
    "warnings.filterwarnings(\"ignore\")\n"
   ]
  },
  {
   "cell_type": "code",
   "execution_count": 42,
   "metadata": {},
   "outputs": [],
   "source": [
    "df = pd.read_csv('chalk_22_model.csv')"
   ]
  },
  {
   "cell_type": "code",
   "execution_count": 43,
   "metadata": {},
   "outputs": [],
   "source": [
    "## outliers\n",
    "def handle_outliers(df, feature):\n",
    "\n",
    "    # calculate the mean and standard deviation of the feature\n",
    "    mean = df[feature].mean()\n",
    "    std = df[feature].std()\n",
    "\n",
    "    # define the threshold for outliers (3 standard deviations)\n",
    "    threshold = 3 * std\n",
    "\n",
    "    # save the indices of outliers\n",
    "    outlier_indices = df[(df[feature] < mean - threshold) | (df[feature] > mean + threshold)].index\n",
    "   \n",
    "   # replace outliers with NaN values\n",
    "    #df.loc[outlier_indices, feature] = np.nan\n",
    "    #print(f\"Number of rows dropped for feature '{feature}': {len(outlier_indices)}\")\n",
    "\n",
    "    # you can also remove outliers from the DataFrame completely\n",
    "    df = df.drop(outlier_indices)\n",
    "\n",
    "    return df\n"
   ]
  },
  {
   "cell_type": "code",
   "execution_count": 44,
   "metadata": {},
   "outputs": [],
   "source": [
    "def preprocessing(df, target):\n",
    "\n",
    "    # outliers\n",
    "    for feature in df.select_dtypes(include=[np.number]).columns:\n",
    "        df = handle_outliers(df, feature)\n",
    "\n",
    "    # partitioning\n",
    "    X = df.drop(columns=[target])\n",
    "    y = df[target]\n",
    "    X_train, X_remaining, y_train, y_remaining = train_test_split(X, y, test_size=0.2, random_state=42)\n",
    "    X_val, X_test, y_val, y_test = train_test_split(X_remaining, y_remaining, test_size=0.5, random_state=42)\n",
    "\n",
    "    # scaling\n",
    "    standard_scaler = StandardScaler()\n",
    "    X_train = pd.DataFrame(standard_scaler.fit_transform(X_train), columns=X_train.columns, index=X_train.index)\n",
    "    X_val   = pd.DataFrame(standard_scaler.transform(X_val), columns=X_val.columns, index=X_val.index)\n",
    "    X_test  = pd.DataFrame(standard_scaler.transform(X_test), columns=X_test.columns, index=X_test.index)\n",
    "    scaler_filename = 'chalk_22_scaler.pkl'\n",
    "    joblib.dump(standard_scaler, scaler_filename)\n",
    "\n",
    "\n",
    "    # feature importance\n",
    "    #model = RandomForestRegressor(random_state=42)\n",
    "    #clf = model.fit(X_train, y_train)\n",
    "    #feature_importance(clf, X_train)\n",
    "\n",
    "    # feature independece\n",
    "    numerical_cols = X_test.select_dtypes(include=[float, int])\n",
    "    results_list = []\n",
    "    # iterate over all combinations of numerical columns\n",
    "    for i, col1 in enumerate(numerical_cols.columns):\n",
    "        for col2 in numerical_cols.columns[i+1:]:\n",
    "            x = numerical_cols[col1]\n",
    "            y = numerical_cols[col2]\n",
    "            # calculate Pearson's correlation coefficient and p-value\n",
    "            corr_coefficient, p_value = pearsonr(x, y)\n",
    "            # append the results to the list\n",
    "            results_list.append({'Variable1': col1, 'Variable2': col2, 'Correlation Coefficient': corr_coefficient, 'P-Value': p_value})\n",
    " \n",
    "    # convert the list to a DataFrame\n",
    "    results_df = pd.DataFrame(results_list)\n",
    "    feature_independece_df = results_df.sort_values(by='Correlation Coefficient', ascending=False)\n",
    "\n",
    "    return X_train, X_test, y_train, y_test, X_val, y_val, feature_independece_df"
   ]
  },
  {
   "cell_type": "code",
   "execution_count": 45,
   "metadata": {},
   "outputs": [],
   "source": [
    "chalk_22_model_pts_df = df.drop(columns=['game_result', 'offense', 'defense'])\n",
    "chalk_22_model_pts_df['date'] = pd.to_datetime(chalk_22_model_pts_df['date'])\n",
    "for column in chalk_22_model_pts_df.columns:\n",
    "    if column != 'date' and column != 'offense' and column != 'defense':\n",
    "        chalk_22_model_pts_df[column] = chalk_22_model_pts_df[column].astype('int')\n",
    "chalk_22_model_pts_df.dtypes\n",
    "chalk_22_model_pts_df = chalk_22_model_pts_df.drop(columns=['date'])\n",
    "X_train, X_test, y_train, y_test, X_val, y_val, feature_independece_df = preprocessing(chalk_22_model_pts_df, 'game_team_pts')"
   ]
  },
  {
   "cell_type": "code",
   "execution_count": 46,
   "metadata": {},
   "outputs": [
    {
     "data": {
      "text/plain": [
       "drives                              float64\n",
       "game_time_off                       float64\n",
       "penalties                           float64\n",
       "passing_yds                         float64\n",
       "rushing_yds                         float64\n",
       "passing_tds_total_yards             float64\n",
       "rushing_tds_total_yards             float64\n",
       "pass_play_percentage                float64\n",
       "field_goal_percentage               float64\n",
       "clutch_conversion_percentage        float64\n",
       "passing_sacks_total                 float64\n",
       "passing_int                         float64\n",
       "rushing_fmb                         float64\n",
       "def_passing_yds                     float64\n",
       "def_rushing_yds                     float64\n",
       "def_passing_tds_total_yards         float64\n",
       "def_rushing_tds_total_yards         float64\n",
       "def_game_time_off                   float64\n",
       "def_drives                          float64\n",
       "def_clutch_conversion_percentage    float64\n",
       "def_passing_sacks_total             float64\n",
       "def_passing_int                     float64\n",
       "def_rushing_fmb                     float64\n",
       "dtype: object"
      ]
     },
     "execution_count": 46,
     "metadata": {},
     "output_type": "execute_result"
    }
   ],
   "source": [
    "X_val.dtypes"
   ]
  },
  {
   "cell_type": "code",
   "execution_count": 47,
   "metadata": {},
   "outputs": [],
   "source": [
    "\n",
    "from sklearn.linear_model import LinearRegression\n",
    "import statsmodels.api as sm\n",
    "import matplotlib.pyplot as plt\n",
    "\n",
    "# Fit the model\n",
    "model = LinearRegression()\n",
    "model.fit(X_train, y_train)\n",
    "joblib.dump(model, 'lr_model.pkl')\n",
    "predictions = model.predict(X_val)"
   ]
  },
  {
   "cell_type": "code",
   "execution_count": 48,
   "metadata": {},
   "outputs": [
    {
     "data": {
      "text/plain": [
       "array([19.42078644, 22.08985203, 14.6435549 , ..., 23.87580702,\n",
       "       22.59669962, 18.56763621])"
      ]
     },
     "execution_count": 48,
     "metadata": {},
     "output_type": "execute_result"
    }
   ],
   "source": [
    "predictions"
   ]
  },
  {
   "cell_type": "code",
   "execution_count": 49,
   "metadata": {},
   "outputs": [
    {
     "data": {
      "text/plain": [
       "['lr_model.pkl']"
      ]
     },
     "execution_count": 49,
     "metadata": {},
     "output_type": "execute_result"
    }
   ],
   "source": [
    "# Initialize the Linear Regression model\n",
    "lr_model = LinearRegression()\n",
    "\n",
    "# Fit the model on the training data\n",
    "lr_model.fit(X_train, y_train)\n",
    "joblib.dump(lr_model, 'lr_model.pkl')\n"
   ]
  }
 ],
 "metadata": {
  "kernelspec": {
   "display_name": "Python 3",
   "language": "python",
   "name": "python3"
  },
  "language_info": {
   "codemirror_mode": {
    "name": "ipython",
    "version": 3
   },
   "file_extension": ".py",
   "mimetype": "text/x-python",
   "name": "python",
   "nbconvert_exporter": "python",
   "pygments_lexer": "ipython3",
   "version": "3.12.4"
  }
 },
 "nbformat": 4,
 "nbformat_minor": 2
}
